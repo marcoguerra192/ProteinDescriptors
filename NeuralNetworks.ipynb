{
 "cells": [
  {
   "cell_type": "markdown",
   "id": "4fe7181b-d0d0-4688-b30a-11c4e88c354a",
   "metadata": {},
   "source": [
    "# Neural Networks"
   ]
  },
  {
   "cell_type": "code",
   "execution_count": 2,
   "id": "f2580a92-4b97-42ae-ba49-c64ff23c6b21",
   "metadata": {},
   "outputs": [],
   "source": [
    "%load_ext IPython.extensions.autoreload\n",
    "%autoreload 2"
   ]
  },
  {
   "cell_type": "code",
   "execution_count": 3,
   "id": "5aece52f-fdfc-4340-8867-ca86688e1d0b",
   "metadata": {},
   "outputs": [],
   "source": [
    "import sys,os\n",
    "from pathlib import Path\n",
    "import numpy as np\n",
    "import matplotlib.pyplot as plt"
   ]
  },
  {
   "cell_type": "code",
   "execution_count": 4,
   "id": "c3d5500a-859d-4dda-946d-38c2a9e3b4ae",
   "metadata": {},
   "outputs": [],
   "source": [
    "import numpy as np\n",
    "from src.data_reader import DataSource, read_vertices_VTK, num_vertices_VTK\n",
    "from src.descriptors.dscs_driver import compute_descriptors\n",
    "\n",
    "from src.utils import get_free_id, write_jsonl, clear_jsonl"
   ]
  },
  {
   "cell_type": "markdown",
   "id": "f5349bc0-083d-43c3-9bde-2f010604ba29",
   "metadata": {},
   "source": [
    "!pip install numpy==1.23.0"
   ]
  },
  {
   "cell_type": "code",
   "execution_count": 5,
   "id": "9b8b4bcb-10f6-4bb7-9ce3-e616a1c7835c",
   "metadata": {},
   "outputs": [],
   "source": [
    "from ripser import ripser\n",
    "from persim import plot_diagrams"
   ]
  },
  {
   "cell_type": "code",
   "execution_count": 6,
   "id": "de02c6fa-bf92-4d8f-ac84-e0903cae77e0",
   "metadata": {},
   "outputs": [],
   "source": [
    "from gudhi import RipsComplex, AlphaComplex, plot_persistence_diagram\n",
    "from gudhi.representations import ProminentPoints\n",
    "from gudhi.representations import PersistenceImage"
   ]
  },
  {
   "cell_type": "code",
   "execution_count": 7,
   "id": "3c950874-10d9-4bb1-8ce0-dbcc9d19782e",
   "metadata": {},
   "outputs": [],
   "source": [
    "from sklearn.decomposition import PCA, KernelPCA\n",
    "from sklearn.ensemble import RandomForestClassifier\n",
    "from sklearn.mixture import GaussianMixture as GMM\n",
    "from sklearn.model_selection import StratifiedShuffleSplit\n",
    "from sklearn.metrics import accuracy_score, classification_report\n",
    "from sklearn.ensemble import AdaBoostClassifier\n",
    "from sklearn.preprocessing import StandardScaler\n",
    "from sklearn.metrics import confusion_matrix, precision_recall_curve\n",
    "\n",
    "import joblib"
   ]
  },
  {
   "cell_type": "code",
   "execution_count": 8,
   "id": "387eaee8-2a2b-4b06-9fb8-8b92a8bbec83",
   "metadata": {},
   "outputs": [],
   "source": [
    "import csv"
   ]
  },
  {
   "cell_type": "code",
   "execution_count": 9,
   "id": "985fa691-8a41-45fc-8bea-122e196674be",
   "metadata": {},
   "outputs": [],
   "source": [
    "import torch\n",
    "import torch.nn as nn\n",
    "import torch.optim as optim\n",
    "from torch.utils.data import DataLoader, TensorDataset\n",
    "from torchinfo import summary as torch_summary\n",
    "\n",
    "from IPython.display import display, clear_output\n",
    "\n",
    "from src.learning.nn import SimpleNN, train, predict, Autoencoder"
   ]
  },
  {
   "cell_type": "markdown",
   "id": "57a3dd13-e0be-4ce6-83cb-91d9eac86859",
   "metadata": {},
   "source": [
    "### Reload descriptors"
   ]
  },
  {
   "cell_type": "code",
   "execution_count": 72,
   "id": "9eea169f-77d1-4442-8ab9-274d2d178581",
   "metadata": {},
   "outputs": [
    {
     "name": "stdout",
     "output_type": "stream",
     "text": [
      "(9244, 96) (9244,)\n"
     ]
    }
   ],
   "source": [
    "# load descriptors\n",
    "\n",
    "Model='quantiles'\n",
    "Model='AlphaProminent'\n",
    "\n",
    "# data base path\n",
    "data_base = './data/data/'\n",
    "\n",
    "save_descs_path = os.path.join(data_base,'saved_descriptors/train_set/')\n",
    "\n",
    "data = np.load(os.path.join(save_descs_path,Model+'Data.npy'))\n",
    "labels = np.load(os.path.join(save_descs_path,Model+'Labels.npy'))\n",
    "\n",
    "data = np.load('ThisData.npy')\n",
    "\n",
    "print(data.shape, labels.shape)"
   ]
  },
  {
   "cell_type": "markdown",
   "id": "79134771-8a28-4b27-8b0d-2cb6e920d6f8",
   "metadata": {},
   "source": [
    "## Normalization"
   ]
  },
  {
   "cell_type": "code",
   "execution_count": 38,
   "id": "7b02ff46-64cb-4b2f-a302-74af5628eb45",
   "metadata": {},
   "outputs": [
    {
     "data": {
      "text/plain": [
       "(9244, 75)"
      ]
     },
     "execution_count": 38,
     "metadata": {},
     "output_type": "execute_result"
    }
   ],
   "source": [
    "SSc = StandardScaler()\n",
    "data = SSc.fit_transform(data)\n",
    "data.shape"
   ]
  },
  {
   "cell_type": "markdown",
   "id": "2b08af96-826b-4f2c-b2ed-520cbbe579b1",
   "metadata": {},
   "source": [
    "# Cross-Validation"
   ]
  },
  {
   "cell_type": "code",
   "execution_count": 356,
   "id": "3afd91af-9c12-4ff8-8609-0be4a4444a22",
   "metadata": {},
   "outputs": [],
   "source": [
    "StrShSp = StratifiedShuffleSplit(n_splits=15, train_size=0.8, random_state=42)\n",
    "\n",
    "# get indices of split\n",
    "train_idx, val_idx = next(StrShSp.split(data, labels))\n",
    "\n",
    "train_data = data[train_idx,:]\n",
    "train_labels = labels[train_idx]\n",
    "\n",
    "val_data = data[val_idx]\n",
    "val_labels = labels[val_idx]\n",
    "\n",
    "# log file for run\n",
    "run_log = './runs/trainings/runs.jsonl'\n",
    "# get a new run id\n",
    "run_id = get_free_id(run_log)\n"
   ]
  },
  {
   "cell_type": "code",
   "execution_count": 357,
   "id": "8d680810-7a5c-4d60-8517-4a46ccc6ca6b",
   "metadata": {},
   "outputs": [
    {
     "data": {
      "text/plain": [
       "(77274,)"
      ]
     },
     "execution_count": 357,
     "metadata": {},
     "output_type": "execute_result"
    }
   ],
   "source": [
    "train_idx.shape"
   ]
  },
  {
   "cell_type": "code",
   "execution_count": 358,
   "id": "f01f26c0-0ad1-40d6-a598-387f1cc01133",
   "metadata": {},
   "outputs": [
    {
     "data": {
      "text/plain": [
       "<BarContainer object of 100 artists>"
      ]
     },
     "execution_count": 358,
     "metadata": {},
     "output_type": "execute_result"
    },
    {
     "data": {
      "image/png": "[encoded data removed]",
      "text/plain": [
       "<Figure size 432x288 with 1 Axes>"
      ]
     },
     "metadata": {
      "needs_background": "light"
     },
     "output_type": "display_data"
    }
   ],
   "source": [
    "counts, bins = np.histogram(train_labels, bins=100)\n",
    "plt.bar(bins[:-1],counts)"
   ]
  },
  {
   "cell_type": "code",
   "execution_count": 359,
   "id": "f6b07b80-0208-499a-a6f3-0d5561424e8f",
   "metadata": {},
   "outputs": [
    {
     "data": {
      "text/plain": [
       "<BarContainer object of 100 artists>"
      ]
     },
     "execution_count": 359,
     "metadata": {},
     "output_type": "execute_result"
    },
    {
     "data": {
      "image/png": "[encoded data removed]",
      "text/plain": [
       "<Figure size 432x288 with 1 Axes>"
      ]
     },
     "metadata": {
      "needs_background": "light"
     },
     "output_type": "display_data"
    }
   ],
   "source": [
    "counts, bins = np.histogram(val_labels, bins=100)\n",
    "plt.bar(bins[:-1],counts)"
   ]
  },
  {
   "cell_type": "code",
   "execution_count": 360,
   "id": "3ec4ccbf-11bd-46f4-a67f-4fdbbc95bf16",
   "metadata": {},
   "outputs": [
    {
     "data": {
      "text/plain": [
       "array([  314,   314,   314,   314,   314,   314,   314,   314,   314,\n",
       "         314,   321,   321,   321,   321,   335,   335,   342,   349,\n",
       "         356,   363,   370,   370,   370,   370,   370,   398,   398,\n",
       "         405,   419,   419,   426,   426,   433,   447,   454,   461,\n",
       "         475,   482,   489,   531,   538,   545,   559,   594,   601,\n",
       "         608,   643,   643,   664,   671,   678,   678,   699,   699,\n",
       "         706,   706,   727,   762,   783,   790,   797,   811,   811,\n",
       "         818,   825,   832,   832,   846,   860,   923,   951,   965,\n",
       "         965,   979,  1007,  1014,  1021,  1063,  1105,  1112,  1126,\n",
       "        1133,  1182,  1189,  1196,  1203,  1245,  1301,  1350,  1378,\n",
       "        1721,  1861,  1980,  3912,  5232,  6304, 16432])"
      ]
     },
     "execution_count": 360,
     "metadata": {},
     "output_type": "execute_result"
    }
   ],
   "source": [
    "_, counts = np.unique(labels,return_counts=True)\n",
    "np.sort(counts)"
   ]
  },
  {
   "cell_type": "code",
   "execution_count": 361,
   "id": "a0ea9ed5-a3ea-4b53-8faf-552b67389737",
   "metadata": {},
   "outputs": [
    {
     "data": {
      "text/plain": [
       "(97,)"
      ]
     },
     "execution_count": 361,
     "metadata": {},
     "output_type": "execute_result"
    }
   ],
   "source": [
    "np.unique(val_labels).shape"
   ]
  },
  {
   "cell_type": "markdown",
   "id": "323b289c-7256-41ed-b2c5-7aec0b77d4e4",
   "metadata": {},
   "source": [
    "# Classifier"
   ]
  },
  {
   "cell_type": "code",
   "execution_count": null,
   "id": "f7fc75b2-52fa-4d2f-a32a-82b2bbef09d2",
   "metadata": {},
   "outputs": [],
   "source": []
  },
  {
   "cell_type": "markdown",
   "id": "9654e98c-137a-4e7b-b2c3-0fa3c382d386",
   "metadata": {},
   "source": [
    "### NN"
   ]
  },
  {
   "cell_type": "code",
   "execution_count": 362,
   "id": "49a6093e-1089-466d-af0c-f331d63b5484",
   "metadata": {},
   "outputs": [
    {
     "name": "stdout",
     "output_type": "stream",
     "text": [
      "Device =  cuda\n"
     ]
    }
   ],
   "source": [
    "device = torch.device(\"cuda\" if torch.cuda.is_available() else \"cpu\")\n",
    "\n",
    "print('Device = ',device)\n",
    "\n",
    "X_train = torch.tensor(train_data, dtype=torch.float32)\n",
    "y_train = torch.tensor(train_labels, dtype=torch.long)\n",
    "\n",
    "X_val = torch.tensor(val_data, dtype=torch.float32)\n",
    "y_val = torch.tensor(val_labels, dtype=torch.long)\n",
    "\n",
    "#WX_val = torch.tensor(data, dtype=torch.float32)\n",
    "#Wy_val = torch.tensor(labels, dtype=torch.long)\n",
    "\n",
    "\n",
    "\n",
    "# data loader\n",
    "train_loader = DataLoader(TensorDataset(X_train, y_train), batch_size=128, shuffle=True)\n",
    "val_loader = DataLoader(TensorDataset(X_val, y_val), batch_size=128)\n",
    "#whole_data = DataLoader(TensorDataset(WX_val, Wy_val), batch_size=128)"
   ]
  },
  {
   "cell_type": "code",
   "execution_count": 363,
   "id": "17e64915-8ca4-4f2f-9f9b-179245e11afd",
   "metadata": {
    "scrolled": true
   },
   "outputs": [],
   "source": [
    "# Model, Loss, and Optimizer\n",
    "\n",
    "m = train_data.shape[1]\n",
    "c = np.unique(labels).shape[0]\n",
    "\n",
    "# Model save path\n",
    "trained_model_path = './trained_models/nn/best_weights.pth'\n",
    "\n",
    "model = SimpleNN(m, c)"
   ]
  },
  {
   "cell_type": "code",
   "execution_count": 364,
   "id": "f9772835-f33b-46c2-8c5b-7c839fe20181",
   "metadata": {
    "scrolled": true
   },
   "outputs": [
    {
     "data": {
      "image/png": "[encoded data removed]",
      "text/plain": [
       "<Figure size 864x288 with 2 Axes>"
      ]
     },
     "metadata": {
      "needs_background": "light"
     },
     "output_type": "display_data"
    },
    {
     "name": "stdout",
     "output_type": "stream",
     "text": [
      "Epoch 2000, Validation Loss: 0.1653\n"
     ]
    }
   ],
   "source": [
    "summary = torch_summary(model,None)\n",
    "\n",
    "try: \n",
    "    pass\n",
    "    #model.load_state_dict(torch.load(trained_model_path))\n",
    "except:\n",
    "    pass\n",
    "criterion = nn.CrossEntropyLoss()  # Cross-entropy loss\n",
    "optimizer = optim.Adam(model.parameters(), lr=4e-4, weight_decay=1e-4)  # Adam optimizer\n",
    "\n",
    "epochs = 2000\n",
    "# Early Stopping Parameters\n",
    "patience = int(epochs/10)  # Stop if no improvement for 'patience' epochs\n",
    "\n",
    "params = {'id':run_id , 'model':str(type(model).__name__) , 'epochs':epochs , 'patience':patience , \\\n",
    "          'optimizer':str(type(optimizer).__name__) , 'loss':str(type(criterion).__name__) , \\\n",
    "         'model_summary':[str(summary)]}\n",
    "\n",
    "\n",
    "train(epochs, model, criterion, optimizer, train_loader, val_loader, trained_model_path, patience)"
   ]
  },
  {
   "cell_type": "markdown",
   "id": "3eda8b49-cd55-48d9-94cb-7d9d6e09bd9c",
   "metadata": {},
   "source": [
    "#### Good values!\n",
    "\n",
    "we get a good training with dropout 25%, input to 50, 50 to 50, 50 to output\n",
    "with learning rate 5 10-5 and decay 1e-4"
   ]
  },
  {
   "cell_type": "code",
   "execution_count": 23,
   "id": "c8ff3f74-a9ce-4e0b-afc4-55e89f80a068",
   "metadata": {},
   "outputs": [
    {
     "data": {
      "text/plain": [
       "0.24958899822728386"
      ]
     },
     "execution_count": 23,
     "metadata": {},
     "output_type": "execute_result"
    }
   ],
   "source": [
    "model.eval()\n",
    "\n",
    "        \n",
    "val_loss = 0.0\n",
    "with torch.no_grad():\n",
    "    for X_batch, y_batch in val_loader:\n",
    "        outputs = model(X_batch)\n",
    "        loss = criterion(outputs, y_batch)\n",
    "        val_loss += loss.item()\n",
    "\n",
    "\n",
    "val_loss /= len(val_loader)\n",
    "val_loss"
   ]
  },
  {
   "cell_type": "code",
   "execution_count": 15,
   "id": "4429ac83-dff5-418c-b6d0-5a1cf2972b7f",
   "metadata": {},
   "outputs": [
    {
     "ename": "NameError",
     "evalue": "name 'device' is not defined",
     "output_type": "error",
     "traceback": [
      "\u001b[0;31m---------------------------------------------------------------------------\u001b[0m",
      "\u001b[0;31mNameError\u001b[0m                                 Traceback (most recent call last)",
      "Cell \u001b[0;32mIn[15], line 6\u001b[0m\n\u001b[1;32m      4\u001b[0m model \u001b[38;5;241m=\u001b[39m SimpleNN(m, c)\n\u001b[1;32m      5\u001b[0m model\u001b[38;5;241m.\u001b[39mload_state_dict(torch\u001b[38;5;241m.\u001b[39mload(trained_model_path))\n\u001b[0;32m----> 6\u001b[0m model\u001b[38;5;241m.\u001b[39mto(\u001b[43mdevice\u001b[49m)\n\u001b[1;32m      7\u001b[0m model\u001b[38;5;241m.\u001b[39meval()\n",
      "\u001b[0;31mNameError\u001b[0m: name 'device' is not defined"
     ]
    }
   ],
   "source": []
  },
  {
   "cell_type": "code",
   "execution_count": 208,
   "id": "c21dbd7b-946a-4b86-b3c8-db60cc78e621",
   "metadata": {},
   "outputs": [],
   "source": [
    "model = SimpleNN(m, c)\n",
    "model.load_state_dict(torch.load(trained_model_path))\n",
    "model.to(device)\n",
    "model.eval()\n",
    "\n",
    "pred_labels = predict(model, val_loader, device)"
   ]
  },
  {
   "cell_type": "code",
   "execution_count": 367,
   "id": "9f792729-59ee-4f7e-8b27-0d833d90f61f",
   "metadata": {},
   "outputs": [],
   "source": [
    "model.to(device)\n",
    "model.eval()\n",
    "\n",
    "pred_labels = predict(model, val_loader, device)\n",
    "#pred_labels = predict(model, whole_data, device)"
   ]
  },
  {
   "cell_type": "markdown",
   "id": "3d2cb38c-eb07-4429-8bfb-972edf2dd400",
   "metadata": {},
   "source": [
    "# Scoring"
   ]
  },
  {
   "cell_type": "code",
   "execution_count": 368,
   "id": "864bca22-9661-4ab0-893e-94c68c4fc8b0",
   "metadata": {},
   "outputs": [
    {
     "name": "stdout",
     "output_type": "stream",
     "text": [
      "0.9420777472954087\n"
     ]
    }
   ],
   "source": [
    "acc = accuracy_score(val_labels, pred_labels)\n",
    "#acc = accuracy_score(labels, pred_labels)\n",
    "\n",
    "#params.update( {'accuracy':acc} )\n",
    "#write_jsonl(run_log, params)\n",
    "print(acc)"
   ]
  },
  {
   "cell_type": "code",
   "execution_count": 369,
   "id": "1ccc9a80-1e33-497b-9682-3799fd7491d6",
   "metadata": {
    "scrolled": true
   },
   "outputs": [
    {
     "name": "stdout",
     "output_type": "stream",
     "text": [
      "              precision    recall  f1-score   support\n",
      "\n",
      "           0       1.00      1.00      1.00       201\n",
      "           1       1.00      1.00      1.00        64\n",
      "           2       0.98      1.00      0.99        84\n",
      "           3       0.99      1.00      0.99        89\n",
      "           4       0.91      1.00      0.95        81\n",
      "           5       1.00      0.99      1.00       238\n",
      "           6       1.00      1.00      1.00        95\n",
      "           7       1.00      0.98      0.99       165\n",
      "           8       1.00      1.00      1.00      3286\n",
      "           9       0.90      1.00      0.95       152\n",
      "          10       1.00      1.00      1.00        80\n",
      "          11       1.00      1.00      1.00       120\n",
      "          12       1.00      1.00      1.00        74\n",
      "          13       1.00      1.00      1.00        91\n",
      "          14       0.75      0.84      0.79       782\n",
      "          15       0.97      1.00      0.99       185\n",
      "          16       1.00      0.97      0.98       276\n",
      "          17       1.00      0.96      0.98       222\n",
      "          18       1.00      0.99      0.99       166\n",
      "          19       1.00      0.93      0.97       119\n",
      "          20       1.00      1.00      1.00        70\n",
      "          21       0.91      0.91      0.91       164\n",
      "          22       0.97      1.00      0.99       141\n",
      "          23       0.99      1.00      0.99        74\n",
      "          24       1.00      1.00      1.00        74\n",
      "          25       0.98      1.00      0.99       260\n",
      "          26       0.95      1.00      0.98        63\n",
      "          27       1.00      1.00      1.00        64\n",
      "          28       1.00      1.00      1.00        85\n",
      "          29       0.98      1.00      0.99        80\n",
      "          30       1.00      1.00      1.00        64\n",
      "          31       0.91      0.78      0.84       106\n",
      "          32       1.00      0.79      0.89       190\n",
      "          33       1.00      0.99      1.00       236\n",
      "          34       0.88      0.65      0.74       162\n",
      "          35       1.00      1.00      1.00        92\n",
      "          36       1.00      1.00      1.00        71\n",
      "          37       1.00      1.00      1.00       227\n",
      "          38       1.00      1.00      1.00       108\n",
      "          39       0.84      1.00      0.91        87\n",
      "          40       0.58      0.85      0.69       193\n",
      "          41       0.85      1.00      0.92       193\n",
      "          42       1.00      1.00      1.00        63\n",
      "          43       1.00      0.78      0.88       158\n",
      "          44       1.00      1.00      1.00        63\n",
      "          45       1.00      1.00      1.00       213\n",
      "          46       1.00      1.00      1.00       122\n",
      "          47       0.86      1.00      0.93       112\n",
      "          48       1.00      1.00      1.00        98\n",
      "          49       0.82      0.68      0.75       129\n",
      "          50       1.00      1.00      1.00        63\n",
      "          51       0.96      0.99      0.98       159\n",
      "          52       0.98      1.00      0.99       166\n",
      "          53       0.99      0.95      0.97       134\n",
      "          54       1.00      1.00      1.00       239\n",
      "          55       1.00      1.00      1.00        96\n",
      "          56       0.81      0.91      0.85      1046\n",
      "          57       1.00      1.00      1.00        72\n",
      "          58       1.00      1.00      1.00        63\n",
      "          59       1.00      1.00      1.00       136\n",
      "          60       1.00      1.00      1.00       162\n",
      "          61       0.94      0.69      0.80       396\n",
      "          62       1.00      0.99      0.99       249\n",
      "          63       1.00      1.00      1.00        63\n",
      "          64       0.90      0.94      0.92       140\n",
      "          65       0.97      1.00      0.99        74\n",
      "          66       1.00      1.00      1.00       136\n",
      "          67       1.00      1.00      1.00        84\n",
      "          68       1.00      1.00      1.00        67\n",
      "          69       1.00      1.00      1.00       172\n",
      "          70       0.75      0.67      0.70       372\n",
      "          71       1.00      1.00      1.00       203\n",
      "          72       1.00      1.00      1.00        63\n",
      "          73       1.00      1.00      1.00        68\n",
      "          74       1.00      1.00      1.00       270\n",
      "          75       1.00      0.99      0.99       157\n",
      "          76       0.97      1.00      0.99        74\n",
      "          77       1.00      1.00      1.00        63\n",
      "          78       1.00      1.00      1.00        67\n",
      "          79       0.76      0.88      0.82       169\n",
      "          80       0.95      0.66      0.78       140\n",
      "          81       0.99      1.00      0.99       141\n",
      "          82       1.00      1.00      1.00        63\n",
      "          83       1.00      1.00      1.00       221\n",
      "          84       1.00      1.00      1.00        85\n",
      "          85       1.00      1.00      1.00       129\n",
      "          86       0.76      0.44      0.56       344\n",
      "          87       1.00      0.99      1.00       204\n",
      "          88       1.00      0.93      0.96       196\n",
      "          89       1.00      1.00      1.00        64\n",
      "          90       0.91      0.99      0.95      1261\n",
      "          91       0.97      1.00      0.98       225\n",
      "          92       1.00      1.00      1.00       241\n",
      "          93       0.81      0.63      0.71       145\n",
      "          94       1.00      0.96      0.98       133\n",
      "          95       1.00      1.00      1.00        63\n",
      "          96       1.00      1.00      1.00       109\n",
      "\n",
      "    accuracy                           0.94     19319\n",
      "   macro avg       0.96      0.96      0.96     19319\n",
      "weighted avg       0.94      0.94      0.94     19319\n",
      "\n"
     ]
    }
   ],
   "source": [
    "print(classification_report(val_labels, pred_labels, zero_division=0.0))\n",
    "#print(classification_report(labels, pred_labels, zero_division=0.0))"
   ]
  },
  {
   "cell_type": "code",
   "execution_count": 370,
   "id": "0102e626-876e-44f4-94ee-b2553cc43667",
   "metadata": {},
   "outputs": [
    {
     "data": {
      "text/plain": [
       "(97,)"
      ]
     },
     "execution_count": 370,
     "metadata": {},
     "output_type": "execute_result"
    }
   ],
   "source": [
    "np.unique(pred_labels).shape"
   ]
  },
  {
   "cell_type": "code",
   "execution_count": 371,
   "id": "40a6cb25-641b-4273-ba3a-939b61b4ae6d",
   "metadata": {},
   "outputs": [
    {
     "data": {
      "text/plain": [
       "(97,)"
      ]
     },
     "execution_count": 371,
     "metadata": {},
     "output_type": "execute_result"
    }
   ],
   "source": [
    "np.unique(val_labels).shape"
   ]
  },
  {
   "cell_type": "code",
   "execution_count": 372,
   "id": "55aa25bb-e061-4ca3-8f43-c163be318063",
   "metadata": {},
   "outputs": [],
   "source": [
    "hist, bins = np.histogram(pred_labels, bins=np.arange(0,97), density=True)\n",
    "histTruth, _ = np.histogram(labels, bins=np.arange(0,97), density=True)"
   ]
  },
  {
   "cell_type": "code",
   "execution_count": 373,
   "id": "e003ae86-b127-4732-9dd2-4a4481bd2506",
   "metadata": {},
   "outputs": [
    {
     "data": {
      "text/plain": [
       "<matplotlib.legend.Legend at 0x793dcfc3e9b0>"
      ]
     },
     "execution_count": 373,
     "metadata": {},
     "output_type": "execute_result"
    },
    {
     "data": {
      "image/png": "[encoded data removed]",
      "text/plain": [
       "<Figure size 432x288 with 1 Axes>"
      ]
     },
     "metadata": {
      "needs_background": "light"
     },
     "output_type": "display_data"
    }
   ],
   "source": [
    "plt.bar(bins[:-1],hist, alpha=0.5, color='yellow', label='Pred')\n",
    "plt.bar(bins[:-1],histTruth, alpha=0.3, color='blue', label='True')\n",
    "plt.legend()"
   ]
  },
  {
   "cell_type": "code",
   "execution_count": 374,
   "id": "350a720e-5088-4ba0-be3b-40bc9747835e",
   "metadata": {},
   "outputs": [],
   "source": [
    "cm = confusion_matrix(val_labels, pred_labels, normalize='pred')"
   ]
  },
  {
   "cell_type": "code",
   "execution_count": 375,
   "id": "a0a7bd6f-c3c7-40ea-b6bf-b2107c22180d",
   "metadata": {},
   "outputs": [
    {
     "data": {
      "text/plain": [
       "<matplotlib.colorbar.Colorbar at 0x793dcf8ef2b0>"
      ]
     },
     "execution_count": 375,
     "metadata": {},
     "output_type": "execute_result"
    },
    {
     "data": {
      "image/png": "[encoded data removed]",
      "text/plain": [
       "<Figure size 432x288 with 2 Axes>"
      ]
     },
     "metadata": {
      "needs_background": "light"
     },
     "output_type": "display_data"
    }
   ],
   "source": [
    "plt.imshow(cm)\n",
    "plt.colorbar()"
   ]
  },
  {
   "cell_type": "code",
   "execution_count": 73,
   "id": "63e2576f-93d7-4b76-a94f-3c8565f7db93",
   "metadata": {},
   "outputs": [
    {
     "data": {
      "text/plain": [
       "0.17391304347826086"
      ]
     },
     "execution_count": 73,
     "metadata": {},
     "output_type": "execute_result"
    }
   ],
   "source": [
    "cm[32, 47]"
   ]
  },
  {
   "cell_type": "markdown",
   "id": "c5eee544-9a54-4c80-af33-c9d743e61f90",
   "metadata": {},
   "source": [
    "### Make model persistent"
   ]
  },
  {
   "cell_type": "code",
   "execution_count": 87,
   "id": "e76d091a-034a-451a-bf15-7910c05c309d",
   "metadata": {},
   "outputs": [],
   "source": [
    "absname, ext = os.path.splitext(trained_model_path)\n",
    "name = absname + str(run_id) + ext\n",
    "modelname = absname + str(run_id) + 'Model' + ext\n",
    "torch.save(model.state_dict(), name)\n",
    "torch.save(model, modelname)\n"
   ]
  },
  {
   "cell_type": "code",
   "execution_count": 91,
   "id": "d1830606-4cc3-4119-bbd1-f9f795c30373",
   "metadata": {},
   "outputs": [],
   "source": [
    "mod = torch.load(modelname, weights_only=False)"
   ]
  },
  {
   "cell_type": "markdown",
   "id": "04e7286d-ba87-463b-a8ec-5965b769a6cb",
   "metadata": {},
   "source": [
    "# Autoencoder"
   ]
  },
  {
   "cell_type": "code",
   "execution_count": 49,
   "id": "8e885ce2-fe78-4ce3-b97e-476db41814dd",
   "metadata": {},
   "outputs": [
    {
     "name": "stdout",
     "output_type": "stream",
     "text": [
      "Device =  cuda\n"
     ]
    }
   ],
   "source": [
    "device = torch.device(\"cuda\" if torch.cuda.is_available() else \"cpu\")\n",
    "\n",
    "print('Device = ',device)\n",
    "\n",
    "X_train = torch.tensor(train_data, dtype=torch.float32)\n",
    "#y_train = torch.tensor(train_labels, dtype=torch.long)\n",
    "\n",
    "X_val = torch.tensor(val_data, dtype=torch.float32)\n",
    "#y_val = torch.tensor(val_labels, dtype=torch.long)\n",
    "\n",
    "# data loader\n",
    "train_loader = DataLoader(TensorDataset(X_train, X_train), batch_size=50, shuffle=True)\n",
    "val_loader = DataLoader(TensorDataset(X_val, X_val), batch_size=50)"
   ]
  },
  {
   "cell_type": "code",
   "execution_count": 183,
   "id": "90aa99d5-4a98-44d5-9743-4e81128d1f80",
   "metadata": {
    "scrolled": true
   },
   "outputs": [],
   "source": [
    "# Model, Loss, and Optimizer\n",
    "\n",
    "p = train_data.shape[1]\n",
    "p = 75\n",
    "\n",
    "# Model save path\n",
    "trained_model_path = './trained_models/nn/Autoencoder_best_weights.pth'\n",
    "\n",
    "model = Autoencoder(p, noise = 0.0)\n",
    "\n",
    "summary = torch_summary(model,None)"
   ]
  },
  {
   "cell_type": "code",
   "execution_count": null,
   "id": "60ffe41a-a408-4f2c-b9ff-f0f760c755b2",
   "metadata": {
    "scrolled": true
   },
   "outputs": [
    {
     "data": {
      "image/png": "[encoded data removed]",
      "text/plain": [
       "<Figure size 432x288 with 1 Axes>"
      ]
     },
     "metadata": {
      "needs_background": "light"
     },
     "output_type": "display_data"
    },
    {
     "ename": "KeyboardInterrupt",
     "evalue": "",
     "output_type": "error",
     "traceback": [
      "\u001b[0;31m---------------------------------------------------------------------------\u001b[0m",
      "\u001b[0;31mKeyboardInterrupt\u001b[0m                         Traceback (most recent call last)",
      "Cell \u001b[0;32mIn[54], line 29\u001b[0m\n\u001b[1;32m     22\u001b[0m patience \u001b[38;5;241m=\u001b[39m epochs  \u001b[38;5;66;03m# Stop if no improvement for 'patience' epochs\u001b[39;00m\n\u001b[1;32m     24\u001b[0m params \u001b[38;5;241m=\u001b[39m {\u001b[38;5;124m'\u001b[39m\u001b[38;5;124mid\u001b[39m\u001b[38;5;124m'\u001b[39m:run_id , \u001b[38;5;124m'\u001b[39m\u001b[38;5;124mmodel\u001b[39m\u001b[38;5;124m'\u001b[39m:\u001b[38;5;28mstr\u001b[39m(\u001b[38;5;28mtype\u001b[39m(model)\u001b[38;5;241m.\u001b[39m\u001b[38;5;18m__name__\u001b[39m) , \u001b[38;5;124m'\u001b[39m\u001b[38;5;124mepochs\u001b[39m\u001b[38;5;124m'\u001b[39m:epochs , \u001b[38;5;124m'\u001b[39m\u001b[38;5;124mpatience\u001b[39m\u001b[38;5;124m'\u001b[39m:patience , \\\n\u001b[1;32m     25\u001b[0m           \u001b[38;5;124m'\u001b[39m\u001b[38;5;124moptimizer\u001b[39m\u001b[38;5;124m'\u001b[39m:\u001b[38;5;28mstr\u001b[39m(\u001b[38;5;28mtype\u001b[39m(optimizer)\u001b[38;5;241m.\u001b[39m\u001b[38;5;18m__name__\u001b[39m) , \u001b[38;5;124m'\u001b[39m\u001b[38;5;124mloss\u001b[39m\u001b[38;5;124m'\u001b[39m:\u001b[38;5;28mstr\u001b[39m(\u001b[38;5;28mtype\u001b[39m(criterion)\u001b[38;5;241m.\u001b[39m\u001b[38;5;18m__name__\u001b[39m) , \\\n\u001b[1;32m     26\u001b[0m          \u001b[38;5;124m'\u001b[39m\u001b[38;5;124mmodel_summary\u001b[39m\u001b[38;5;124m'\u001b[39m:[\u001b[38;5;28mstr\u001b[39m(summary)]}\n\u001b[0;32m---> 29\u001b[0m \u001b[43mtrain\u001b[49m\u001b[43m(\u001b[49m\u001b[43mepochs\u001b[49m\u001b[43m,\u001b[49m\u001b[43m \u001b[49m\u001b[43mmodel\u001b[49m\u001b[43m,\u001b[49m\u001b[43m \u001b[49m\u001b[43mcriterion\u001b[49m\u001b[43m,\u001b[49m\u001b[43m \u001b[49m\u001b[43moptimizer\u001b[49m\u001b[43m,\u001b[49m\u001b[43m \u001b[49m\u001b[43mtrain_loader\u001b[49m\u001b[43m,\u001b[49m\u001b[43m \u001b[49m\u001b[43mval_loader\u001b[49m\u001b[43m,\u001b[49m\u001b[43m \u001b[49m\u001b[43mtrained_model_path\u001b[49m\u001b[43m,\u001b[49m\u001b[43m \u001b[49m\u001b[43mpatience\u001b[49m\u001b[43m)\u001b[49m\n",
      "File \u001b[0;32m~/CodeImati/SHREC25/src/learning/nn.py:93\u001b[0m, in \u001b[0;36mtrain\u001b[0;34m(N_epochs, model, criterion, optimizer, train_loader, val_loader, save_path, patience)\u001b[0m\n\u001b[1;32m     91\u001b[0m outputs \u001b[38;5;241m=\u001b[39m model(X_batch)\n\u001b[1;32m     92\u001b[0m loss \u001b[38;5;241m=\u001b[39m criterion(outputs, y_batch)\n\u001b[0;32m---> 93\u001b[0m \u001b[43mloss\u001b[49m\u001b[38;5;241;43m.\u001b[39;49m\u001b[43mbackward\u001b[49m\u001b[43m(\u001b[49m\u001b[43m)\u001b[49m\n\u001b[1;32m     94\u001b[0m optimizer\u001b[38;5;241m.\u001b[39mstep()\n\u001b[1;32m     95\u001b[0m running_train_loss \u001b[38;5;241m+\u001b[39m\u001b[38;5;241m=\u001b[39m loss\u001b[38;5;241m.\u001b[39mitem()\n",
      "File \u001b[0;32m~/.local/lib/python3.10/site-packages/torch/_tensor.py:626\u001b[0m, in \u001b[0;36mTensor.backward\u001b[0;34m(self, gradient, retain_graph, create_graph, inputs)\u001b[0m\n\u001b[1;32m    616\u001b[0m \u001b[38;5;28;01mif\u001b[39;00m has_torch_function_unary(\u001b[38;5;28mself\u001b[39m):\n\u001b[1;32m    617\u001b[0m     \u001b[38;5;28;01mreturn\u001b[39;00m handle_torch_function(\n\u001b[1;32m    618\u001b[0m         Tensor\u001b[38;5;241m.\u001b[39mbackward,\n\u001b[1;32m    619\u001b[0m         (\u001b[38;5;28mself\u001b[39m,),\n\u001b[0;32m   (...)\u001b[0m\n\u001b[1;32m    624\u001b[0m         inputs\u001b[38;5;241m=\u001b[39minputs,\n\u001b[1;32m    625\u001b[0m     )\n\u001b[0;32m--> 626\u001b[0m \u001b[43mtorch\u001b[49m\u001b[38;5;241;43m.\u001b[39;49m\u001b[43mautograd\u001b[49m\u001b[38;5;241;43m.\u001b[39;49m\u001b[43mbackward\u001b[49m\u001b[43m(\u001b[49m\n\u001b[1;32m    627\u001b[0m \u001b[43m    \u001b[49m\u001b[38;5;28;43mself\u001b[39;49m\u001b[43m,\u001b[49m\u001b[43m \u001b[49m\u001b[43mgradient\u001b[49m\u001b[43m,\u001b[49m\u001b[43m \u001b[49m\u001b[43mretain_graph\u001b[49m\u001b[43m,\u001b[49m\u001b[43m \u001b[49m\u001b[43mcreate_graph\u001b[49m\u001b[43m,\u001b[49m\u001b[43m \u001b[49m\u001b[43minputs\u001b[49m\u001b[38;5;241;43m=\u001b[39;49m\u001b[43minputs\u001b[49m\n\u001b[1;32m    628\u001b[0m \u001b[43m\u001b[49m\u001b[43m)\u001b[49m\n",
      "File \u001b[0;32m~/.local/lib/python3.10/site-packages/torch/autograd/__init__.py:339\u001b[0m, in \u001b[0;36mbackward\u001b[0;34m(tensors, grad_tensors, retain_graph, create_graph, grad_variables, inputs)\u001b[0m\n\u001b[1;32m    330\u001b[0m tensors \u001b[38;5;241m=\u001b[39m (tensors,) \u001b[38;5;28;01mif\u001b[39;00m \u001b[38;5;28misinstance\u001b[39m(tensors, torch\u001b[38;5;241m.\u001b[39mTensor) \u001b[38;5;28;01melse\u001b[39;00m \u001b[38;5;28mtuple\u001b[39m(tensors)\n\u001b[1;32m    331\u001b[0m inputs \u001b[38;5;241m=\u001b[39m (\n\u001b[1;32m    332\u001b[0m     (inputs,)\n\u001b[1;32m    333\u001b[0m     \u001b[38;5;28;01mif\u001b[39;00m \u001b[38;5;28misinstance\u001b[39m(inputs, (torch\u001b[38;5;241m.\u001b[39mTensor, graph\u001b[38;5;241m.\u001b[39mGradientEdge))\n\u001b[0;32m   (...)\u001b[0m\n\u001b[1;32m    336\u001b[0m     \u001b[38;5;28;01melse\u001b[39;00m ()\n\u001b[1;32m    337\u001b[0m )\n\u001b[0;32m--> 339\u001b[0m grad_tensors_ \u001b[38;5;241m=\u001b[39m \u001b[43m_tensor_or_tensors_to_tuple\u001b[49m\u001b[43m(\u001b[49m\u001b[43mgrad_tensors\u001b[49m\u001b[43m,\u001b[49m\u001b[43m \u001b[49m\u001b[38;5;28;43mlen\u001b[39;49m\u001b[43m(\u001b[49m\u001b[43mtensors\u001b[49m\u001b[43m)\u001b[49m\u001b[43m)\u001b[49m\n\u001b[1;32m    340\u001b[0m grad_tensors_ \u001b[38;5;241m=\u001b[39m _make_grads(tensors, grad_tensors_, is_grads_batched\u001b[38;5;241m=\u001b[39m\u001b[38;5;28;01mFalse\u001b[39;00m)\n\u001b[1;32m    341\u001b[0m \u001b[38;5;28;01mif\u001b[39;00m retain_graph \u001b[38;5;129;01mis\u001b[39;00m \u001b[38;5;28;01mNone\u001b[39;00m:\n",
      "File \u001b[0;32m~/.local/lib/python3.10/site-packages/torch/autograd/__init__.py:232\u001b[0m, in \u001b[0;36m_tensor_or_tensors_to_tuple\u001b[0;34m(tensors, length)\u001b[0m\n\u001b[1;32m    225\u001b[0m             \u001b[38;5;28;01mraise\u001b[39;00m \u001b[38;5;167;01mTypeError\u001b[39;00m(\n\u001b[1;32m    226\u001b[0m                 \u001b[38;5;124m\"\u001b[39m\u001b[38;5;124mgradients can be either Tensors or None, but got \u001b[39m\u001b[38;5;124m\"\u001b[39m\n\u001b[1;32m    227\u001b[0m                 \u001b[38;5;241m+\u001b[39m \u001b[38;5;28mtype\u001b[39m(grad)\u001b[38;5;241m.\u001b[39m\u001b[38;5;18m__name__\u001b[39m\n\u001b[1;32m    228\u001b[0m             )\n\u001b[1;32m    229\u001b[0m     \u001b[38;5;28;01mreturn\u001b[39;00m \u001b[38;5;28mtuple\u001b[39m(new_grads)\n\u001b[0;32m--> 232\u001b[0m \u001b[38;5;28;01mdef\u001b[39;00m \u001b[38;5;21m_tensor_or_tensors_to_tuple\u001b[39m(\n\u001b[1;32m    233\u001b[0m     tensors: Optional[_TensorOrTensors], length: \u001b[38;5;28mint\u001b[39m\n\u001b[1;32m    234\u001b[0m ) \u001b[38;5;241m-\u001b[39m\u001b[38;5;241m>\u001b[39m Tuple[_OptionalTensor, \u001b[38;5;241m.\u001b[39m\u001b[38;5;241m.\u001b[39m\u001b[38;5;241m.\u001b[39m]:\n\u001b[1;32m    235\u001b[0m     \u001b[38;5;28;01mif\u001b[39;00m tensors \u001b[38;5;129;01mis\u001b[39;00m \u001b[38;5;28;01mNone\u001b[39;00m:\n\u001b[1;32m    236\u001b[0m         \u001b[38;5;28;01mreturn\u001b[39;00m (\u001b[38;5;28;01mNone\u001b[39;00m,) \u001b[38;5;241m*\u001b[39m length\n",
      "\u001b[0;31mKeyboardInterrupt\u001b[0m: "
     ]
    }
   ],
   "source": [
    "try: \n",
    "    pass\n",
    "    model.load_state_dict(torch.load(trained_model_path))\n",
    "except:\n",
    "    pass\n",
    "criterion = nn.MSELoss()  # Cross-entropy loss\n",
    "optimizer = optim.Adam(model.parameters(), lr=1e-4)  # Adam optimizer\n",
    "\n",
    "epochs = 2000\n",
    "# Early Stopping Parameters\n",
    "patience = epochs  # Stop if no improvement for 'patience' epochs\n",
    "\n",
    "params = {'id':run_id , 'model':str(type(model).__name__) , 'epochs':epochs , 'patience':patience , \\\n",
    "          'optimizer':str(type(optimizer).__name__) , 'loss':str(type(criterion).__name__) , \\\n",
    "         'model_summary':[str(summary)]}\n",
    "\n",
    "\n",
    "train(epochs, model, criterion, optimizer, train_loader, val_loader, trained_model_path, patience)"
   ]
  },
  {
   "cell_type": "code",
   "execution_count": 190,
   "id": "af4284c3-feb3-4edd-9b58-4203d122b2ab",
   "metadata": {},
   "outputs": [],
   "source": [
    "modelAE = Autoencoder(75, noise = 0.0)"
   ]
  },
  {
   "cell_type": "code",
   "execution_count": 191,
   "id": "604238c8-d746-4106-be47-88e5e5341a78",
   "metadata": {},
   "outputs": [],
   "source": [
    "modelAE = joblib.load( './trained_models/nn/Autoencoder_best_weights12.pkl' )"
   ]
  },
  {
   "cell_type": "markdown",
   "id": "357f24cc-f428-4294-8490-e5f84f9fab71",
   "metadata": {},
   "source": [
    "### Write model"
   ]
  },
  {
   "cell_type": "code",
   "execution_count": 57,
   "id": "047d482a-e434-4768-9518-fb9ec3a17d1e",
   "metadata": {},
   "outputs": [],
   "source": [
    "model_path_filename, extension = os.path.splitext(trained_model_path)\n",
    "joblib.dump(model , model_path_filename + str(run_id) +'.pkl');"
   ]
  },
  {
   "cell_type": "markdown",
   "id": "e94fc3df-9b39-4edf-8172-006564be73e0",
   "metadata": {},
   "source": [
    "### Score"
   ]
  },
  {
   "cell_type": "code",
   "execution_count": 63,
   "id": "711550cc-8756-44f2-a8e4-54a7d05b265a",
   "metadata": {},
   "outputs": [
    {
     "name": "stdout",
     "output_type": "stream",
     "text": [
      "0.0033910545772518268\n"
     ]
    }
   ],
   "source": [
    "losses = []\n",
    "\n",
    "for i in range(val_data.shape[0]):\n",
    "    X = val_data[ i , :]\n",
    "    X = torch.tensor(X, dtype=torch.float32)\n",
    "    output = model.forward( X )\n",
    "    loss = criterion( output , X ).detach().numpy()\n",
    "\n",
    "    losses.append(loss)\n",
    "\n",
    "print(np.mean( np.array(losses, dtype=float) ))\n",
    "\n"
   ]
  },
  {
   "cell_type": "code",
   "execution_count": 195,
   "id": "d97c1c3f-a077-47b8-b5da-41b2b6e28aee",
   "metadata": {},
   "outputs": [],
   "source": [
    "data = np.load('./data/data/saved_descriptors/train_set/AlphaProminent.npy')"
   ]
  },
  {
   "cell_type": "markdown",
   "id": "841737bb-d58a-4e01-8652-169e20e375b1",
   "metadata": {},
   "source": [
    "## Use encoder"
   ]
  },
  {
   "cell_type": "code",
   "execution_count": 196,
   "id": "36433281-48b9-4c0c-8cfd-e53cfe89b628",
   "metadata": {},
   "outputs": [],
   "source": [
    "encoded_data = np.zeros( ( data.shape[0] , 15 ) )\n",
    "\n",
    "for i in range(data.shape[0]):\n",
    "\n",
    "    X = data[ i , :]\n",
    "    X = torch.tensor(X, dtype=torch.float32)\n",
    "    \n",
    "    compressed = model.encode(X).detach().numpy()\n",
    "    encoded_data[ i , : ] = compressed\n",
    "    "
   ]
  },
  {
   "cell_type": "code",
   "execution_count": 197,
   "id": "55b78bd6-3d9c-49c4-9c7b-4480941f6328",
   "metadata": {},
   "outputs": [
    {
     "data": {
      "text/plain": [
       "(9244, 15)"
      ]
     },
     "execution_count": 197,
     "metadata": {},
     "output_type": "execute_result"
    }
   ],
   "source": [
    "encoded_data.shape"
   ]
  },
  {
   "cell_type": "markdown",
   "id": "a40a13d0-00fa-4ec9-ae62-fdff828a675a",
   "metadata": {},
   "source": [
    "### Save data"
   ]
  },
  {
   "cell_type": "code",
   "execution_count": 198,
   "id": "03526f4d-75c0-45e5-b8f2-fcf6ecbc2fa3",
   "metadata": {},
   "outputs": [],
   "source": [
    "np.save( './data/data/saved_descriptors/train_set/Take2EncodedAlphaProminent.npy', encoded_data)"
   ]
  },
  {
   "cell_type": "markdown",
   "id": "74e1a68f-dcb4-4d36-af36-2c13e83f7d67",
   "metadata": {},
   "source": [
    "# Augmented Data"
   ]
  },
  {
   "cell_type": "code",
   "execution_count": 437,
   "id": "843822bb-1d07-47c1-a11c-227e856a6a4c",
   "metadata": {},
   "outputs": [],
   "source": [
    "dataCleanAlpha_aug = np.load('./data/data/saved_descriptors/train_set/CleanAlphaProminent_aug.npy')\n",
    "dataS_aug = np.load('./data/sectors/saved_descriptors/train_set/AugmentedData.npy')\n",
    "labels = np.load('./data/sectors/saved_descriptors/train_set/AugmentedLabels.npy')"
   ]
  },
  {
   "cell_type": "code",
   "execution_count": 204,
   "id": "d03573d3-8d86-4dec-9be6-19e5379c13f2",
   "metadata": {},
   "outputs": [],
   "source": [
    "data = np.concatenate( [dataS_aug , dataCleanAlpha_aug] , axis = 1 )"
   ]
  },
  {
   "cell_type": "markdown",
   "id": "ec54664a-772b-4950-bad5-d0bc55b9fcc4",
   "metadata": {},
   "source": [
    "### Augmented Data on Test Set"
   ]
  },
  {
   "cell_type": "code",
   "execution_count": 28,
   "id": "c1600dfd-5ea6-47d0-8368-b6004335dfb2",
   "metadata": {},
   "outputs": [],
   "source": [
    "TestdataCleanAlpha_aug = np.load('./data/data/saved_descriptors/test_set/CleanAlphaProminent_aug.npy')\n",
    "TestdataS_aug = np.load('./data/sectors/saved_descriptors/test_set/TestAugmentedData.npy')"
   ]
  },
  {
   "cell_type": "code",
   "execution_count": 29,
   "id": "1b44bf08-0482-4e4d-9937-54117f989bfc",
   "metadata": {},
   "outputs": [],
   "source": [
    "TestData = np.concatenate( [TestdataS_aug , TestdataCleanAlpha_aug] , axis = 1 )"
   ]
  },
  {
   "cell_type": "code",
   "execution_count": 30,
   "id": "14818a76-8307-49bd-9716-d7f02dfc47d3",
   "metadata": {},
   "outputs": [
    {
     "data": {
      "text/plain": [
       "SimpleNN(\n",
       "  (dr): Dropout(p=0.25, inplace=False)\n",
       "  (fc1): Linear(in_features=135, out_features=111, bias=True)\n",
       "  (relu): ReLU()\n",
       "  (fc2): Linear(in_features=111, out_features=100, bias=True)\n",
       "  (fc3): Linear(in_features=100, out_features=97, bias=True)\n",
       "  (fc4): Linear(in_features=97, out_features=97, bias=True)\n",
       ")"
      ]
     },
     "execution_count": 30,
     "metadata": {},
     "output_type": "execute_result"
    }
   ],
   "source": [
    "device = torch.device(\"cuda\" if torch.cuda.is_available() else \"cpu\")\n",
    "m = TestData.shape[1]\n",
    "c = 97\n",
    "trained_model_path = './trained_models/nn/remote_best_weights.pth'\n",
    "#trained_model_path = './trained_models/nn/remote_best_weights111.pth'\n",
    "model = SimpleNN(m, c)\n",
    "model.load_state_dict(torch.load(trained_model_path))\n",
    "model.to(device)\n",
    "model.eval()"
   ]
  },
  {
   "cell_type": "code",
   "execution_count": 31,
   "id": "bdf8dac2-81a6-4fbb-a338-96e95900b26f",
   "metadata": {},
   "outputs": [],
   "source": [
    "X_predict = torch.tensor(TestData, dtype=torch.float32).to(device)"
   ]
  },
  {
   "cell_type": "code",
   "execution_count": 32,
   "id": "0d9405b9-34f0-4189-9643-8dab89c1b419",
   "metadata": {},
   "outputs": [],
   "source": [
    "output = model( X_predict )"
   ]
  },
  {
   "cell_type": "code",
   "execution_count": 33,
   "id": "56c42f69-b658-48b0-9689-6b4cba333d5d",
   "metadata": {},
   "outputs": [],
   "source": [
    "y_pred = torch.argmax(output, dim=1)\n",
    "y_pred = y_pred.cpu().numpy()"
   ]
  },
  {
   "cell_type": "code",
   "execution_count": 34,
   "id": "f2302175-75ac-4e45-bff8-00b92e534d4a",
   "metadata": {},
   "outputs": [
    {
     "data": {
      "text/plain": [
       "(85,)"
      ]
     },
     "execution_count": 34,
     "metadata": {},
     "output_type": "execute_result"
    }
   ],
   "source": [
    "np.unique(y_pred).shape"
   ]
  },
  {
   "cell_type": "markdown",
   "id": "407ad6be-f040-46b2-bd60-42ae683c4733",
   "metadata": {},
   "source": [
    "### Accuracy"
   ]
  },
  {
   "cell_type": "code",
   "execution_count": 17,
   "id": "f3ffff11-91ae-41a3-b616-2ba88681ba0f",
   "metadata": {},
   "outputs": [
    {
     "ename": "NameError",
     "evalue": "name 'val_loader' is not defined",
     "output_type": "error",
     "traceback": [
      "\u001b[0;31m---------------------------------------------------------------------------\u001b[0m",
      "\u001b[0;31mNameError\u001b[0m                                 Traceback (most recent call last)",
      "Cell \u001b[0;32mIn[17], line 1\u001b[0m\n\u001b[0;32m----> 1\u001b[0m pred_labels \u001b[38;5;241m=\u001b[39m predict(model,\u001b[43mval_loader\u001b[49m,device)\n",
      "\u001b[0;31mNameError\u001b[0m: name 'val_loader' is not defined"
     ]
    }
   ],
   "source": [
    "pred_labels = predict(model,val_loader,device)"
   ]
  },
  {
   "cell_type": "code",
   "execution_count": 408,
   "id": "15481cfd-0ef0-4b53-b16f-093282807306",
   "metadata": {},
   "outputs": [
    {
     "name": "stdout",
     "output_type": "stream",
     "text": [
      "0.9420777472954087\n"
     ]
    }
   ],
   "source": [
    "acc = accuracy_score(val_labels, pred_labels)\n",
    "print(acc)"
   ]
  },
  {
   "cell_type": "code",
   "execution_count": 409,
   "id": "a7980fc8-0c94-4239-a196-c6e8650b09e5",
   "metadata": {
    "scrolled": true
   },
   "outputs": [
    {
     "name": "stdout",
     "output_type": "stream",
     "text": [
      "              precision    recall  f1-score   support\n",
      "\n",
      "           0       1.00      1.00      1.00       201\n",
      "           1       1.00      1.00      1.00        64\n",
      "           2       0.98      1.00      0.99        84\n",
      "           3       0.99      1.00      0.99        89\n",
      "           4       0.91      1.00      0.95        81\n",
      "           5       1.00      0.99      1.00       238\n",
      "           6       1.00      1.00      1.00        95\n",
      "           7       1.00      0.98      0.99       165\n",
      "           8       1.00      1.00      1.00      3286\n",
      "           9       0.90      1.00      0.95       152\n",
      "          10       1.00      1.00      1.00        80\n",
      "          11       1.00      1.00      1.00       120\n",
      "          12       1.00      1.00      1.00        74\n",
      "          13       1.00      1.00      1.00        91\n",
      "          14       0.75      0.84      0.79       782\n",
      "          15       0.97      1.00      0.99       185\n",
      "          16       1.00      0.97      0.98       276\n",
      "          17       1.00      0.96      0.98       222\n",
      "          18       1.00      0.99      0.99       166\n",
      "          19       1.00      0.93      0.97       119\n",
      "          20       1.00      1.00      1.00        70\n",
      "          21       0.91      0.91      0.91       164\n",
      "          22       0.97      1.00      0.99       141\n",
      "          23       0.99      1.00      0.99        74\n",
      "          24       1.00      1.00      1.00        74\n",
      "          25       0.98      1.00      0.99       260\n",
      "          26       0.95      1.00      0.98        63\n",
      "          27       1.00      1.00      1.00        64\n",
      "          28       1.00      1.00      1.00        85\n",
      "          29       0.98      1.00      0.99        80\n",
      "          30       1.00      1.00      1.00        64\n",
      "          31       0.91      0.78      0.84       106\n",
      "          32       1.00      0.79      0.89       190\n",
      "          33       1.00      0.99      1.00       236\n",
      "          34       0.88      0.65      0.74       162\n",
      "          35       1.00      1.00      1.00        92\n",
      "          36       1.00      1.00      1.00        71\n",
      "          37       1.00      1.00      1.00       227\n",
      "          38       1.00      1.00      1.00       108\n",
      "          39       0.84      1.00      0.91        87\n",
      "          40       0.58      0.85      0.69       193\n",
      "          41       0.85      1.00      0.92       193\n",
      "          42       1.00      1.00      1.00        63\n",
      "          43       1.00      0.78      0.88       158\n",
      "          44       1.00      1.00      1.00        63\n",
      "          45       1.00      1.00      1.00       213\n",
      "          46       1.00      1.00      1.00       122\n",
      "          47       0.86      1.00      0.93       112\n",
      "          48       1.00      1.00      1.00        98\n",
      "          49       0.82      0.68      0.75       129\n",
      "          50       1.00      1.00      1.00        63\n",
      "          51       0.96      0.99      0.98       159\n",
      "          52       0.98      1.00      0.99       166\n",
      "          53       0.99      0.95      0.97       134\n",
      "          54       1.00      1.00      1.00       239\n",
      "          55       1.00      1.00      1.00        96\n",
      "          56       0.81      0.91      0.85      1046\n",
      "          57       1.00      1.00      1.00        72\n",
      "          58       1.00      1.00      1.00        63\n",
      "          59       1.00      1.00      1.00       136\n",
      "          60       1.00      1.00      1.00       162\n",
      "          61       0.94      0.69      0.80       396\n",
      "          62       1.00      0.99      0.99       249\n",
      "          63       1.00      1.00      1.00        63\n",
      "          64       0.90      0.94      0.92       140\n",
      "          65       0.97      1.00      0.99        74\n",
      "          66       1.00      1.00      1.00       136\n",
      "          67       1.00      1.00      1.00        84\n",
      "          68       1.00      1.00      1.00        67\n",
      "          69       1.00      1.00      1.00       172\n",
      "          70       0.75      0.67      0.70       372\n",
      "          71       1.00      1.00      1.00       203\n",
      "          72       1.00      1.00      1.00        63\n",
      "          73       1.00      1.00      1.00        68\n",
      "          74       1.00      1.00      1.00       270\n",
      "          75       1.00      0.99      0.99       157\n",
      "          76       0.97      1.00      0.99        74\n",
      "          77       1.00      1.00      1.00        63\n",
      "          78       1.00      1.00      1.00        67\n",
      "          79       0.76      0.88      0.82       169\n",
      "          80       0.95      0.66      0.78       140\n",
      "          81       0.99      1.00      0.99       141\n",
      "          82       1.00      1.00      1.00        63\n",
      "          83       1.00      1.00      1.00       221\n",
      "          84       1.00      1.00      1.00        85\n",
      "          85       1.00      1.00      1.00       129\n",
      "          86       0.76      0.44      0.56       344\n",
      "          87       1.00      0.99      1.00       204\n",
      "          88       1.00      0.93      0.96       196\n",
      "          89       1.00      1.00      1.00        64\n",
      "          90       0.91      0.99      0.95      1261\n",
      "          91       0.97      1.00      0.98       225\n",
      "          92       1.00      1.00      1.00       241\n",
      "          93       0.81      0.63      0.71       145\n",
      "          94       1.00      0.96      0.98       133\n",
      "          95       1.00      1.00      1.00        63\n",
      "          96       1.00      1.00      1.00       109\n",
      "\n",
      "    accuracy                           0.94     19319\n",
      "   macro avg       0.96      0.96      0.96     19319\n",
      "weighted avg       0.94      0.94      0.94     19319\n",
      "\n"
     ]
    }
   ],
   "source": [
    "print(classification_report(val_labels, pred_labels, zero_division=0.0))"
   ]
  },
  {
   "cell_type": "code",
   "execution_count": 56,
   "id": "5de88ebe-5d95-427d-8b41-b44c0c6cf678",
   "metadata": {},
   "outputs": [],
   "source": [
    "cm = confusion_matrix(val_labels, pred_labels, normalize='pred')"
   ]
  },
  {
   "cell_type": "code",
   "execution_count": 61,
   "id": "3a470af7-85cc-461d-af59-25ac58155b36",
   "metadata": {},
   "outputs": [
    {
     "data": {
      "text/plain": [
       "Text(0, 0.5, 'Class')"
      ]
     },
     "execution_count": 61,
     "metadata": {},
     "output_type": "execute_result"
    },
    {
     "data": {
      "image/png": "[encoded data removed]",
      "text/plain": [
       "<Figure size 432x288 with 2 Axes>"
      ]
     },
     "metadata": {
      "needs_background": "light"
     },
     "output_type": "display_data"
    }
   ],
   "source": [
    "plt.imshow(cm)\n",
    "plt.colorbar()\n",
    "plt.title( 'Confusion matrix btw classes, normalized by pred' )\n",
    "plt.xlabel('Class')\n",
    "plt.ylabel('Class')"
   ]
  },
  {
   "cell_type": "markdown",
   "id": "62ad4ddc-dada-49e2-a0a0-54ddaba858bf",
   "metadata": {},
   "source": [
    "### Performance on test set"
   ]
  },
  {
   "cell_type": "code",
   "execution_count": 35,
   "id": "9132130f-ef27-4b82-b38f-688364514d86",
   "metadata": {},
   "outputs": [],
   "source": [
    "bl_pred = y_pred.reshape(-1,8)"
   ]
  },
  {
   "cell_type": "code",
   "execution_count": 36,
   "id": "86e5bca0-718a-4d0f-a749-ad11250b1fa9",
   "metadata": {},
   "outputs": [],
   "source": [
    "unique_counts = np.array([ len( np.unique(block ) ) for block in bl_pred ]) "
   ]
  },
  {
   "cell_type": "code",
   "execution_count": 37,
   "id": "421f5176-8d71-4fd2-ae94-9e1a52ba561a",
   "metadata": {},
   "outputs": [
    {
     "data": {
      "text/plain": [
       "Text(0.5, 0, 'Test protein Id')"
      ]
     },
     "execution_count": 37,
     "metadata": {},
     "output_type": "execute_result"
    },
    {
     "data": {
      "image/png": "[encoded data removed]",
      "text/plain": [
       "<Figure size 432x288 with 1 Axes>"
      ]
     },
     "metadata": {
      "needs_background": "light"
     },
     "output_type": "display_data"
    }
   ],
   "source": [
    "plt.plot(unique_counts, '.k')\n",
    "plt.title('# of predicted classes per block')\n",
    "plt.xlabel('Test protein Id')"
   ]
  },
  {
   "cell_type": "code",
   "execution_count": 38,
   "id": "207f44b6-88a1-4cc6-b6ad-a3d794cbf250",
   "metadata": {},
   "outputs": [
    {
     "data": {
      "text/plain": [
       "(5,)"
      ]
     },
     "execution_count": 38,
     "metadata": {},
     "output_type": "execute_result"
    }
   ],
   "source": [
    "np.where( unique_counts == 3 )[0].shape"
   ]
  },
  {
   "cell_type": "markdown",
   "id": "958b70a6-6558-4d96-b00d-4d64b02348f1",
   "metadata": {},
   "source": [
    "### Distributions"
   ]
  },
  {
   "cell_type": "code",
   "execution_count": 39,
   "id": "3bc79323-1a3e-42b4-924c-bb63118e3050",
   "metadata": {},
   "outputs": [],
   "source": [
    "uni_counts = [np.unique(block, return_counts=True) for block in bl_pred]"
   ]
  },
  {
   "cell_type": "code",
   "execution_count": 40,
   "id": "4eea854b-1c3c-4708-b7ff-4cb62e2f4532",
   "metadata": {
    "scrolled": true
   },
   "outputs": [
    {
     "data": {
      "text/plain": [
       "[(array([39]), array([8])),\n",
       " (array([10]), array([8])),\n",
       " (array([8]), array([8])),\n",
       " (array([61]), array([8])),\n",
       " (array([14]), array([8])),\n",
       " (array([56]), array([8])),\n",
       " (array([14]), array([8])),\n",
       " (array([8]), array([8])),\n",
       " (array([81]), array([8])),\n",
       " (array([90]), array([8])),\n",
       " (array([91]), array([8])),\n",
       " (array([8]), array([8])),\n",
       " (array([56, 79]), array([7, 1])),\n",
       " (array([8]), array([8])),\n",
       " (array([19]), array([8])),\n",
       " (array([90]), array([8])),\n",
       " (array([90]), array([8])),\n",
       " (array([40]), array([8])),\n",
       " (array([70]), array([8])),\n",
       " (array([61]), array([8])),\n",
       " (array([70]), array([8])),\n",
       " (array([56]), array([8])),\n",
       " (array([45]), array([8])),\n",
       " (array([8]), array([8])),\n",
       " (array([56]), array([8])),\n",
       " (array([14]), array([8])),\n",
       " (array([25]), array([8])),\n",
       " (array([16]), array([8])),\n",
       " (array([37]), array([8])),\n",
       " (array([8]), array([8])),\n",
       " (array([8]), array([8])),\n",
       " (array([14]), array([8])),\n",
       " (array([87]), array([8])),\n",
       " (array([14]), array([8])),\n",
       " (array([92]), array([8])),\n",
       " (array([56]), array([8])),\n",
       " (array([83]), array([8])),\n",
       " (array([14]), array([8])),\n",
       " (array([90]), array([8])),\n",
       " (array([8]), array([8])),\n",
       " (array([8]), array([8])),\n",
       " (array([15]), array([8])),\n",
       " (array([8]), array([8])),\n",
       " (array([56, 70]), array([7, 1])),\n",
       " (array([33]), array([8])),\n",
       " (array([62]), array([8])),\n",
       " (array([7]), array([8])),\n",
       " (array([79]), array([8])),\n",
       " (array([21]), array([8])),\n",
       " (array([8]), array([8])),\n",
       " (array([84]), array([8])),\n",
       " (array([22]), array([8])),\n",
       " (array([14]), array([8])),\n",
       " (array([22]), array([8])),\n",
       " (array([9]), array([8])),\n",
       " (array([61, 90]), array([2, 6])),\n",
       " (array([14]), array([8])),\n",
       " (array([14, 49]), array([3, 5])),\n",
       " (array([55]), array([8])),\n",
       " (array([56]), array([8])),\n",
       " (array([41]), array([8])),\n",
       " (array([70]), array([8])),\n",
       " (array([14]), array([8])),\n",
       " (array([90]), array([8])),\n",
       " (array([55, 87]), array([6, 2])),\n",
       " (array([60]), array([8])),\n",
       " (array([56]), array([8])),\n",
       " (array([7]), array([8])),\n",
       " (array([90]), array([8])),\n",
       " (array([15]), array([8])),\n",
       " (array([8]), array([8])),\n",
       " (array([87]), array([8])),\n",
       " (array([14]), array([8])),\n",
       " (array([75]), array([8])),\n",
       " (array([16]), array([8])),\n",
       " (array([56]), array([8])),\n",
       " (array([8]), array([8])),\n",
       " (array([8]), array([8])),\n",
       " (array([88]), array([8])),\n",
       " (array([14]), array([8])),\n",
       " (array([8]), array([8])),\n",
       " (array([8]), array([8])),\n",
       " (array([91]), array([8])),\n",
       " (array([56, 70]), array([3, 5])),\n",
       " (array([96]), array([8])),\n",
       " (array([8]), array([8])),\n",
       " (array([15]), array([8])),\n",
       " (array([8]), array([8])),\n",
       " (array([8]), array([8])),\n",
       " (array([90]), array([8])),\n",
       " (array([90]), array([8])),\n",
       " (array([8]), array([8])),\n",
       " (array([8]), array([8])),\n",
       " (array([90]), array([8])),\n",
       " (array([8]), array([8])),\n",
       " (array([56, 79]), array([4, 4])),\n",
       " (array([96]), array([8])),\n",
       " (array([8]), array([8])),\n",
       " (array([14]), array([8])),\n",
       " (array([14]), array([8])),\n",
       " (array([40, 86]), array([5, 3])),\n",
       " (array([91]), array([8])),\n",
       " (array([34]), array([8])),\n",
       " (array([15]), array([8])),\n",
       " (array([90]), array([8])),\n",
       " (array([41]), array([8])),\n",
       " (array([91]), array([8])),\n",
       " (array([14]), array([8])),\n",
       " (array([61]), array([8])),\n",
       " (array([25]), array([8])),\n",
       " (array([61]), array([8])),\n",
       " (array([8]), array([8])),\n",
       " (array([8]), array([8])),\n",
       " (array([8]), array([8])),\n",
       " (array([38]), array([8])),\n",
       " (array([83]), array([8])),\n",
       " (array([7]), array([8])),\n",
       " (array([54]), array([8])),\n",
       " (array([8]), array([8])),\n",
       " (array([8]), array([8])),\n",
       " (array([70]), array([8])),\n",
       " (array([94]), array([8])),\n",
       " (array([88]), array([8])),\n",
       " (array([43]), array([8])),\n",
       " (array([8]), array([8])),\n",
       " (array([47]), array([8])),\n",
       " (array([69]), array([8])),\n",
       " (array([21]), array([8])),\n",
       " (array([29, 33]), array([3, 5])),\n",
       " (array([25]), array([8])),\n",
       " (array([52]), array([8])),\n",
       " (array([23]), array([8])),\n",
       " (array([15]), array([8])),\n",
       " (array([90]), array([8])),\n",
       " (array([86]), array([8])),\n",
       " (array([ 8, 21]), array([6, 2])),\n",
       " (array([16]), array([8])),\n",
       " (array([56]), array([8])),\n",
       " (array([93]), array([8])),\n",
       " (array([61, 90]), array([5, 3])),\n",
       " (array([90]), array([8])),\n",
       " (array([5]), array([8])),\n",
       " (array([8]), array([8])),\n",
       " (array([9]), array([8])),\n",
       " (array([14]), array([8])),\n",
       " (array([18]), array([8])),\n",
       " (array([90]), array([8])),\n",
       " (array([5]), array([8])),\n",
       " (array([60]), array([8])),\n",
       " (array([7]), array([8])),\n",
       " (array([61]), array([8])),\n",
       " (array([14]), array([8])),\n",
       " (array([46]), array([8])),\n",
       " (array([56, 70, 93]), array([4, 2, 2])),\n",
       " (array([8]), array([8])),\n",
       " (array([33]), array([8])),\n",
       " (array([21, 64]), array([6, 2])),\n",
       " (array([56, 79]), array([1, 7])),\n",
       " (array([90]), array([8])),\n",
       " (array([56]), array([8])),\n",
       " (array([8]), array([8])),\n",
       " (array([9]), array([8])),\n",
       " (array([8]), array([8])),\n",
       " (array([9]), array([8])),\n",
       " (array([90]), array([8])),\n",
       " (array([11]), array([8])),\n",
       " (array([8]), array([8])),\n",
       " (array([70]), array([8])),\n",
       " (array([74]), array([8])),\n",
       " (array([8]), array([8])),\n",
       " (array([8]), array([8])),\n",
       " (array([12]), array([8])),\n",
       " (array([8]), array([8])),\n",
       " (array([56, 79]), array([3, 5])),\n",
       " (array([21]), array([8])),\n",
       " (array([56]), array([8])),\n",
       " (array([8]), array([8])),\n",
       " (array([8]), array([8])),\n",
       " (array([90]), array([8])),\n",
       " (array([8]), array([8])),\n",
       " (array([8]), array([8])),\n",
       " (array([56]), array([8])),\n",
       " (array([96]), array([8])),\n",
       " (array([8]), array([8])),\n",
       " (array([56]), array([8])),\n",
       " (array([8]), array([8])),\n",
       " (array([45]), array([8])),\n",
       " (array([56]), array([8])),\n",
       " (array([45]), array([8])),\n",
       " (array([8]), array([8])),\n",
       " (array([88]), array([8])),\n",
       " (array([56]), array([8])),\n",
       " (array([34, 56]), array([4, 4])),\n",
       " (array([93]), array([8])),\n",
       " (array([64]), array([8])),\n",
       " (array([91]), array([8])),\n",
       " (array([96]), array([8])),\n",
       " (array([5]), array([8])),\n",
       " (array([41]), array([8])),\n",
       " (array([14]), array([8])),\n",
       " (array([14]), array([8])),\n",
       " (array([33]), array([8])),\n",
       " (array([8]), array([8])),\n",
       " (array([33]), array([8])),\n",
       " (array([56]), array([8])),\n",
       " (array([43]), array([8])),\n",
       " (array([60]), array([8])),\n",
       " (array([53]), array([8])),\n",
       " (array([18]), array([8])),\n",
       " (array([8]), array([8])),\n",
       " (array([8]), array([8])),\n",
       " (array([56]), array([8])),\n",
       " (array([8]), array([8])),\n",
       " (array([70]), array([8])),\n",
       " (array([90]), array([8])),\n",
       " (array([5]), array([8])),\n",
       " (array([27]), array([8])),\n",
       " (array([13]), array([8])),\n",
       " (array([41]), array([8])),\n",
       " (array([56]), array([8])),\n",
       " (array([56]), array([8])),\n",
       " (array([87]), array([8])),\n",
       " (array([8]), array([8])),\n",
       " (array([8]), array([8])),\n",
       " (array([8]), array([8])),\n",
       " (array([62]), array([8])),\n",
       " (array([61]), array([8])),\n",
       " (array([8]), array([8])),\n",
       " (array([45]), array([8])),\n",
       " (array([16]), array([8])),\n",
       " (array([59]), array([8])),\n",
       " (array([51, 53, 59]), array([1, 4, 3])),\n",
       " (array([83]), array([8])),\n",
       " (array([90]), array([8])),\n",
       " (array([14]), array([8])),\n",
       " (array([45]), array([8])),\n",
       " (array([9]), array([8])),\n",
       " (array([8]), array([8])),\n",
       " (array([15]), array([8])),\n",
       " (array([34]), array([8])),\n",
       " (array([56]), array([8])),\n",
       " (array([74]), array([8])),\n",
       " (array([64]), array([8])),\n",
       " (array([8]), array([8])),\n",
       " (array([75]), array([8])),\n",
       " (array([7]), array([8])),\n",
       " (array([90]), array([8])),\n",
       " (array([14]), array([8])),\n",
       " (array([90]), array([8])),\n",
       " (array([56]), array([8])),\n",
       " (array([90]), array([8])),\n",
       " (array([8]), array([8])),\n",
       " (array([22]), array([8])),\n",
       " (array([88]), array([8])),\n",
       " (array([34]), array([8])),\n",
       " (array([37]), array([8])),\n",
       " (array([25]), array([8])),\n",
       " (array([86]), array([8])),\n",
       " (array([61]), array([8])),\n",
       " (array([8]), array([8])),\n",
       " (array([8]), array([8])),\n",
       " (array([14]), array([8])),\n",
       " (array([92]), array([8])),\n",
       " (array([21, 64]), array([5, 3])),\n",
       " (array([87]), array([8])),\n",
       " (array([61, 90]), array([5, 3])),\n",
       " (array([90]), array([8])),\n",
       " (array([52]), array([8])),\n",
       " (array([56, 79]), array([1, 7])),\n",
       " (array([8]), array([8])),\n",
       " (array([13]), array([8])),\n",
       " (array([62]), array([8])),\n",
       " (array([71]), array([8])),\n",
       " (array([8]), array([8])),\n",
       " (array([90]), array([8])),\n",
       " (array([21, 64]), array([7, 1])),\n",
       " (array([86]), array([8])),\n",
       " (array([14]), array([8])),\n",
       " (array([62]), array([8])),\n",
       " (array([71]), array([8])),\n",
       " (array([8]), array([8])),\n",
       " (array([61, 90]), array([2, 6])),\n",
       " (array([70]), array([8])),\n",
       " (array([8]), array([8])),\n",
       " (array([90]), array([8])),\n",
       " (array([8]), array([8])),\n",
       " (array([41]), array([8])),\n",
       " (array([56]), array([8])),\n",
       " (array([90]), array([8])),\n",
       " (array([8]), array([8])),\n",
       " (array([0]), array([8])),\n",
       " (array([8]), array([8])),\n",
       " (array([90]), array([8])),\n",
       " (array([96]), array([8])),\n",
       " (array([81]), array([8])),\n",
       " (array([62]), array([8])),\n",
       " (array([5]), array([8])),\n",
       " (array([43]), array([8])),\n",
       " (array([56]), array([8])),\n",
       " (array([35]), array([8])),\n",
       " (array([8]), array([8])),\n",
       " (array([8]), array([8])),\n",
       " (array([14]), array([8])),\n",
       " (array([90]), array([8])),\n",
       " (array([52]), array([8])),\n",
       " (array([56]), array([8])),\n",
       " (array([18]), array([8])),\n",
       " (array([45]), array([8])),\n",
       " (array([90]), array([8])),\n",
       " (array([8]), array([8])),\n",
       " (array([14]), array([8])),\n",
       " (array([8]), array([8])),\n",
       " (array([90]), array([8])),\n",
       " (array([59]), array([8])),\n",
       " (array([17]), array([8])),\n",
       " (array([66]), array([8])),\n",
       " (array([92]), array([8])),\n",
       " (array([81]), array([8])),\n",
       " (array([86]), array([8])),\n",
       " (array([25]), array([8])),\n",
       " (array([45]), array([8])),\n",
       " (array([79]), array([8])),\n",
       " (array([90]), array([8])),\n",
       " (array([8]), array([8])),\n",
       " (array([90]), array([8])),\n",
       " (array([61]), array([8])),\n",
       " (array([66]), array([8])),\n",
       " (array([8]), array([8])),\n",
       " (array([90]), array([8])),\n",
       " (array([56]), array([8])),\n",
       " (array([87]), array([8])),\n",
       " (array([8]), array([8])),\n",
       " (array([5]), array([8])),\n",
       " (array([83]), array([8])),\n",
       " (array([ 8, 25]), array([5, 3])),\n",
       " (array([8]), array([8])),\n",
       " (array([28]), array([8])),\n",
       " (array([85]), array([8])),\n",
       " (array([56]), array([8])),\n",
       " (array([51]), array([8])),\n",
       " (array([17]), array([8])),\n",
       " (array([59]), array([8])),\n",
       " (array([87]), array([8])),\n",
       " (array([56]), array([8])),\n",
       " (array([0]), array([8])),\n",
       " (array([91]), array([8])),\n",
       " (array([59]), array([8])),\n",
       " (array([8]), array([8])),\n",
       " (array([14]), array([8])),\n",
       " (array([74]), array([8])),\n",
       " (array([8]), array([8])),\n",
       " (array([52]), array([8])),\n",
       " (array([92]), array([8])),\n",
       " (array([8]), array([8])),\n",
       " (array([55]), array([8])),\n",
       " (array([8]), array([8])),\n",
       " (array([37]), array([8])),\n",
       " (array([3]), array([8])),\n",
       " (array([87]), array([8])),\n",
       " (array([86]), array([8])),\n",
       " (array([22, 32]), array([6, 2])),\n",
       " (array([56]), array([8])),\n",
       " (array([90]), array([8])),\n",
       " (array([52]), array([8])),\n",
       " (array([56]), array([8])),\n",
       " (array([21, 64]), array([6, 2])),\n",
       " (array([83]), array([8])),\n",
       " (array([87]), array([8])),\n",
       " (array([56]), array([8])),\n",
       " (array([56]), array([8])),\n",
       " (array([90]), array([8])),\n",
       " (array([8]), array([8])),\n",
       " (array([4]), array([8])),\n",
       " (array([79]), array([8])),\n",
       " (array([8]), array([8])),\n",
       " (array([11]), array([8])),\n",
       " (array([74]), array([8])),\n",
       " (array([56]), array([8])),\n",
       " (array([84]), array([8])),\n",
       " (array([66]), array([8])),\n",
       " (array([90]), array([8])),\n",
       " (array([8]), array([8])),\n",
       " (array([90]), array([8])),\n",
       " (array([33]), array([8])),\n",
       " (array([90]), array([8])),\n",
       " (array([90]), array([8])),\n",
       " (array([8]), array([8])),\n",
       " (array([83]), array([8])),\n",
       " (array([8]), array([8])),\n",
       " (array([81]), array([8])),\n",
       " (array([45]), array([8])),\n",
       " (array([92]), array([8])),\n",
       " (array([88]), array([8])),\n",
       " (array([53]), array([8])),\n",
       " (array([56]), array([8])),\n",
       " (array([62]), array([8])),\n",
       " (array([56]), array([8])),\n",
       " (array([47]), array([8])),\n",
       " (array([62]), array([8])),\n",
       " (array([14]), array([8])),\n",
       " (array([60]), array([8])),\n",
       " (array([56]), array([8])),\n",
       " (array([59]), array([8])),\n",
       " (array([8]), array([8])),\n",
       " (array([90]), array([8])),\n",
       " (array([25]), array([8])),\n",
       " (array([8]), array([8])),\n",
       " (array([8]), array([8])),\n",
       " (array([5]), array([8])),\n",
       " (array([90]), array([8])),\n",
       " (array([17]), array([8])),\n",
       " (array([8]), array([8])),\n",
       " (array([5]), array([8])),\n",
       " (array([53]), array([8])),\n",
       " (array([8]), array([8])),\n",
       " (array([74]), array([8])),\n",
       " (array([74]), array([8])),\n",
       " (array([43]), array([8])),\n",
       " (array([46]), array([8])),\n",
       " (array([92]), array([8])),\n",
       " (array([46]), array([8])),\n",
       " (array([5]), array([8])),\n",
       " (array([15]), array([8])),\n",
       " (array([8]), array([8])),\n",
       " (array([16]), array([8])),\n",
       " (array([16]), array([8])),\n",
       " (array([43]), array([8])),\n",
       " (array([8]), array([8])),\n",
       " (array([40]), array([8])),\n",
       " (array([38]), array([8])),\n",
       " (array([16]), array([8])),\n",
       " (array([56]), array([8])),\n",
       " (array([90]), array([8])),\n",
       " (array([17]), array([8])),\n",
       " (array([70]), array([8])),\n",
       " (array([62]), array([8])),\n",
       " (array([8]), array([8])),\n",
       " (array([14]), array([8])),\n",
       " (array([41]), array([8])),\n",
       " (array([62]), array([8])),\n",
       " (array([38]), array([8])),\n",
       " (array([56]), array([8])),\n",
       " (array([8]), array([8])),\n",
       " (array([8]), array([8])),\n",
       " (array([90]), array([8])),\n",
       " (array([46]), array([8])),\n",
       " (array([56]), array([8])),\n",
       " (array([61, 90]), array([1, 7])),\n",
       " (array([9]), array([8])),\n",
       " (array([8]), array([8])),\n",
       " (array([61]), array([8])),\n",
       " (array([61]), array([8])),\n",
       " (array([71]), array([8])),\n",
       " (array([70]), array([8])),\n",
       " (array([8]), array([8])),\n",
       " (array([74]), array([8])),\n",
       " (array([69]), array([8])),\n",
       " (array([56, 70]), array([5, 3])),\n",
       " (array([8]), array([8])),\n",
       " (array([90]), array([8])),\n",
       " (array([8]), array([8])),\n",
       " (array([14]), array([8])),\n",
       " (array([56]), array([8])),\n",
       " (array([22]), array([8])),\n",
       " (array([91]), array([8])),\n",
       " (array([88]), array([8])),\n",
       " (array([56]), array([8])),\n",
       " (array([56]), array([8])),\n",
       " (array([92]), array([8])),\n",
       " (array([71]), array([8])),\n",
       " (array([5]), array([8])),\n",
       " (array([8]), array([8])),\n",
       " (array([90]), array([8])),\n",
       " (array([51]), array([8])),\n",
       " (array([8]), array([8])),\n",
       " (array([8]), array([8])),\n",
       " (array([46]), array([8])),\n",
       " (array([8]), array([8])),\n",
       " (array([92]), array([8])),\n",
       " (array([70]), array([8])),\n",
       " (array([14]), array([8])),\n",
       " (array([8]), array([8])),\n",
       " (array([48]), array([8])),\n",
       " (array([8]), array([8])),\n",
       " (array([61]), array([8])),\n",
       " (array([86]), array([8])),\n",
       " (array([14]), array([8])),\n",
       " (array([56]), array([8])),\n",
       " (array([79]), array([8])),\n",
       " (array([56]), array([8])),\n",
       " (array([70]), array([8])),\n",
       " (array([90]), array([8])),\n",
       " (array([90]), array([8])),\n",
       " (array([14]), array([8])),\n",
       " (array([8]), array([8])),\n",
       " (array([56]), array([8])),\n",
       " (array([90]), array([8])),\n",
       " (array([56]), array([8])),\n",
       " (array([14]), array([8])),\n",
       " (array([17]), array([8])),\n",
       " (array([8]), array([8])),\n",
       " (array([86]), array([8])),\n",
       " (array([54]), array([8])),\n",
       " (array([91]), array([8])),\n",
       " (array([16]), array([8])),\n",
       " (array([8]), array([8])),\n",
       " (array([90]), array([8])),\n",
       " (array([8]), array([8])),\n",
       " (array([61]), array([8])),\n",
       " (array([56]), array([8])),\n",
       " (array([47]), array([8])),\n",
       " (array([56]), array([8])),\n",
       " (array([93]), array([8])),\n",
       " (array([8]), array([8])),\n",
       " (array([43]), array([8])),\n",
       " (array([90]), array([8])),\n",
       " (array([88]), array([8])),\n",
       " (array([8]), array([8])),\n",
       " (array([25]), array([8])),\n",
       " (array([69]), array([8])),\n",
       " (array([61]), array([8])),\n",
       " (array([14]), array([8])),\n",
       " (array([14]), array([8])),\n",
       " (array([74]), array([8])),\n",
       " (array([90]), array([8])),\n",
       " (array([2]), array([8])),\n",
       " (array([74]), array([8])),\n",
       " (array([18]), array([8])),\n",
       " (array([86]), array([8])),\n",
       " (array([61]), array([8])),\n",
       " (array([61]), array([8])),\n",
       " (array([94]), array([8])),\n",
       " (array([8]), array([8])),\n",
       " (array([74]), array([8])),\n",
       " (array([90]), array([8])),\n",
       " (array([8]), array([8])),\n",
       " (array([8]), array([8])),\n",
       " (array([8]), array([8])),\n",
       " (array([90]), array([8])),\n",
       " (array([56]), array([8])),\n",
       " (array([48]), array([8])),\n",
       " (array([25]), array([8])),\n",
       " (array([37]), array([8])),\n",
       " (array([21]), array([8])),\n",
       " (array([8]), array([8])),\n",
       " (array([61]), array([8])),\n",
       " (array([8]), array([8])),\n",
       " (array([48]), array([8])),\n",
       " (array([56, 93]), array([6, 2])),\n",
       " (array([90]), array([8])),\n",
       " (array([61]), array([8])),\n",
       " (array([90]), array([8])),\n",
       " (array([11, 17]), array([6, 2])),\n",
       " (array([56]), array([8])),\n",
       " (array([92]), array([8])),\n",
       " (array([8]), array([8])),\n",
       " (array([8]), array([8])),\n",
       " (array([71]), array([8])),\n",
       " (array([25]), array([8])),\n",
       " (array([7]), array([8])),\n",
       " (array([69]), array([8])),\n",
       " (array([8]), array([8])),\n",
       " (array([37]), array([8])),\n",
       " (array([90]), array([8])),\n",
       " (array([8]), array([8])),\n",
       " (array([11]), array([8])),\n",
       " (array([94]), array([8])),\n",
       " (array([90]), array([8])),\n",
       " (array([8]), array([8])),\n",
       " (array([14]), array([8])),\n",
       " (array([18]), array([8])),\n",
       " (array([69]), array([8])),\n",
       " (array([90]), array([8])),\n",
       " (array([48]), array([8])),\n",
       " (array([8]), array([8])),\n",
       " (array([56]), array([8])),\n",
       " (array([61, 90]), array([7, 1])),\n",
       " (array([8]), array([8])),\n",
       " (array([8]), array([8])),\n",
       " (array([56]), array([8])),\n",
       " (array([8]), array([8])),\n",
       " (array([8]), array([8])),\n",
       " (array([92]), array([8])),\n",
       " (array([37]), array([8])),\n",
       " (array([90]), array([8])),\n",
       " (array([41]), array([8])),\n",
       " (array([56]), array([8])),\n",
       " (array([8]), array([8])),\n",
       " (array([41]), array([8])),\n",
       " (array([46]), array([8])),\n",
       " (array([37]), array([8])),\n",
       " (array([61]), array([8])),\n",
       " (array([62]), array([8])),\n",
       " (array([8]), array([8])),\n",
       " (array([8]), array([8])),\n",
       " (array([48]), array([8])),\n",
       " (array([8]), array([8])),\n",
       " (array([61, 90]), array([3, 5])),\n",
       " (array([83]), array([8])),\n",
       " (array([14]), array([8])),\n",
       " (array([8]), array([8])),\n",
       " (array([40]), array([8])),\n",
       " (array([8]), array([8])),\n",
       " (array([8]), array([8])),\n",
       " (array([79]), array([8])),\n",
       " (array([14]), array([8])),\n",
       " (array([67]), array([8])),\n",
       " (array([54]), array([8])),\n",
       " (array([87]), array([8])),\n",
       " (array([91]), array([8])),\n",
       " (array([8]), array([8])),\n",
       " (array([92]), array([8])),\n",
       " (array([40]), array([8])),\n",
       " (array([46]), array([8])),\n",
       " (array([40]), array([8])),\n",
       " (array([17]), array([8])),\n",
       " (array([8]), array([8])),\n",
       " (array([56]), array([8])),\n",
       " (array([38]), array([8])),\n",
       " (array([61, 90]), array([7, 1])),\n",
       " (array([85]), array([8])),\n",
       " (array([71]), array([8])),\n",
       " (array([43]), array([8])),\n",
       " (array([90]), array([8])),\n",
       " (array([14]), array([8])),\n",
       " (array([71]), array([8])),\n",
       " (array([8]), array([8])),\n",
       " (array([61]), array([8])),\n",
       " (array([88]), array([8])),\n",
       " (array([47]), array([8])),\n",
       " (array([61]), array([8])),\n",
       " (array([83]), array([8])),\n",
       " (array([8]), array([8])),\n",
       " (array([83]), array([8])),\n",
       " (array([48]), array([8])),\n",
       " (array([91]), array([8])),\n",
       " (array([8]), array([8])),\n",
       " (array([14, 49]), array([7, 1])),\n",
       " (array([86]), array([8])),\n",
       " (array([8]), array([8])),\n",
       " (array([8]), array([8])),\n",
       " (array([8]), array([8])),\n",
       " (array([9]), array([8])),\n",
       " (array([65]), array([8])),\n",
       " (array([74]), array([8])),\n",
       " (array([86]), array([8])),\n",
       " (array([56]), array([8])),\n",
       " (array([62]), array([8])),\n",
       " (array([8]), array([8])),\n",
       " (array([43]), array([8])),\n",
       " (array([8]), array([8])),\n",
       " (array([0]), array([8])),\n",
       " (array([8]), array([8])),\n",
       " (array([8]), array([8])),\n",
       " (array([33]), array([8])),\n",
       " (array([90]), array([8])),\n",
       " (array([8]), array([8])),\n",
       " (array([62]), array([8])),\n",
       " (array([16]), array([8])),\n",
       " (array([7]), array([8])),\n",
       " (array([71]), array([8])),\n",
       " (array([5]), array([8])),\n",
       " (array([37]), array([8])),\n",
       " (array([8]), array([8])),\n",
       " (array([17]), array([8])),\n",
       " (array([87]), array([8])),\n",
       " (array([18]), array([8])),\n",
       " (array([37]), array([8])),\n",
       " (array([64]), array([8])),\n",
       " (array([51]), array([8])),\n",
       " (array([7]), array([8])),\n",
       " (array([8]), array([8])),\n",
       " (array([86]), array([8])),\n",
       " (array([8]), array([8])),\n",
       " (array([14]), array([8])),\n",
       " (array([14, 86]), array([6, 2])),\n",
       " (array([17]), array([8])),\n",
       " (array([94]), array([8])),\n",
       " (array([56]), array([8])),\n",
       " (array([14]), array([8])),\n",
       " (array([47]), array([8])),\n",
       " (array([8]), array([8])),\n",
       " (array([46]), array([8])),\n",
       " (array([70]), array([8])),\n",
       " (array([90]), array([8])),\n",
       " (array([7]), array([8])),\n",
       " (array([90]), array([8])),\n",
       " (array([74]), array([8])),\n",
       " (array([74]), array([8])),\n",
       " (array([61, 90]), array([5, 3])),\n",
       " (array([92]), array([8])),\n",
       " (array([37]), array([8])),\n",
       " (array([48]), array([8])),\n",
       " (array([8]), array([8])),\n",
       " (array([25]), array([8])),\n",
       " (array([33]), array([8])),\n",
       " (array([14, 86]), array([2, 6])),\n",
       " (array([28]), array([8])),\n",
       " (array([14]), array([8])),\n",
       " (array([8]), array([8])),\n",
       " (array([18]), array([8])),\n",
       " (array([22, 47]), array([7, 1])),\n",
       " (array([69]), array([8])),\n",
       " (array([92]), array([8])),\n",
       " (array([ 8, 25]), array([1, 7])),\n",
       " (array([71]), array([8])),\n",
       " (array([8]), array([8])),\n",
       " (array([2]), array([8])),\n",
       " (array([86]), array([8])),\n",
       " (array([70]), array([8])),\n",
       " (array([54]), array([8])),\n",
       " (array([8]), array([8])),\n",
       " (array([90]), array([8])),\n",
       " (array([91]), array([8])),\n",
       " (array([67]), array([8])),\n",
       " (array([17]), array([8])),\n",
       " (array([8]), array([8])),\n",
       " (array([90]), array([8])),\n",
       " (array([90]), array([8])),\n",
       " (array([19, 88]), array([4, 4])),\n",
       " (array([66]), array([8])),\n",
       " (array([8]), array([8])),\n",
       " (array([56]), array([8])),\n",
       " (array([90]), array([8])),\n",
       " (array([33]), array([8])),\n",
       " (array([25]), array([8])),\n",
       " (array([5]), array([8])),\n",
       " (array([45]), array([8])),\n",
       " (array([54]), array([8])),\n",
       " (array([14, 49]), array([3, 5])),\n",
       " (array([56]), array([8])),\n",
       " (array([8]), array([8])),\n",
       " (array([56]), array([8])),\n",
       " (array([61]), array([8])),\n",
       " (array([8]), array([8])),\n",
       " (array([8]), array([8])),\n",
       " (array([43]), array([8])),\n",
       " (array([21, 64]), array([6, 2])),\n",
       " (array([56]), array([8])),\n",
       " (array([69]), array([8])),\n",
       " (array([56, 70]), array([6, 2])),\n",
       " (array([16]), array([8])),\n",
       " (array([ 9, 75]), array([1, 7])),\n",
       " (array([45]), array([8])),\n",
       " (array([8]), array([8])),\n",
       " (array([96]), array([8])),\n",
       " (array([14]), array([8])),\n",
       " (array([90]), array([8])),\n",
       " (array([8]), array([8])),\n",
       " (array([ 8, 25]), array([7, 1])),\n",
       " (array([22]), array([8])),\n",
       " (array([22]), array([8])),\n",
       " (array([89]), array([8])),\n",
       " (array([6, 8]), array([3, 5])),\n",
       " (array([86]), array([8])),\n",
       " (array([90]), array([8])),\n",
       " (array([91]), array([8])),\n",
       " (array([8]), array([8])),\n",
       " (array([17]), array([8])),\n",
       " (array([33]), array([8])),\n",
       " (array([ 3, 71]), array([2, 6])),\n",
       " (array([55]), array([8])),\n",
       " (array([15]), array([8])),\n",
       " (array([75]), array([8])),\n",
       " (array([19]), array([8])),\n",
       " (array([86]), array([8])),\n",
       " (array([56]), array([8])),\n",
       " (array([86]), array([8])),\n",
       " (array([8]), array([8])),\n",
       " (array([90]), array([8])),\n",
       " (array([14, 40]), array([6, 2])),\n",
       " (array([45]), array([8])),\n",
       " (array([91]), array([8])),\n",
       " (array([8]), array([8])),\n",
       " (array([0]), array([8])),\n",
       " (array([75]), array([8])),\n",
       " (array([14]), array([8])),\n",
       " (array([8]), array([8])),\n",
       " (array([56]), array([8])),\n",
       " (array([56]), array([8])),\n",
       " (array([8]), array([8])),\n",
       " (array([90]), array([8])),\n",
       " (array([80]), array([8])),\n",
       " (array([55]), array([8])),\n",
       " (array([8]), array([8])),\n",
       " (array([62]), array([8])),\n",
       " (array([14]), array([8])),\n",
       " (array([90]), array([8])),\n",
       " (array([90]), array([8])),\n",
       " (array([8]), array([8])),\n",
       " (array([32]), array([8])),\n",
       " (array([2]), array([8])),\n",
       " (array([85]), array([8])),\n",
       " (array([14]), array([8])),\n",
       " (array([87]), array([8])),\n",
       " (array([74]), array([8])),\n",
       " (array([13]), array([8])),\n",
       " (array([33]), array([8])),\n",
       " (array([8]), array([8])),\n",
       " (array([71]), array([8])),\n",
       " (array([90]), array([8])),\n",
       " (array([83]), array([8])),\n",
       " (array([60]), array([8])),\n",
       " (array([8]), array([8])),\n",
       " (array([62]), array([8])),\n",
       " (array([8]), array([8])),\n",
       " (array([92]), array([8])),\n",
       " (array([33]), array([8])),\n",
       " (array([70]), array([8])),\n",
       " (array([32]), array([8])),\n",
       " (array([8]), array([8])),\n",
       " (array([19]), array([8])),\n",
       " (array([14]), array([8])),\n",
       " (array([8]), array([8])),\n",
       " (array([37]), array([8])),\n",
       " (array([32]), array([8])),\n",
       " (array([53]), array([8])),\n",
       " (array([ 5, 62]), array([7, 1])),\n",
       " (array([84]), array([8])),\n",
       " (array([69]), array([8])),\n",
       " (array([18]), array([8])),\n",
       " (array([75]), array([8])),\n",
       " (array([7]), array([8])),\n",
       " (array([40]), array([8])),\n",
       " (array([86]), array([8])),\n",
       " (array([8]), array([8])),\n",
       " (array([10]), array([8])),\n",
       " (array([94]), array([8])),\n",
       " (array([92]), array([8])),\n",
       " (array([8]), array([8])),\n",
       " (array([54]), array([8])),\n",
       " (array([8]), array([8])),\n",
       " (array([8]), array([8])),\n",
       " (array([56, 70]), array([2, 6])),\n",
       " (array([52]), array([8])),\n",
       " (array([54]), array([8])),\n",
       " (array([90]), array([8])),\n",
       " (array([14]), array([8])),\n",
       " (array([90]), array([8])),\n",
       " (array([34, 70]), array([6, 2])),\n",
       " (array([33]), array([8])),\n",
       " (array([61]), array([8])),\n",
       " (array([14]), array([8])),\n",
       " (array([8]), array([8])),\n",
       " (array([8]), array([8])),\n",
       " (array([14]), array([8])),\n",
       " (array([39]), array([8])),\n",
       " (array([48]), array([8])),\n",
       " (array([92]), array([8])),\n",
       " (array([61, 90]), array([4, 4])),\n",
       " (array([34]), array([8])),\n",
       " (array([14]), array([8])),\n",
       " (array([62]), array([8])),\n",
       " (array([9]), array([8])),\n",
       " (array([92]), array([8])),\n",
       " (array([90]), array([8])),\n",
       " (array([5]), array([8])),\n",
       " (array([79]), array([8])),\n",
       " (array([94]), array([8])),\n",
       " (array([8]), array([8])),\n",
       " (array([25]), array([8])),\n",
       " (array([14]), array([8])),\n",
       " (array([91]), array([8])),\n",
       " (array([32]), array([8])),\n",
       " (array([54]), array([8])),\n",
       " (array([56]), array([8])),\n",
       " (array([86]), array([8])),\n",
       " (array([8]), array([8])),\n",
       " (array([9]), array([8])),\n",
       " (array([41, 43]), array([3, 5])),\n",
       " (array([22]), array([8])),\n",
       " (array([8]), array([8])),\n",
       " (array([8]), array([8])),\n",
       " (array([81]), array([8])),\n",
       " (array([14]), array([8])),\n",
       " (array([8]), array([8])),\n",
       " (array([90]), array([8])),\n",
       " (array([9]), array([8])),\n",
       " (array([8]), array([8])),\n",
       " (array([8]), array([8])),\n",
       " (array([87]), array([8])),\n",
       " (array([0]), array([8])),\n",
       " (array([25]), array([8])),\n",
       " (array([37]), array([8])),\n",
       " (array([56]), array([8])),\n",
       " (array([51]), array([8])),\n",
       " (array([8]), array([8])),\n",
       " (array([8]), array([8])),\n",
       " (array([71]), array([8])),\n",
       " (array([8]), array([8])),\n",
       " (array([56]), array([8])),\n",
       " (array([70]), array([8])),\n",
       " (array([54]), array([8])),\n",
       " (array([90]), array([8])),\n",
       " (array([8]), array([8])),\n",
       " (array([45]), array([8])),\n",
       " (array([54]), array([8])),\n",
       " (array([45]), array([8])),\n",
       " (array([0]), array([8])),\n",
       " (array([8]), array([8])),\n",
       " (array([60]), array([8])),\n",
       " (array([45]), array([8])),\n",
       " (array([96]), array([8])),\n",
       " (array([54]), array([8])),\n",
       " (array([53]), array([8])),\n",
       " (array([81]), array([8])),\n",
       " (array([8]), array([8])),\n",
       " (array([8]), array([8])),\n",
       " (array([11]), array([8])),\n",
       " (array([39]), array([8])),\n",
       " (array([38]), array([8])),\n",
       " (array([16]), array([8])),\n",
       " (array([17]), array([8])),\n",
       " (array([54]), array([8])),\n",
       " (array([15]), array([8])),\n",
       " (array([8]), array([8])),\n",
       " (array([8]), array([8])),\n",
       " (array([33]), array([8])),\n",
       " (array([8]), array([8])),\n",
       " (array([5]), array([8])),\n",
       " (array([8]), array([8])),\n",
       " (array([75]), array([8])),\n",
       " (array([56]), array([8])),\n",
       " (array([32]), array([8])),\n",
       " (array([82]), array([8])),\n",
       " (array([21]), array([8])),\n",
       " (array([86]), array([8])),\n",
       " (array([8]), array([8])),\n",
       " (array([8]), array([8])),\n",
       " (array([5]), array([8])),\n",
       " (array([90]), array([8])),\n",
       " (array([5]), array([8])),\n",
       " (array([37]), array([8])),\n",
       " (array([43]), array([8])),\n",
       " (array([8]), array([8])),\n",
       " (array([7]), array([8])),\n",
       " (array([90]), array([8])),\n",
       " (array([90]), array([8])),\n",
       " (array([86]), array([8])),\n",
       " (array([8]), array([8])),\n",
       " (array([8]), array([8])),\n",
       " (array([83]), array([8])),\n",
       " (array([8]), array([8])),\n",
       " (array([8]), array([8])),\n",
       " (array([8]), array([8])),\n",
       " (array([56]), array([8])),\n",
       " (array([8]), array([8])),\n",
       " (array([87]), array([8])),\n",
       " (array([9]), array([8])),\n",
       " (array([8]), array([8])),\n",
       " (array([70]), array([8])),\n",
       " (array([90]), array([8])),\n",
       " (array([17]), array([8])),\n",
       " (array([90]), array([8])),\n",
       " (array([90]), array([8])),\n",
       " (array([91]), array([8])),\n",
       " (array([16]), array([8])),\n",
       " (array([19]), array([8])),\n",
       " (array([49]), array([8])),\n",
       " (array([54]), array([8])),\n",
       " (array([22]), array([8])),\n",
       " (array([70]), array([8])),\n",
       " (array([66]), array([8])),\n",
       " (array([19]), array([8])),\n",
       " (array([90]), array([8])),\n",
       " (array([91]), array([8])),\n",
       " (array([8]), array([8])),\n",
       " (array([56]), array([8])),\n",
       " (array([22, 32]), array([2, 6])),\n",
       " (array([14, 86]), array([1, 7])),\n",
       " (array([90]), array([8])),\n",
       " (array([8]), array([8])),\n",
       " (array([71]), array([8])),\n",
       " (array([70]), array([8])),\n",
       " (array([8]), array([8])),\n",
       " (array([88]), array([8])),\n",
       " (array([86]), array([8])),\n",
       " (array([14]), array([8])),\n",
       " (array([8]), array([8])),\n",
       " (array([38]), array([8])),\n",
       " (array([61, 90]), array([7, 1])),\n",
       " (array([8]), array([8])),\n",
       " (array([38]), array([8])),\n",
       " (array([56]), array([8])),\n",
       " (array([56]), array([8])),\n",
       " (array([40]), array([8])),\n",
       " (array([90]), array([8])),\n",
       " (array([8]), array([8])),\n",
       " (array([7]), array([8])),\n",
       " (array([14]), array([8])),\n",
       " (array([11]), array([8])),\n",
       " (array([90]), array([8])),\n",
       " (array([16]), array([8])),\n",
       " (array([75]), array([8])),\n",
       " (array([14]), array([8])),\n",
       " (array([19]), array([8])),\n",
       " (array([8]), array([8])),\n",
       " (array([8]), array([8])),\n",
       " (array([56]), array([8])),\n",
       " (array([92]), array([8])),\n",
       " ...]"
      ]
     },
     "execution_count": 40,
     "metadata": {},
     "output_type": "execute_result"
    }
   ],
   "source": [
    "uni_counts"
   ]
  },
  {
   "cell_type": "code",
   "execution_count": 41,
   "id": "a9f4c555-7956-45ed-9460-eaf2b50327a9",
   "metadata": {},
   "outputs": [],
   "source": [
    "forecast_matrix = np.zeros( (bl_pred.shape[0] , 97) )"
   ]
  },
  {
   "cell_type": "code",
   "execution_count": 42,
   "id": "3c9618d7-c0c0-47eb-b0aa-e38a3fb5cfdb",
   "metadata": {},
   "outputs": [],
   "source": [
    "for i,protein in enumerate(uni_counts):\n",
    "    classes = protein[0]\n",
    "    counts = protein[1]\n",
    "\n",
    "    for j , cl in enumerate(classes):\n",
    "\n",
    "        forecast_matrix[ i , cl  ] = counts[j]\n"
   ]
  },
  {
   "cell_type": "code",
   "execution_count": 43,
   "id": "36e04783-530e-4363-a91e-cee8cb28ea19",
   "metadata": {
    "scrolled": true
   },
   "outputs": [],
   "source": [
    "sorted_classes = []\n",
    "\n",
    "for protein in uni_counts:\n",
    "    classes = protein[0]\n",
    "    counts = protein[1]\n",
    "\n",
    "    order = np.argsort(counts)[::-1]\n",
    "\n",
    "    classes = classes[order]\n",
    "    counts = counts[order]\n",
    "\n",
    "    sorted_classes.append( [ classes, counts ] )\n",
    "    "
   ]
  },
  {
   "cell_type": "code",
   "execution_count": 44,
   "id": "1f09b1a6-c8d8-4892-9bd7-152808c67f31",
   "metadata": {
    "scrolled": true
   },
   "outputs": [],
   "source": [
    "sorted_classes = [ [x[0] , [y/8 for y in x[1]]] for x in sorted_classes ]"
   ]
  },
  {
   "cell_type": "code",
   "execution_count": 45,
   "id": "a1722c72-6731-4235-a9ca-923d8f1a5622",
   "metadata": {
    "scrolled": true
   },
   "outputs": [],
   "source": [
    "sorted_classes = [ [ x[0].tolist(), x[1]] for x in sorted_classes]"
   ]
  },
  {
   "cell_type": "code",
   "execution_count": 46,
   "id": "0e46b9f4-3196-4be8-aa92-809730eff4c5",
   "metadata": {
    "scrolled": true
   },
   "outputs": [
    {
     "data": {
      "text/plain": [
       "[[[39], [1.0]],\n",
       " [[10], [1.0]],\n",
       " [[8], [1.0]],\n",
       " [[61], [1.0]],\n",
       " [[14], [1.0]],\n",
       " [[56], [1.0]],\n",
       " [[14], [1.0]],\n",
       " [[8], [1.0]],\n",
       " [[81], [1.0]],\n",
       " [[90], [1.0]],\n",
       " [[91], [1.0]],\n",
       " [[8], [1.0]],\n",
       " [[56, 79], [0.875, 0.125]],\n",
       " [[8], [1.0]],\n",
       " [[19], [1.0]],\n",
       " [[90], [1.0]],\n",
       " [[90], [1.0]],\n",
       " [[40], [1.0]],\n",
       " [[70], [1.0]],\n",
       " [[61], [1.0]],\n",
       " [[70], [1.0]],\n",
       " [[56], [1.0]],\n",
       " [[45], [1.0]],\n",
       " [[8], [1.0]],\n",
       " [[56], [1.0]],\n",
       " [[14], [1.0]],\n",
       " [[25], [1.0]],\n",
       " [[16], [1.0]],\n",
       " [[37], [1.0]],\n",
       " [[8], [1.0]],\n",
       " [[8], [1.0]],\n",
       " [[14], [1.0]],\n",
       " [[87], [1.0]],\n",
       " [[14], [1.0]],\n",
       " [[92], [1.0]],\n",
       " [[56], [1.0]],\n",
       " [[83], [1.0]],\n",
       " [[14], [1.0]],\n",
       " [[90], [1.0]],\n",
       " [[8], [1.0]],\n",
       " [[8], [1.0]],\n",
       " [[15], [1.0]],\n",
       " [[8], [1.0]],\n",
       " [[56, 70], [0.875, 0.125]],\n",
       " [[33], [1.0]],\n",
       " [[62], [1.0]],\n",
       " [[7], [1.0]],\n",
       " [[79], [1.0]],\n",
       " [[21], [1.0]],\n",
       " [[8], [1.0]],\n",
       " [[84], [1.0]],\n",
       " [[22], [1.0]],\n",
       " [[14], [1.0]],\n",
       " [[22], [1.0]],\n",
       " [[9], [1.0]],\n",
       " [[90, 61], [0.75, 0.25]],\n",
       " [[14], [1.0]],\n",
       " [[49, 14], [0.625, 0.375]],\n",
       " [[55], [1.0]],\n",
       " [[56], [1.0]],\n",
       " [[41], [1.0]],\n",
       " [[70], [1.0]],\n",
       " [[14], [1.0]],\n",
       " [[90], [1.0]],\n",
       " [[55, 87], [0.75, 0.25]],\n",
       " [[60], [1.0]],\n",
       " [[56], [1.0]],\n",
       " [[7], [1.0]],\n",
       " [[90], [1.0]],\n",
       " [[15], [1.0]],\n",
       " [[8], [1.0]],\n",
       " [[87], [1.0]],\n",
       " [[14], [1.0]],\n",
       " [[75], [1.0]],\n",
       " [[16], [1.0]],\n",
       " [[56], [1.0]],\n",
       " [[8], [1.0]],\n",
       " [[8], [1.0]],\n",
       " [[88], [1.0]],\n",
       " [[14], [1.0]],\n",
       " [[8], [1.0]],\n",
       " [[8], [1.0]],\n",
       " [[91], [1.0]],\n",
       " [[70, 56], [0.625, 0.375]],\n",
       " [[96], [1.0]],\n",
       " [[8], [1.0]],\n",
       " [[15], [1.0]],\n",
       " [[8], [1.0]],\n",
       " [[8], [1.0]],\n",
       " [[90], [1.0]],\n",
       " [[90], [1.0]],\n",
       " [[8], [1.0]],\n",
       " [[8], [1.0]],\n",
       " [[90], [1.0]],\n",
       " [[8], [1.0]],\n",
       " [[79, 56], [0.5, 0.5]],\n",
       " [[96], [1.0]],\n",
       " [[8], [1.0]],\n",
       " [[14], [1.0]],\n",
       " [[14], [1.0]],\n",
       " [[40, 86], [0.625, 0.375]],\n",
       " [[91], [1.0]],\n",
       " [[34], [1.0]],\n",
       " [[15], [1.0]],\n",
       " [[90], [1.0]],\n",
       " [[41], [1.0]],\n",
       " [[91], [1.0]],\n",
       " [[14], [1.0]],\n",
       " [[61], [1.0]],\n",
       " [[25], [1.0]],\n",
       " [[61], [1.0]],\n",
       " [[8], [1.0]],\n",
       " [[8], [1.0]],\n",
       " [[8], [1.0]],\n",
       " [[38], [1.0]],\n",
       " [[83], [1.0]],\n",
       " [[7], [1.0]],\n",
       " [[54], [1.0]],\n",
       " [[8], [1.0]],\n",
       " [[8], [1.0]],\n",
       " [[70], [1.0]],\n",
       " [[94], [1.0]],\n",
       " [[88], [1.0]],\n",
       " [[43], [1.0]],\n",
       " [[8], [1.0]],\n",
       " [[47], [1.0]],\n",
       " [[69], [1.0]],\n",
       " [[21], [1.0]],\n",
       " [[33, 29], [0.625, 0.375]],\n",
       " [[25], [1.0]],\n",
       " [[52], [1.0]],\n",
       " [[23], [1.0]],\n",
       " [[15], [1.0]],\n",
       " [[90], [1.0]],\n",
       " [[86], [1.0]],\n",
       " [[8, 21], [0.75, 0.25]],\n",
       " [[16], [1.0]],\n",
       " [[56], [1.0]],\n",
       " [[93], [1.0]],\n",
       " [[61, 90], [0.625, 0.375]],\n",
       " [[90], [1.0]],\n",
       " [[5], [1.0]],\n",
       " [[8], [1.0]],\n",
       " [[9], [1.0]],\n",
       " [[14], [1.0]],\n",
       " [[18], [1.0]],\n",
       " [[90], [1.0]],\n",
       " [[5], [1.0]],\n",
       " [[60], [1.0]],\n",
       " [[7], [1.0]],\n",
       " [[61], [1.0]],\n",
       " [[14], [1.0]],\n",
       " [[46], [1.0]],\n",
       " [[56, 93, 70], [0.5, 0.25, 0.25]],\n",
       " [[8], [1.0]],\n",
       " [[33], [1.0]],\n",
       " [[21, 64], [0.75, 0.25]],\n",
       " [[79, 56], [0.875, 0.125]],\n",
       " [[90], [1.0]],\n",
       " [[56], [1.0]],\n",
       " [[8], [1.0]],\n",
       " [[9], [1.0]],\n",
       " [[8], [1.0]],\n",
       " [[9], [1.0]],\n",
       " [[90], [1.0]],\n",
       " [[11], [1.0]],\n",
       " [[8], [1.0]],\n",
       " [[70], [1.0]],\n",
       " [[74], [1.0]],\n",
       " [[8], [1.0]],\n",
       " [[8], [1.0]],\n",
       " [[12], [1.0]],\n",
       " [[8], [1.0]],\n",
       " [[79, 56], [0.625, 0.375]],\n",
       " [[21], [1.0]],\n",
       " [[56], [1.0]],\n",
       " [[8], [1.0]],\n",
       " [[8], [1.0]],\n",
       " [[90], [1.0]],\n",
       " [[8], [1.0]],\n",
       " [[8], [1.0]],\n",
       " [[56], [1.0]],\n",
       " [[96], [1.0]],\n",
       " [[8], [1.0]],\n",
       " [[56], [1.0]],\n",
       " [[8], [1.0]],\n",
       " [[45], [1.0]],\n",
       " [[56], [1.0]],\n",
       " [[45], [1.0]],\n",
       " [[8], [1.0]],\n",
       " [[88], [1.0]],\n",
       " [[56], [1.0]],\n",
       " [[56, 34], [0.5, 0.5]],\n",
       " [[93], [1.0]],\n",
       " [[64], [1.0]],\n",
       " [[91], [1.0]],\n",
       " [[96], [1.0]],\n",
       " [[5], [1.0]],\n",
       " [[41], [1.0]],\n",
       " [[14], [1.0]],\n",
       " [[14], [1.0]],\n",
       " [[33], [1.0]],\n",
       " [[8], [1.0]],\n",
       " [[33], [1.0]],\n",
       " [[56], [1.0]],\n",
       " [[43], [1.0]],\n",
       " [[60], [1.0]],\n",
       " [[53], [1.0]],\n",
       " [[18], [1.0]],\n",
       " [[8], [1.0]],\n",
       " [[8], [1.0]],\n",
       " [[56], [1.0]],\n",
       " [[8], [1.0]],\n",
       " [[70], [1.0]],\n",
       " [[90], [1.0]],\n",
       " [[5], [1.0]],\n",
       " [[27], [1.0]],\n",
       " [[13], [1.0]],\n",
       " [[41], [1.0]],\n",
       " [[56], [1.0]],\n",
       " [[56], [1.0]],\n",
       " [[87], [1.0]],\n",
       " [[8], [1.0]],\n",
       " [[8], [1.0]],\n",
       " [[8], [1.0]],\n",
       " [[62], [1.0]],\n",
       " [[61], [1.0]],\n",
       " [[8], [1.0]],\n",
       " [[45], [1.0]],\n",
       " [[16], [1.0]],\n",
       " [[59], [1.0]],\n",
       " [[53, 59, 51], [0.5, 0.375, 0.125]],\n",
       " [[83], [1.0]],\n",
       " [[90], [1.0]],\n",
       " [[14], [1.0]],\n",
       " [[45], [1.0]],\n",
       " [[9], [1.0]],\n",
       " [[8], [1.0]],\n",
       " [[15], [1.0]],\n",
       " [[34], [1.0]],\n",
       " [[56], [1.0]],\n",
       " [[74], [1.0]],\n",
       " [[64], [1.0]],\n",
       " [[8], [1.0]],\n",
       " [[75], [1.0]],\n",
       " [[7], [1.0]],\n",
       " [[90], [1.0]],\n",
       " [[14], [1.0]],\n",
       " [[90], [1.0]],\n",
       " [[56], [1.0]],\n",
       " [[90], [1.0]],\n",
       " [[8], [1.0]],\n",
       " [[22], [1.0]],\n",
       " [[88], [1.0]],\n",
       " [[34], [1.0]],\n",
       " [[37], [1.0]],\n",
       " [[25], [1.0]],\n",
       " [[86], [1.0]],\n",
       " [[61], [1.0]],\n",
       " [[8], [1.0]],\n",
       " [[8], [1.0]],\n",
       " [[14], [1.0]],\n",
       " [[92], [1.0]],\n",
       " [[21, 64], [0.625, 0.375]],\n",
       " [[87], [1.0]],\n",
       " [[61, 90], [0.625, 0.375]],\n",
       " [[90], [1.0]],\n",
       " [[52], [1.0]],\n",
       " [[79, 56], [0.875, 0.125]],\n",
       " [[8], [1.0]],\n",
       " [[13], [1.0]],\n",
       " [[62], [1.0]],\n",
       " [[71], [1.0]],\n",
       " [[8], [1.0]],\n",
       " [[90], [1.0]],\n",
       " [[21, 64], [0.875, 0.125]],\n",
       " [[86], [1.0]],\n",
       " [[14], [1.0]],\n",
       " [[62], [1.0]],\n",
       " [[71], [1.0]],\n",
       " [[8], [1.0]],\n",
       " [[90, 61], [0.75, 0.25]],\n",
       " [[70], [1.0]],\n",
       " [[8], [1.0]],\n",
       " [[90], [1.0]],\n",
       " [[8], [1.0]],\n",
       " [[41], [1.0]],\n",
       " [[56], [1.0]],\n",
       " [[90], [1.0]],\n",
       " [[8], [1.0]],\n",
       " [[0], [1.0]],\n",
       " [[8], [1.0]],\n",
       " [[90], [1.0]],\n",
       " [[96], [1.0]],\n",
       " [[81], [1.0]],\n",
       " [[62], [1.0]],\n",
       " [[5], [1.0]],\n",
       " [[43], [1.0]],\n",
       " [[56], [1.0]],\n",
       " [[35], [1.0]],\n",
       " [[8], [1.0]],\n",
       " [[8], [1.0]],\n",
       " [[14], [1.0]],\n",
       " [[90], [1.0]],\n",
       " [[52], [1.0]],\n",
       " [[56], [1.0]],\n",
       " [[18], [1.0]],\n",
       " [[45], [1.0]],\n",
       " [[90], [1.0]],\n",
       " [[8], [1.0]],\n",
       " [[14], [1.0]],\n",
       " [[8], [1.0]],\n",
       " [[90], [1.0]],\n",
       " [[59], [1.0]],\n",
       " [[17], [1.0]],\n",
       " [[66], [1.0]],\n",
       " [[92], [1.0]],\n",
       " [[81], [1.0]],\n",
       " [[86], [1.0]],\n",
       " [[25], [1.0]],\n",
       " [[45], [1.0]],\n",
       " [[79], [1.0]],\n",
       " [[90], [1.0]],\n",
       " [[8], [1.0]],\n",
       " [[90], [1.0]],\n",
       " [[61], [1.0]],\n",
       " [[66], [1.0]],\n",
       " [[8], [1.0]],\n",
       " [[90], [1.0]],\n",
       " [[56], [1.0]],\n",
       " [[87], [1.0]],\n",
       " [[8], [1.0]],\n",
       " [[5], [1.0]],\n",
       " [[83], [1.0]],\n",
       " [[8, 25], [0.625, 0.375]],\n",
       " [[8], [1.0]],\n",
       " [[28], [1.0]],\n",
       " [[85], [1.0]],\n",
       " [[56], [1.0]],\n",
       " [[51], [1.0]],\n",
       " [[17], [1.0]],\n",
       " [[59], [1.0]],\n",
       " [[87], [1.0]],\n",
       " [[56], [1.0]],\n",
       " [[0], [1.0]],\n",
       " [[91], [1.0]],\n",
       " [[59], [1.0]],\n",
       " [[8], [1.0]],\n",
       " [[14], [1.0]],\n",
       " [[74], [1.0]],\n",
       " [[8], [1.0]],\n",
       " [[52], [1.0]],\n",
       " [[92], [1.0]],\n",
       " [[8], [1.0]],\n",
       " [[55], [1.0]],\n",
       " [[8], [1.0]],\n",
       " [[37], [1.0]],\n",
       " [[3], [1.0]],\n",
       " [[87], [1.0]],\n",
       " [[86], [1.0]],\n",
       " [[22, 32], [0.75, 0.25]],\n",
       " [[56], [1.0]],\n",
       " [[90], [1.0]],\n",
       " [[52], [1.0]],\n",
       " [[56], [1.0]],\n",
       " [[21, 64], [0.75, 0.25]],\n",
       " [[83], [1.0]],\n",
       " [[87], [1.0]],\n",
       " [[56], [1.0]],\n",
       " [[56], [1.0]],\n",
       " [[90], [1.0]],\n",
       " [[8], [1.0]],\n",
       " [[4], [1.0]],\n",
       " [[79], [1.0]],\n",
       " [[8], [1.0]],\n",
       " [[11], [1.0]],\n",
       " [[74], [1.0]],\n",
       " [[56], [1.0]],\n",
       " [[84], [1.0]],\n",
       " [[66], [1.0]],\n",
       " [[90], [1.0]],\n",
       " [[8], [1.0]],\n",
       " [[90], [1.0]],\n",
       " [[33], [1.0]],\n",
       " [[90], [1.0]],\n",
       " [[90], [1.0]],\n",
       " [[8], [1.0]],\n",
       " [[83], [1.0]],\n",
       " [[8], [1.0]],\n",
       " [[81], [1.0]],\n",
       " [[45], [1.0]],\n",
       " [[92], [1.0]],\n",
       " [[88], [1.0]],\n",
       " [[53], [1.0]],\n",
       " [[56], [1.0]],\n",
       " [[62], [1.0]],\n",
       " [[56], [1.0]],\n",
       " [[47], [1.0]],\n",
       " [[62], [1.0]],\n",
       " [[14], [1.0]],\n",
       " [[60], [1.0]],\n",
       " [[56], [1.0]],\n",
       " [[59], [1.0]],\n",
       " [[8], [1.0]],\n",
       " [[90], [1.0]],\n",
       " [[25], [1.0]],\n",
       " [[8], [1.0]],\n",
       " [[8], [1.0]],\n",
       " [[5], [1.0]],\n",
       " [[90], [1.0]],\n",
       " [[17], [1.0]],\n",
       " [[8], [1.0]],\n",
       " [[5], [1.0]],\n",
       " [[53], [1.0]],\n",
       " [[8], [1.0]],\n",
       " [[74], [1.0]],\n",
       " [[74], [1.0]],\n",
       " [[43], [1.0]],\n",
       " [[46], [1.0]],\n",
       " [[92], [1.0]],\n",
       " [[46], [1.0]],\n",
       " [[5], [1.0]],\n",
       " [[15], [1.0]],\n",
       " [[8], [1.0]],\n",
       " [[16], [1.0]],\n",
       " [[16], [1.0]],\n",
       " [[43], [1.0]],\n",
       " [[8], [1.0]],\n",
       " [[40], [1.0]],\n",
       " [[38], [1.0]],\n",
       " [[16], [1.0]],\n",
       " [[56], [1.0]],\n",
       " [[90], [1.0]],\n",
       " [[17], [1.0]],\n",
       " [[70], [1.0]],\n",
       " [[62], [1.0]],\n",
       " [[8], [1.0]],\n",
       " [[14], [1.0]],\n",
       " [[41], [1.0]],\n",
       " [[62], [1.0]],\n",
       " [[38], [1.0]],\n",
       " [[56], [1.0]],\n",
       " [[8], [1.0]],\n",
       " [[8], [1.0]],\n",
       " [[90], [1.0]],\n",
       " [[46], [1.0]],\n",
       " [[56], [1.0]],\n",
       " [[90, 61], [0.875, 0.125]],\n",
       " [[9], [1.0]],\n",
       " [[8], [1.0]],\n",
       " [[61], [1.0]],\n",
       " [[61], [1.0]],\n",
       " [[71], [1.0]],\n",
       " [[70], [1.0]],\n",
       " [[8], [1.0]],\n",
       " [[74], [1.0]],\n",
       " [[69], [1.0]],\n",
       " [[56, 70], [0.625, 0.375]],\n",
       " [[8], [1.0]],\n",
       " [[90], [1.0]],\n",
       " [[8], [1.0]],\n",
       " [[14], [1.0]],\n",
       " [[56], [1.0]],\n",
       " [[22], [1.0]],\n",
       " [[91], [1.0]],\n",
       " [[88], [1.0]],\n",
       " [[56], [1.0]],\n",
       " [[56], [1.0]],\n",
       " [[92], [1.0]],\n",
       " [[71], [1.0]],\n",
       " [[5], [1.0]],\n",
       " [[8], [1.0]],\n",
       " [[90], [1.0]],\n",
       " [[51], [1.0]],\n",
       " [[8], [1.0]],\n",
       " [[8], [1.0]],\n",
       " [[46], [1.0]],\n",
       " [[8], [1.0]],\n",
       " [[92], [1.0]],\n",
       " [[70], [1.0]],\n",
       " [[14], [1.0]],\n",
       " [[8], [1.0]],\n",
       " [[48], [1.0]],\n",
       " [[8], [1.0]],\n",
       " [[61], [1.0]],\n",
       " [[86], [1.0]],\n",
       " [[14], [1.0]],\n",
       " [[56], [1.0]],\n",
       " [[79], [1.0]],\n",
       " [[56], [1.0]],\n",
       " [[70], [1.0]],\n",
       " [[90], [1.0]],\n",
       " [[90], [1.0]],\n",
       " [[14], [1.0]],\n",
       " [[8], [1.0]],\n",
       " [[56], [1.0]],\n",
       " [[90], [1.0]],\n",
       " [[56], [1.0]],\n",
       " [[14], [1.0]],\n",
       " [[17], [1.0]],\n",
       " [[8], [1.0]],\n",
       " [[86], [1.0]],\n",
       " [[54], [1.0]],\n",
       " [[91], [1.0]],\n",
       " [[16], [1.0]],\n",
       " [[8], [1.0]],\n",
       " [[90], [1.0]],\n",
       " [[8], [1.0]],\n",
       " [[61], [1.0]],\n",
       " [[56], [1.0]],\n",
       " [[47], [1.0]],\n",
       " [[56], [1.0]],\n",
       " [[93], [1.0]],\n",
       " [[8], [1.0]],\n",
       " [[43], [1.0]],\n",
       " [[90], [1.0]],\n",
       " [[88], [1.0]],\n",
       " [[8], [1.0]],\n",
       " [[25], [1.0]],\n",
       " [[69], [1.0]],\n",
       " [[61], [1.0]],\n",
       " [[14], [1.0]],\n",
       " [[14], [1.0]],\n",
       " [[74], [1.0]],\n",
       " [[90], [1.0]],\n",
       " [[2], [1.0]],\n",
       " [[74], [1.0]],\n",
       " [[18], [1.0]],\n",
       " [[86], [1.0]],\n",
       " [[61], [1.0]],\n",
       " [[61], [1.0]],\n",
       " [[94], [1.0]],\n",
       " [[8], [1.0]],\n",
       " [[74], [1.0]],\n",
       " [[90], [1.0]],\n",
       " [[8], [1.0]],\n",
       " [[8], [1.0]],\n",
       " [[8], [1.0]],\n",
       " [[90], [1.0]],\n",
       " [[56], [1.0]],\n",
       " [[48], [1.0]],\n",
       " [[25], [1.0]],\n",
       " [[37], [1.0]],\n",
       " [[21], [1.0]],\n",
       " [[8], [1.0]],\n",
       " [[61], [1.0]],\n",
       " [[8], [1.0]],\n",
       " [[48], [1.0]],\n",
       " [[56, 93], [0.75, 0.25]],\n",
       " [[90], [1.0]],\n",
       " [[61], [1.0]],\n",
       " [[90], [1.0]],\n",
       " [[11, 17], [0.75, 0.25]],\n",
       " [[56], [1.0]],\n",
       " [[92], [1.0]],\n",
       " [[8], [1.0]],\n",
       " [[8], [1.0]],\n",
       " [[71], [1.0]],\n",
       " [[25], [1.0]],\n",
       " [[7], [1.0]],\n",
       " [[69], [1.0]],\n",
       " [[8], [1.0]],\n",
       " [[37], [1.0]],\n",
       " [[90], [1.0]],\n",
       " [[8], [1.0]],\n",
       " [[11], [1.0]],\n",
       " [[94], [1.0]],\n",
       " [[90], [1.0]],\n",
       " [[8], [1.0]],\n",
       " [[14], [1.0]],\n",
       " [[18], [1.0]],\n",
       " [[69], [1.0]],\n",
       " [[90], [1.0]],\n",
       " [[48], [1.0]],\n",
       " [[8], [1.0]],\n",
       " [[56], [1.0]],\n",
       " [[61, 90], [0.875, 0.125]],\n",
       " [[8], [1.0]],\n",
       " [[8], [1.0]],\n",
       " [[56], [1.0]],\n",
       " [[8], [1.0]],\n",
       " [[8], [1.0]],\n",
       " [[92], [1.0]],\n",
       " [[37], [1.0]],\n",
       " [[90], [1.0]],\n",
       " [[41], [1.0]],\n",
       " [[56], [1.0]],\n",
       " [[8], [1.0]],\n",
       " [[41], [1.0]],\n",
       " [[46], [1.0]],\n",
       " [[37], [1.0]],\n",
       " [[61], [1.0]],\n",
       " [[62], [1.0]],\n",
       " [[8], [1.0]],\n",
       " [[8], [1.0]],\n",
       " [[48], [1.0]],\n",
       " [[8], [1.0]],\n",
       " [[90, 61], [0.625, 0.375]],\n",
       " [[83], [1.0]],\n",
       " [[14], [1.0]],\n",
       " [[8], [1.0]],\n",
       " [[40], [1.0]],\n",
       " [[8], [1.0]],\n",
       " [[8], [1.0]],\n",
       " [[79], [1.0]],\n",
       " [[14], [1.0]],\n",
       " [[67], [1.0]],\n",
       " [[54], [1.0]],\n",
       " [[87], [1.0]],\n",
       " [[91], [1.0]],\n",
       " [[8], [1.0]],\n",
       " [[92], [1.0]],\n",
       " [[40], [1.0]],\n",
       " [[46], [1.0]],\n",
       " [[40], [1.0]],\n",
       " [[17], [1.0]],\n",
       " [[8], [1.0]],\n",
       " [[56], [1.0]],\n",
       " [[38], [1.0]],\n",
       " [[61, 90], [0.875, 0.125]],\n",
       " [[85], [1.0]],\n",
       " [[71], [1.0]],\n",
       " [[43], [1.0]],\n",
       " [[90], [1.0]],\n",
       " [[14], [1.0]],\n",
       " [[71], [1.0]],\n",
       " [[8], [1.0]],\n",
       " [[61], [1.0]],\n",
       " [[88], [1.0]],\n",
       " [[47], [1.0]],\n",
       " [[61], [1.0]],\n",
       " [[83], [1.0]],\n",
       " [[8], [1.0]],\n",
       " [[83], [1.0]],\n",
       " [[48], [1.0]],\n",
       " [[91], [1.0]],\n",
       " [[8], [1.0]],\n",
       " [[14, 49], [0.875, 0.125]],\n",
       " [[86], [1.0]],\n",
       " [[8], [1.0]],\n",
       " [[8], [1.0]],\n",
       " [[8], [1.0]],\n",
       " [[9], [1.0]],\n",
       " [[65], [1.0]],\n",
       " [[74], [1.0]],\n",
       " [[86], [1.0]],\n",
       " [[56], [1.0]],\n",
       " [[62], [1.0]],\n",
       " [[8], [1.0]],\n",
       " [[43], [1.0]],\n",
       " [[8], [1.0]],\n",
       " [[0], [1.0]],\n",
       " [[8], [1.0]],\n",
       " [[8], [1.0]],\n",
       " [[33], [1.0]],\n",
       " [[90], [1.0]],\n",
       " [[8], [1.0]],\n",
       " [[62], [1.0]],\n",
       " [[16], [1.0]],\n",
       " [[7], [1.0]],\n",
       " [[71], [1.0]],\n",
       " [[5], [1.0]],\n",
       " [[37], [1.0]],\n",
       " [[8], [1.0]],\n",
       " [[17], [1.0]],\n",
       " [[87], [1.0]],\n",
       " [[18], [1.0]],\n",
       " [[37], [1.0]],\n",
       " [[64], [1.0]],\n",
       " [[51], [1.0]],\n",
       " [[7], [1.0]],\n",
       " [[8], [1.0]],\n",
       " [[86], [1.0]],\n",
       " [[8], [1.0]],\n",
       " [[14], [1.0]],\n",
       " [[14, 86], [0.75, 0.25]],\n",
       " [[17], [1.0]],\n",
       " [[94], [1.0]],\n",
       " [[56], [1.0]],\n",
       " [[14], [1.0]],\n",
       " [[47], [1.0]],\n",
       " [[8], [1.0]],\n",
       " [[46], [1.0]],\n",
       " [[70], [1.0]],\n",
       " [[90], [1.0]],\n",
       " [[7], [1.0]],\n",
       " [[90], [1.0]],\n",
       " [[74], [1.0]],\n",
       " [[74], [1.0]],\n",
       " [[61, 90], [0.625, 0.375]],\n",
       " [[92], [1.0]],\n",
       " [[37], [1.0]],\n",
       " [[48], [1.0]],\n",
       " [[8], [1.0]],\n",
       " [[25], [1.0]],\n",
       " [[33], [1.0]],\n",
       " [[86, 14], [0.75, 0.25]],\n",
       " [[28], [1.0]],\n",
       " [[14], [1.0]],\n",
       " [[8], [1.0]],\n",
       " [[18], [1.0]],\n",
       " [[22, 47], [0.875, 0.125]],\n",
       " [[69], [1.0]],\n",
       " [[92], [1.0]],\n",
       " [[25, 8], [0.875, 0.125]],\n",
       " [[71], [1.0]],\n",
       " [[8], [1.0]],\n",
       " [[2], [1.0]],\n",
       " [[86], [1.0]],\n",
       " [[70], [1.0]],\n",
       " [[54], [1.0]],\n",
       " [[8], [1.0]],\n",
       " [[90], [1.0]],\n",
       " [[91], [1.0]],\n",
       " [[67], [1.0]],\n",
       " [[17], [1.0]],\n",
       " [[8], [1.0]],\n",
       " [[90], [1.0]],\n",
       " [[90], [1.0]],\n",
       " [[88, 19], [0.5, 0.5]],\n",
       " [[66], [1.0]],\n",
       " [[8], [1.0]],\n",
       " [[56], [1.0]],\n",
       " [[90], [1.0]],\n",
       " [[33], [1.0]],\n",
       " [[25], [1.0]],\n",
       " [[5], [1.0]],\n",
       " [[45], [1.0]],\n",
       " [[54], [1.0]],\n",
       " [[49, 14], [0.625, 0.375]],\n",
       " [[56], [1.0]],\n",
       " [[8], [1.0]],\n",
       " [[56], [1.0]],\n",
       " [[61], [1.0]],\n",
       " [[8], [1.0]],\n",
       " [[8], [1.0]],\n",
       " [[43], [1.0]],\n",
       " [[21, 64], [0.75, 0.25]],\n",
       " [[56], [1.0]],\n",
       " [[69], [1.0]],\n",
       " [[56, 70], [0.75, 0.25]],\n",
       " [[16], [1.0]],\n",
       " [[75, 9], [0.875, 0.125]],\n",
       " [[45], [1.0]],\n",
       " [[8], [1.0]],\n",
       " [[96], [1.0]],\n",
       " [[14], [1.0]],\n",
       " [[90], [1.0]],\n",
       " [[8], [1.0]],\n",
       " [[8, 25], [0.875, 0.125]],\n",
       " [[22], [1.0]],\n",
       " [[22], [1.0]],\n",
       " [[89], [1.0]],\n",
       " [[8, 6], [0.625, 0.375]],\n",
       " [[86], [1.0]],\n",
       " [[90], [1.0]],\n",
       " [[91], [1.0]],\n",
       " [[8], [1.0]],\n",
       " [[17], [1.0]],\n",
       " [[33], [1.0]],\n",
       " [[71, 3], [0.75, 0.25]],\n",
       " [[55], [1.0]],\n",
       " [[15], [1.0]],\n",
       " [[75], [1.0]],\n",
       " [[19], [1.0]],\n",
       " [[86], [1.0]],\n",
       " [[56], [1.0]],\n",
       " [[86], [1.0]],\n",
       " [[8], [1.0]],\n",
       " [[90], [1.0]],\n",
       " [[14, 40], [0.75, 0.25]],\n",
       " [[45], [1.0]],\n",
       " [[91], [1.0]],\n",
       " [[8], [1.0]],\n",
       " [[0], [1.0]],\n",
       " [[75], [1.0]],\n",
       " [[14], [1.0]],\n",
       " [[8], [1.0]],\n",
       " [[56], [1.0]],\n",
       " [[56], [1.0]],\n",
       " [[8], [1.0]],\n",
       " [[90], [1.0]],\n",
       " [[80], [1.0]],\n",
       " [[55], [1.0]],\n",
       " [[8], [1.0]],\n",
       " [[62], [1.0]],\n",
       " [[14], [1.0]],\n",
       " [[90], [1.0]],\n",
       " [[90], [1.0]],\n",
       " [[8], [1.0]],\n",
       " [[32], [1.0]],\n",
       " [[2], [1.0]],\n",
       " [[85], [1.0]],\n",
       " [[14], [1.0]],\n",
       " [[87], [1.0]],\n",
       " [[74], [1.0]],\n",
       " [[13], [1.0]],\n",
       " [[33], [1.0]],\n",
       " [[8], [1.0]],\n",
       " [[71], [1.0]],\n",
       " [[90], [1.0]],\n",
       " [[83], [1.0]],\n",
       " [[60], [1.0]],\n",
       " [[8], [1.0]],\n",
       " [[62], [1.0]],\n",
       " [[8], [1.0]],\n",
       " [[92], [1.0]],\n",
       " [[33], [1.0]],\n",
       " [[70], [1.0]],\n",
       " [[32], [1.0]],\n",
       " [[8], [1.0]],\n",
       " [[19], [1.0]],\n",
       " [[14], [1.0]],\n",
       " [[8], [1.0]],\n",
       " [[37], [1.0]],\n",
       " [[32], [1.0]],\n",
       " [[53], [1.0]],\n",
       " [[5, 62], [0.875, 0.125]],\n",
       " [[84], [1.0]],\n",
       " [[69], [1.0]],\n",
       " [[18], [1.0]],\n",
       " [[75], [1.0]],\n",
       " [[7], [1.0]],\n",
       " [[40], [1.0]],\n",
       " [[86], [1.0]],\n",
       " [[8], [1.0]],\n",
       " [[10], [1.0]],\n",
       " [[94], [1.0]],\n",
       " [[92], [1.0]],\n",
       " [[8], [1.0]],\n",
       " [[54], [1.0]],\n",
       " [[8], [1.0]],\n",
       " [[8], [1.0]],\n",
       " [[70, 56], [0.75, 0.25]],\n",
       " [[52], [1.0]],\n",
       " [[54], [1.0]],\n",
       " [[90], [1.0]],\n",
       " [[14], [1.0]],\n",
       " [[90], [1.0]],\n",
       " [[34, 70], [0.75, 0.25]],\n",
       " [[33], [1.0]],\n",
       " [[61], [1.0]],\n",
       " [[14], [1.0]],\n",
       " [[8], [1.0]],\n",
       " [[8], [1.0]],\n",
       " [[14], [1.0]],\n",
       " [[39], [1.0]],\n",
       " [[48], [1.0]],\n",
       " [[92], [1.0]],\n",
       " [[90, 61], [0.5, 0.5]],\n",
       " [[34], [1.0]],\n",
       " [[14], [1.0]],\n",
       " [[62], [1.0]],\n",
       " [[9], [1.0]],\n",
       " [[92], [1.0]],\n",
       " [[90], [1.0]],\n",
       " [[5], [1.0]],\n",
       " [[79], [1.0]],\n",
       " [[94], [1.0]],\n",
       " [[8], [1.0]],\n",
       " [[25], [1.0]],\n",
       " [[14], [1.0]],\n",
       " [[91], [1.0]],\n",
       " [[32], [1.0]],\n",
       " [[54], [1.0]],\n",
       " [[56], [1.0]],\n",
       " [[86], [1.0]],\n",
       " [[8], [1.0]],\n",
       " [[9], [1.0]],\n",
       " [[43, 41], [0.625, 0.375]],\n",
       " [[22], [1.0]],\n",
       " [[8], [1.0]],\n",
       " [[8], [1.0]],\n",
       " [[81], [1.0]],\n",
       " [[14], [1.0]],\n",
       " [[8], [1.0]],\n",
       " [[90], [1.0]],\n",
       " [[9], [1.0]],\n",
       " [[8], [1.0]],\n",
       " [[8], [1.0]],\n",
       " [[87], [1.0]],\n",
       " [[0], [1.0]],\n",
       " [[25], [1.0]],\n",
       " [[37], [1.0]],\n",
       " [[56], [1.0]],\n",
       " [[51], [1.0]],\n",
       " [[8], [1.0]],\n",
       " [[8], [1.0]],\n",
       " [[71], [1.0]],\n",
       " [[8], [1.0]],\n",
       " [[56], [1.0]],\n",
       " [[70], [1.0]],\n",
       " [[54], [1.0]],\n",
       " [[90], [1.0]],\n",
       " [[8], [1.0]],\n",
       " [[45], [1.0]],\n",
       " [[54], [1.0]],\n",
       " [[45], [1.0]],\n",
       " [[0], [1.0]],\n",
       " [[8], [1.0]],\n",
       " [[60], [1.0]],\n",
       " [[45], [1.0]],\n",
       " [[96], [1.0]],\n",
       " [[54], [1.0]],\n",
       " [[53], [1.0]],\n",
       " [[81], [1.0]],\n",
       " [[8], [1.0]],\n",
       " [[8], [1.0]],\n",
       " [[11], [1.0]],\n",
       " [[39], [1.0]],\n",
       " [[38], [1.0]],\n",
       " [[16], [1.0]],\n",
       " [[17], [1.0]],\n",
       " [[54], [1.0]],\n",
       " [[15], [1.0]],\n",
       " [[8], [1.0]],\n",
       " [[8], [1.0]],\n",
       " [[33], [1.0]],\n",
       " [[8], [1.0]],\n",
       " [[5], [1.0]],\n",
       " [[8], [1.0]],\n",
       " [[75], [1.0]],\n",
       " [[56], [1.0]],\n",
       " [[32], [1.0]],\n",
       " [[82], [1.0]],\n",
       " [[21], [1.0]],\n",
       " [[86], [1.0]],\n",
       " [[8], [1.0]],\n",
       " [[8], [1.0]],\n",
       " [[5], [1.0]],\n",
       " [[90], [1.0]],\n",
       " [[5], [1.0]],\n",
       " [[37], [1.0]],\n",
       " [[43], [1.0]],\n",
       " [[8], [1.0]],\n",
       " [[7], [1.0]],\n",
       " [[90], [1.0]],\n",
       " [[90], [1.0]],\n",
       " [[86], [1.0]],\n",
       " [[8], [1.0]],\n",
       " [[8], [1.0]],\n",
       " [[83], [1.0]],\n",
       " [[8], [1.0]],\n",
       " [[8], [1.0]],\n",
       " [[8], [1.0]],\n",
       " [[56], [1.0]],\n",
       " [[8], [1.0]],\n",
       " [[87], [1.0]],\n",
       " [[9], [1.0]],\n",
       " [[8], [1.0]],\n",
       " [[70], [1.0]],\n",
       " [[90], [1.0]],\n",
       " [[17], [1.0]],\n",
       " [[90], [1.0]],\n",
       " [[90], [1.0]],\n",
       " [[91], [1.0]],\n",
       " [[16], [1.0]],\n",
       " [[19], [1.0]],\n",
       " [[49], [1.0]],\n",
       " [[54], [1.0]],\n",
       " [[22], [1.0]],\n",
       " [[70], [1.0]],\n",
       " [[66], [1.0]],\n",
       " [[19], [1.0]],\n",
       " [[90], [1.0]],\n",
       " [[91], [1.0]],\n",
       " [[8], [1.0]],\n",
       " [[56], [1.0]],\n",
       " [[32, 22], [0.75, 0.25]],\n",
       " [[86, 14], [0.875, 0.125]],\n",
       " [[90], [1.0]],\n",
       " [[8], [1.0]],\n",
       " [[71], [1.0]],\n",
       " [[70], [1.0]],\n",
       " [[8], [1.0]],\n",
       " [[88], [1.0]],\n",
       " [[86], [1.0]],\n",
       " [[14], [1.0]],\n",
       " [[8], [1.0]],\n",
       " [[38], [1.0]],\n",
       " [[61, 90], [0.875, 0.125]],\n",
       " [[8], [1.0]],\n",
       " [[38], [1.0]],\n",
       " [[56], [1.0]],\n",
       " [[56], [1.0]],\n",
       " [[40], [1.0]],\n",
       " [[90], [1.0]],\n",
       " [[8], [1.0]],\n",
       " [[7], [1.0]],\n",
       " [[14], [1.0]],\n",
       " [[11], [1.0]],\n",
       " [[90], [1.0]],\n",
       " [[16], [1.0]],\n",
       " [[75], [1.0]],\n",
       " [[14], [1.0]],\n",
       " [[19], [1.0]],\n",
       " [[8], [1.0]],\n",
       " [[8], [1.0]],\n",
       " [[56], [1.0]],\n",
       " [[92], [1.0]],\n",
       " ...]"
      ]
     },
     "execution_count": 46,
     "metadata": {},
     "output_type": "execute_result"
    }
   ],
   "source": [
    "sorted_classes"
   ]
  },
  {
   "cell_type": "markdown",
   "id": "c2f978aa-bf88-437c-87be-da5fca1aa3d1",
   "metadata": {},
   "source": [
    "## Majority voting + class frequencies"
   ]
  },
  {
   "cell_type": "markdown",
   "id": "6599a70b-d295-4573-9342-ae4c00eabd92",
   "metadata": {},
   "source": [
    "Sometimes there is no strict majority, in that case we break ties by which class has the highest frequency"
   ]
  },
  {
   "cell_type": "code",
   "execution_count": 47,
   "id": "df3965e1-396f-4559-b826-c09f9aec2661",
   "metadata": {},
   "outputs": [],
   "source": [
    "majority_voting = []\n",
    "weak_majorities = 0"
   ]
  },
  {
   "cell_type": "code",
   "execution_count": 48,
   "id": "52ffafe7-541f-4bf7-b7a0-b6f49845a7b2",
   "metadata": {},
   "outputs": [
    {
     "ename": "NameError",
     "evalue": "name 'labels' is not defined",
     "output_type": "error",
     "traceback": [
      "\u001b[0;31m---------------------------------------------------------------------------\u001b[0m",
      "\u001b[0;31mNameError\u001b[0m                                 Traceback (most recent call last)",
      "Cell \u001b[0;32mIn[48], line 1\u001b[0m\n\u001b[0;32m----> 1\u001b[0m _ , label_counts \u001b[38;5;241m=\u001b[39m np\u001b[38;5;241m.\u001b[39munique(\u001b[43mlabels\u001b[49m, return_counts\u001b[38;5;241m=\u001b[39m\u001b[38;5;28;01mTrue\u001b[39;00m)\n",
      "\u001b[0;31mNameError\u001b[0m: name 'labels' is not defined"
     ]
    }
   ],
   "source": [
    "_ , label_counts = np.unique(labels, return_counts=True)"
   ]
  },
  {
   "cell_type": "code",
   "execution_count": 49,
   "id": "14a07a3d-8631-455d-8755-8721803b0f65",
   "metadata": {},
   "outputs": [
    {
     "ename": "NameError",
     "evalue": "name 'label_counts' is not defined",
     "output_type": "error",
     "traceback": [
      "\u001b[0;31m---------------------------------------------------------------------------\u001b[0m",
      "\u001b[0;31mNameError\u001b[0m                                 Traceback (most recent call last)",
      "Cell \u001b[0;32mIn[49], line 11\u001b[0m\n\u001b[1;32m      8\u001b[0m     majority_voting\u001b[38;5;241m.\u001b[39mappend(tied_classes[\u001b[38;5;241m0\u001b[39m])\n\u001b[1;32m     10\u001b[0m \u001b[38;5;28;01melse\u001b[39;00m:\n\u001b[0;32m---> 11\u001b[0m     top_class \u001b[38;5;241m=\u001b[39m \u001b[38;5;28;43mmax\u001b[39;49m\u001b[43m(\u001b[49m\u001b[43m \u001b[49m\u001b[43mtied_classes\u001b[49m\u001b[43m,\u001b[49m\u001b[43m \u001b[49m\u001b[43mkey\u001b[49m\u001b[43m \u001b[49m\u001b[38;5;241;43m=\u001b[39;49m\u001b[43m \u001b[49m\u001b[38;5;28;43;01mlambda\u001b[39;49;00m\u001b[43m \u001b[49m\u001b[43mn\u001b[49m\u001b[43m \u001b[49m\u001b[43m:\u001b[49m\u001b[43m \u001b[49m\u001b[43mlabel_counts\u001b[49m\u001b[43m[\u001b[49m\u001b[43mn\u001b[49m\u001b[43m]\u001b[49m\u001b[43m \u001b[49m\u001b[43m)\u001b[49m\n\u001b[1;32m     12\u001b[0m     majority_voting\u001b[38;5;241m.\u001b[39mappend(top_class)\n\u001b[1;32m     13\u001b[0m     weak_majorities \u001b[38;5;241m+\u001b[39m\u001b[38;5;241m=\u001b[39m \u001b[38;5;241m1\u001b[39m\n",
      "Cell \u001b[0;32mIn[49], line 11\u001b[0m, in \u001b[0;36m<lambda>\u001b[0;34m(n)\u001b[0m\n\u001b[1;32m      8\u001b[0m     majority_voting\u001b[38;5;241m.\u001b[39mappend(tied_classes[\u001b[38;5;241m0\u001b[39m])\n\u001b[1;32m     10\u001b[0m \u001b[38;5;28;01melse\u001b[39;00m:\n\u001b[0;32m---> 11\u001b[0m     top_class \u001b[38;5;241m=\u001b[39m \u001b[38;5;28mmax\u001b[39m( tied_classes, key \u001b[38;5;241m=\u001b[39m \u001b[38;5;28;01mlambda\u001b[39;00m n : \u001b[43mlabel_counts\u001b[49m[n] )\n\u001b[1;32m     12\u001b[0m     majority_voting\u001b[38;5;241m.\u001b[39mappend(top_class)\n\u001b[1;32m     13\u001b[0m     weak_majorities \u001b[38;5;241m+\u001b[39m\u001b[38;5;241m=\u001b[39m \u001b[38;5;241m1\u001b[39m\n",
      "\u001b[0;31mNameError\u001b[0m: name 'label_counts' is not defined"
     ]
    }
   ],
   "source": [
    "for classes, counts in sorted_classes:\n",
    "\n",
    "    max_freq = np.max(counts)\n",
    "\n",
    "    tied_classes = [cls for cls, cts in zip(classes, counts) if cts == max_freq]\n",
    "\n",
    "    if len(tied_classes)==1:\n",
    "        majority_voting.append(tied_classes[0])\n",
    "\n",
    "    else:\n",
    "        top_class = max( tied_classes, key = lambda n : label_counts[n] )\n",
    "        majority_voting.append(top_class)\n",
    "        weak_majorities += 1\n"
   ]
  },
  {
   "cell_type": "code",
   "execution_count": 50,
   "id": "7cfec6a3-28d6-48d6-b141-2fdc5b0dcdab",
   "metadata": {},
   "outputs": [
    {
     "data": {
      "text/plain": [
       "0"
      ]
     },
     "execution_count": 50,
     "metadata": {},
     "output_type": "execute_result"
    }
   ],
   "source": [
    "weak_majorities"
   ]
  },
  {
   "cell_type": "markdown",
   "id": "35f2d2b9-99fb-44ab-ab3d-ab19de0f015e",
   "metadata": {
    "scrolled": true
   },
   "source": [
    "### Plot histogram"
   ]
  },
  {
   "cell_type": "code",
   "execution_count": 51,
   "id": "cc2fce15-afe4-4996-8773-03395d3ea36e",
   "metadata": {},
   "outputs": [
    {
     "ename": "NameError",
     "evalue": "name 'labels' is not defined",
     "output_type": "error",
     "traceback": [
      "\u001b[0;31m---------------------------------------------------------------------------\u001b[0m",
      "\u001b[0;31mNameError\u001b[0m                                 Traceback (most recent call last)",
      "Cell \u001b[0;32mIn[51], line 2\u001b[0m\n\u001b[1;32m      1\u001b[0m hist, bins \u001b[38;5;241m=\u001b[39m np\u001b[38;5;241m.\u001b[39mhistogram(majority_voting, bins\u001b[38;5;241m=\u001b[39mnp\u001b[38;5;241m.\u001b[39marange(\u001b[38;5;241m0\u001b[39m,\u001b[38;5;241m97\u001b[39m), density\u001b[38;5;241m=\u001b[39m\u001b[38;5;28;01mTrue\u001b[39;00m)\n\u001b[0;32m----> 2\u001b[0m histTruth, _ \u001b[38;5;241m=\u001b[39m np\u001b[38;5;241m.\u001b[39mhistogram(\u001b[43mlabels\u001b[49m, bins\u001b[38;5;241m=\u001b[39mnp\u001b[38;5;241m.\u001b[39marange(\u001b[38;5;241m0\u001b[39m,\u001b[38;5;241m97\u001b[39m), density\u001b[38;5;241m=\u001b[39m\u001b[38;5;28;01mTrue\u001b[39;00m)\n",
      "\u001b[0;31mNameError\u001b[0m: name 'labels' is not defined"
     ]
    }
   ],
   "source": [
    "hist, bins = np.histogram(majority_voting, bins=np.arange(0,97), density=True)\n",
    "histTruth, _ = np.histogram(labels, bins=np.arange(0,97), density=True)"
   ]
  },
  {
   "cell_type": "code",
   "execution_count": 439,
   "id": "55c9ec37-4284-4ea9-9b07-854040c13bd3",
   "metadata": {},
   "outputs": [
    {
     "data": {
      "text/plain": [
       "<matplotlib.legend.Legend at 0x793dd2cdf640>"
      ]
     },
     "execution_count": 439,
     "metadata": {},
     "output_type": "execute_result"
    },
    {
     "data": {
      "image/png": "[encoded data removed]",
      "text/plain": [
       "<Figure size 432x288 with 1 Axes>"
      ]
     },
     "metadata": {
      "needs_background": "light"
     },
     "output_type": "display_data"
    }
   ],
   "source": [
    "plt.bar(bins[:-1],hist, alpha=0.5, color='green', label='Predicted')\n",
    "plt.bar(bins[:-1],histTruth, alpha=0.3, color='blue', label='from Training')\n",
    "plt.xlabel('Class')\n",
    "plt.ylabel('Freq')\n",
    "plt.legend()"
   ]
  },
  {
   "cell_type": "code",
   "execution_count": 52,
   "id": "d374ffd6-b9f2-4c7b-a74f-6ba087df7cb3",
   "metadata": {
    "scrolled": true
   },
   "outputs": [],
   "source": [
    "import pandas as pd"
   ]
  },
  {
   "cell_type": "code",
   "execution_count": 54,
   "id": "05f11184-7da3-44c2-9490-104cfe1ca486",
   "metadata": {},
   "outputs": [],
   "source": [
    "result_labels = np.array(majority_voting)"
   ]
  },
  {
   "cell_type": "code",
   "execution_count": 55,
   "id": "e705a13a-5122-4820-a5b9-d454d73b3736",
   "metadata": {},
   "outputs": [],
   "source": [
    "result = np.column_stack( [np.arange(result_labels.shape[0]) , result_labels] )"
   ]
  },
  {
   "cell_type": "code",
   "execution_count": 56,
   "id": "202094b1-5078-4b25-ab07-c25b51e25aef",
   "metadata": {},
   "outputs": [],
   "source": [
    "result = pd.DataFrame(result)"
   ]
  },
  {
   "cell_type": "code",
   "execution_count": 432,
   "id": "74f7e95c-cacb-4214-9bcd-993867c808dd",
   "metadata": {},
   "outputs": [],
   "source": [
    "result.to_csv('./data/results/classification135/Classification135Balanced.csv', header=['Protein','Class'], index=None)"
   ]
  },
  {
   "cell_type": "code",
   "execution_count": 433,
   "id": "c43c4ef8-e1f9-4d56-a543-f2bc2f861852",
   "metadata": {
    "scrolled": true
   },
   "outputs": [],
   "source": [
    "sorted_classes_csv = pd.DataFrame(sorted_classes)"
   ]
  },
  {
   "cell_type": "code",
   "execution_count": 434,
   "id": "3667f1d7-d1b3-424a-a08d-68871a78d1a4",
   "metadata": {},
   "outputs": [],
   "source": [
    "sorted_classes_csv.insert(0, 'Protein', range(len(sorted_classes_csv)))"
   ]
  },
  {
   "cell_type": "code",
   "execution_count": 435,
   "id": "013ba28c-c522-45cc-8b1c-174c3555dd6a",
   "metadata": {},
   "outputs": [],
   "source": [
    "sorted_classes_csv.to_csv( './data/results/classification135/ClassesProbabilitiesBalanced.csv', header=['Protein','Classes','Probabilities'], index=None )"
   ]
  },
  {
   "cell_type": "code",
   "execution_count": 436,
   "id": "eea6d08f-3d9f-457b-8c76-b06f3f19d830",
   "metadata": {},
   "outputs": [
    {
     "data": {
      "text/html": [
       "<div>\n",
       "<style scoped>\n",
       "    .dataframe tbody tr th:only-of-type {\n",
       "        vertical-align: middle;\n",
       "    }\n",
       "\n",
       "    .dataframe tbody tr th {\n",
       "        vertical-align: top;\n",
       "    }\n",
       "\n",
       "    .dataframe thead th {\n",
       "        text-align: right;\n",
       "    }\n",
       "</style>\n",
       "<table border=\"1\" class=\"dataframe\">\n",
       "  <thead>\n",
       "    <tr style=\"text-align: right;\">\n",
       "      <th></th>\n",
       "      <th>Protein</th>\n",
       "      <th>0</th>\n",
       "      <th>1</th>\n",
       "    </tr>\n",
       "  </thead>\n",
       "  <tbody>\n",
       "    <tr>\n",
       "      <th>0</th>\n",
       "      <td>0</td>\n",
       "      <td>[39]</td>\n",
       "      <td>[1.0]</td>\n",
       "    </tr>\n",
       "    <tr>\n",
       "      <th>1</th>\n",
       "      <td>1</td>\n",
       "      <td>[10]</td>\n",
       "      <td>[1.0]</td>\n",
       "    </tr>\n",
       "    <tr>\n",
       "      <th>2</th>\n",
       "      <td>2</td>\n",
       "      <td>[8]</td>\n",
       "      <td>[1.0]</td>\n",
       "    </tr>\n",
       "    <tr>\n",
       "      <th>3</th>\n",
       "      <td>3</td>\n",
       "      <td>[61]</td>\n",
       "      <td>[1.0]</td>\n",
       "    </tr>\n",
       "    <tr>\n",
       "      <th>4</th>\n",
       "      <td>4</td>\n",
       "      <td>[14]</td>\n",
       "      <td>[1.0]</td>\n",
       "    </tr>\n",
       "    <tr>\n",
       "      <th>...</th>\n",
       "      <td>...</td>\n",
       "      <td>...</td>\n",
       "      <td>...</td>\n",
       "    </tr>\n",
       "    <tr>\n",
       "      <th>2316</th>\n",
       "      <td>2316</td>\n",
       "      <td>[70]</td>\n",
       "      <td>[1.0]</td>\n",
       "    </tr>\n",
       "    <tr>\n",
       "      <th>2317</th>\n",
       "      <td>2317</td>\n",
       "      <td>[92]</td>\n",
       "      <td>[1.0]</td>\n",
       "    </tr>\n",
       "    <tr>\n",
       "      <th>2318</th>\n",
       "      <td>2318</td>\n",
       "      <td>[51]</td>\n",
       "      <td>[1.0]</td>\n",
       "    </tr>\n",
       "    <tr>\n",
       "      <th>2319</th>\n",
       "      <td>2319</td>\n",
       "      <td>[90]</td>\n",
       "      <td>[1.0]</td>\n",
       "    </tr>\n",
       "    <tr>\n",
       "      <th>2320</th>\n",
       "      <td>2320</td>\n",
       "      <td>[14]</td>\n",
       "      <td>[1.0]</td>\n",
       "    </tr>\n",
       "  </tbody>\n",
       "</table>\n",
       "<p>2321 rows × 3 columns</p>\n",
       "</div>"
      ],
      "text/plain": [
       "      Protein     0      1\n",
       "0           0  [39]  [1.0]\n",
       "1           1  [10]  [1.0]\n",
       "2           2   [8]  [1.0]\n",
       "3           3  [61]  [1.0]\n",
       "4           4  [14]  [1.0]\n",
       "...       ...   ...    ...\n",
       "2316     2316  [70]  [1.0]\n",
       "2317     2317  [92]  [1.0]\n",
       "2318     2318  [51]  [1.0]\n",
       "2319     2319  [90]  [1.0]\n",
       "2320     2320  [14]  [1.0]\n",
       "\n",
       "[2321 rows x 3 columns]"
      ]
     },
     "execution_count": 436,
     "metadata": {},
     "output_type": "execute_result"
    }
   ],
   "source": [
    "sorted_classes_csv"
   ]
  },
  {
   "cell_type": "markdown",
   "id": "536f84e2-5a26-43d3-b257-a7f279d19336",
   "metadata": {},
   "source": [
    "### Dataset Balancing"
   ]
  },
  {
   "cell_type": "code",
   "execution_count": 337,
   "id": "08a6bd57-1103-423a-b25b-be336196022b",
   "metadata": {},
   "outputs": [
    {
     "data": {
      "text/plain": [
       "array([ 101,    3,   17,   21,   15,  127,   25,   75, 2054,   66,   14,\n",
       "         43,   10,   22,  489,   89,  154,  116,   76,   42,    7,   74,\n",
       "         58,   10,   10,  143,    2,    3,   18,   14,    3,   33,   93,\n",
       "        126,   73,   23,    8,  119,   34,   19,   95,   95,    2,   70,\n",
       "          2,  109,   44,   37,   27,   49,    2,   71,   76,   53,  128,\n",
       "         26,  654,    9,    2,   54,   73,  240,  135,    2,   57,   10,\n",
       "         54,   17,    5,   80,  223,  102,    2,    6,  150,   69,   10,\n",
       "          2,    5,   78,   57,   58,    2,  115,   18,   49,  203,  103,\n",
       "         97,    3,  788,  118,  129,   61,   52,    2,   35])"
      ]
     },
     "execution_count": 337,
     "metadata": {},
     "output_type": "execute_result"
    }
   ],
   "source": [
    "_ , class_counts = np.unique(labels[::8], return_counts=True)\n",
    "class_counts"
   ]
  },
  {
   "cell_type": "code",
   "execution_count": 323,
   "id": "b7d33535-486d-4bc9-865d-ec3974e5b490",
   "metadata": {},
   "outputs": [],
   "source": [
    "small_classes = np.where(class_counts <= 10)[0]"
   ]
  },
  {
   "cell_type": "code",
   "execution_count": 324,
   "id": "e22f3b7f-73c9-4f5f-b911-934e5cf45851",
   "metadata": {},
   "outputs": [
    {
     "data": {
      "text/plain": [
       "array([ 1, 12, 20, 23, 24, 26, 27, 30, 36, 42, 44, 50, 57, 58, 63, 65, 68,\n",
       "       72, 73, 76, 77, 78, 82, 89, 95])"
      ]
     },
     "execution_count": 324,
     "metadata": {},
     "output_type": "execute_result"
    }
   ],
   "source": [
    "small_classes"
   ]
  },
  {
   "cell_type": "code",
   "execution_count": 325,
   "id": "af5cf1b7-50cf-45f2-9285-50694e262cdb",
   "metadata": {},
   "outputs": [],
   "source": [
    "def balance( n ):\n",
    "    if n <= 3:\n",
    "        return 30\n",
    "\n",
    "    elif n <=8:\n",
    "        return 12\n",
    "\n",
    "    elif n<=20:\n",
    "        return 4\n",
    "\n",
    "    else:\n",
    "        return 2\n",
    "        "
   ]
  },
  {
   "cell_type": "code",
   "execution_count": 326,
   "id": "a49676a1-62f3-410c-ba79-c3676d8823ec",
   "metadata": {},
   "outputs": [
    {
     "data": {
      "text/plain": [
       "3"
      ]
     },
     "execution_count": 326,
     "metadata": {},
     "output_type": "execute_result"
    }
   ],
   "source": [
    "class_counts[1]"
   ]
  },
  {
   "cell_type": "code",
   "execution_count": 338,
   "id": "9c4ec634-d819-4e25-be95-2939aa7a987d",
   "metadata": {},
   "outputs": [],
   "source": [
    "X_new = []\n",
    "y_new = []\n",
    "min_size = 300"
   ]
  },
  {
   "cell_type": "code",
   "execution_count": 339,
   "id": "26eda3c9-42f8-4ada-bbdd-8a8f107d2109",
   "metadata": {
    "scrolled": true
   },
   "outputs": [
    {
     "name": "stdout",
     "output_type": "stream",
     "text": [
      "Class 0 with 101 elements\n",
      "Adding  199 times\n",
      "Class 1 with 3 elements\n",
      "Adding  297 times\n",
      "Class 2 with 17 elements\n",
      "Adding  283 times\n",
      "Class 3 with 21 elements\n",
      "Adding  279 times\n",
      "Class 4 with 15 elements\n",
      "Adding  285 times\n",
      "Class 5 with 127 elements\n",
      "Adding  173 times\n",
      "Class 6 with 25 elements\n",
      "Adding  275 times\n",
      "Class 7 with 75 elements\n",
      "Adding  225 times\n",
      "Class 9 with 66 elements\n",
      "Adding  234 times\n",
      "Class 10 with 14 elements\n",
      "Adding  286 times\n",
      "Class 11 with 43 elements\n",
      "Adding  257 times\n",
      "Class 12 with 10 elements\n",
      "Adding  290 times\n",
      "Class 13 with 22 elements\n",
      "Adding  278 times\n",
      "Class 15 with 89 elements\n",
      "Adding  211 times\n",
      "Class 16 with 154 elements\n",
      "Adding  146 times\n",
      "Class 17 with 116 elements\n",
      "Adding  184 times\n",
      "Class 18 with 76 elements\n",
      "Adding  224 times\n",
      "Class 19 with 42 elements\n",
      "Adding  258 times\n",
      "Class 20 with 7 elements\n",
      "Adding  293 times\n",
      "Class 21 with 74 elements\n",
      "Adding  226 times\n",
      "Class 22 with 58 elements\n",
      "Adding  242 times\n",
      "Class 23 with 10 elements\n",
      "Adding  290 times\n",
      "Class 24 with 10 elements\n",
      "Adding  290 times\n",
      "Class 25 with 143 elements\n",
      "Adding  157 times\n",
      "Class 26 with 2 elements\n",
      "Adding  298 times\n",
      "Class 27 with 3 elements\n",
      "Adding  297 times\n",
      "Class 28 with 18 elements\n",
      "Adding  282 times\n",
      "Class 29 with 14 elements\n",
      "Adding  286 times\n",
      "Class 30 with 3 elements\n",
      "Adding  297 times\n",
      "Class 31 with 33 elements\n",
      "Adding  267 times\n",
      "Class 32 with 93 elements\n",
      "Adding  207 times\n",
      "Class 33 with 126 elements\n",
      "Adding  174 times\n",
      "Class 34 with 73 elements\n",
      "Adding  227 times\n",
      "Class 35 with 23 elements\n",
      "Adding  277 times\n",
      "Class 36 with 8 elements\n",
      "Adding  292 times\n",
      "Class 37 with 119 elements\n",
      "Adding  181 times\n",
      "Class 38 with 34 elements\n",
      "Adding  266 times\n",
      "Class 39 with 19 elements\n",
      "Adding  281 times\n",
      "Class 40 with 95 elements\n",
      "Adding  205 times\n",
      "Class 41 with 95 elements\n",
      "Adding  205 times\n",
      "Class 42 with 2 elements\n",
      "Adding  298 times\n",
      "Class 43 with 70 elements\n",
      "Adding  230 times\n",
      "Class 44 with 2 elements\n",
      "Adding  298 times\n",
      "Class 45 with 109 elements\n",
      "Adding  191 times\n",
      "Class 46 with 44 elements\n",
      "Adding  256 times\n",
      "Class 47 with 37 elements\n",
      "Adding  263 times\n",
      "Class 48 with 27 elements\n",
      "Adding  273 times\n",
      "Class 49 with 49 elements\n",
      "Adding  251 times\n",
      "Class 50 with 2 elements\n",
      "Adding  298 times\n",
      "Class 51 with 71 elements\n",
      "Adding  229 times\n",
      "Class 52 with 76 elements\n",
      "Adding  224 times\n",
      "Class 53 with 53 elements\n",
      "Adding  247 times\n",
      "Class 54 with 128 elements\n",
      "Adding  172 times\n",
      "Class 55 with 26 elements\n",
      "Adding  274 times\n",
      "Class 57 with 9 elements\n",
      "Adding  291 times\n",
      "Class 58 with 2 elements\n",
      "Adding  298 times\n",
      "Class 59 with 54 elements\n",
      "Adding  246 times\n",
      "Class 60 with 73 elements\n",
      "Adding  227 times\n",
      "Class 61 with 240 elements\n",
      "Adding  60 times\n",
      "Class 62 with 135 elements\n",
      "Adding  165 times\n",
      "Class 63 with 2 elements\n",
      "Adding  298 times\n",
      "Class 64 with 57 elements\n",
      "Adding  243 times\n",
      "Class 65 with 10 elements\n",
      "Adding  290 times\n",
      "Class 66 with 54 elements\n",
      "Adding  246 times\n",
      "Class 67 with 17 elements\n",
      "Adding  283 times\n",
      "Class 68 with 5 elements\n",
      "Adding  295 times\n",
      "Class 69 with 80 elements\n",
      "Adding  220 times\n",
      "Class 70 with 223 elements\n",
      "Adding  77 times\n",
      "Class 71 with 102 elements\n",
      "Adding  198 times\n",
      "Class 72 with 2 elements\n",
      "Adding  298 times\n",
      "Class 73 with 6 elements\n",
      "Adding  294 times\n",
      "Class 74 with 150 elements\n",
      "Adding  150 times\n",
      "Class 75 with 69 elements\n",
      "Adding  231 times\n",
      "Class 76 with 10 elements\n",
      "Adding  290 times\n",
      "Class 77 with 2 elements\n",
      "Adding  298 times\n",
      "Class 78 with 5 elements\n",
      "Adding  295 times\n",
      "Class 79 with 78 elements\n",
      "Adding  222 times\n",
      "Class 80 with 57 elements\n",
      "Adding  243 times\n",
      "Class 81 with 58 elements\n",
      "Adding  242 times\n",
      "Class 82 with 2 elements\n",
      "Adding  298 times\n",
      "Class 83 with 115 elements\n",
      "Adding  185 times\n",
      "Class 84 with 18 elements\n",
      "Adding  282 times\n",
      "Class 85 with 49 elements\n",
      "Adding  251 times\n",
      "Class 86 with 203 elements\n",
      "Adding  97 times\n",
      "Class 87 with 103 elements\n",
      "Adding  197 times\n",
      "Class 88 with 97 elements\n",
      "Adding  203 times\n",
      "Class 89 with 3 elements\n",
      "Adding  297 times\n",
      "Class 91 with 118 elements\n",
      "Adding  182 times\n",
      "Class 92 with 129 elements\n",
      "Adding  171 times\n",
      "Class 93 with 61 elements\n",
      "Adding  239 times\n",
      "Class 94 with 52 elements\n",
      "Adding  248 times\n",
      "Class 95 with 2 elements\n",
      "Adding  298 times\n",
      "Class 96 with 35 elements\n",
      "Adding  265 times\n"
     ]
    }
   ],
   "source": [
    "for i, count in enumerate(class_counts):\n",
    "\n",
    "    if count <= min_size:\n",
    "\n",
    "        cls_ind = np.where(labels == i)[0]\n",
    "    \n",
    "        to_add = min_size - count\n",
    "    \n",
    "        print('Class', i, 'with', count, 'elements')\n",
    "    \n",
    "        print('Adding ', to_add, 'times')\n",
    "\n",
    "        reps = np.random.choice(cls_ind, size=to_add, replace=True)\n",
    "\n",
    "    \n",
    "        X_new.append(data[reps])\n",
    "        y_new.append(labels[reps])"
   ]
  },
  {
   "cell_type": "code",
   "execution_count": 340,
   "id": "1455585e-d565-49d6-8d90-751800217ab4",
   "metadata": {},
   "outputs": [],
   "source": [
    "X_new = np.concatenate( X_new, axis = 0 )"
   ]
  },
  {
   "cell_type": "code",
   "execution_count": 341,
   "id": "15f51d70-b97e-4388-bf7b-94f4cbdc5d03",
   "metadata": {},
   "outputs": [],
   "source": [
    "y_new = np.concatenate( y_new, axis = 0 )"
   ]
  },
  {
   "cell_type": "code",
   "execution_count": null,
   "id": "f50d284f-da37-496d-aaf3-acb3e12919fd",
   "metadata": {},
   "outputs": [],
   "source": []
  },
  {
   "cell_type": "code",
   "execution_count": 342,
   "id": "173b96ff-b2f3-4937-a121-79b9703827a3",
   "metadata": {
    "scrolled": true
   },
   "outputs": [],
   "source": [
    "balanced_data = np.concatenate( [data, X_new] , axis = 0 )"
   ]
  },
  {
   "cell_type": "code",
   "execution_count": 343,
   "id": "24cf79cc-1cb1-406a-afc2-4a0d9c46ba20",
   "metadata": {},
   "outputs": [],
   "source": [
    "balanced_labels = np.concatenate( [labels, y_new] , axis = 0 )"
   ]
  },
  {
   "cell_type": "code",
   "execution_count": 344,
   "id": "7979bdd7-ead9-4e62-8d04-d67c996b70e5",
   "metadata": {},
   "outputs": [
    {
     "data": {
      "text/plain": [
       "(96593, 135)"
      ]
     },
     "execution_count": 344,
     "metadata": {},
     "output_type": "execute_result"
    }
   ],
   "source": [
    "balanced_data.shape"
   ]
  },
  {
   "cell_type": "code",
   "execution_count": 345,
   "id": "0f233965-b992-4370-bead-ba9ea18dafa9",
   "metadata": {},
   "outputs": [
    {
     "data": {
      "text/plain": [
       "(96593,)"
      ]
     },
     "execution_count": 345,
     "metadata": {},
     "output_type": "execute_result"
    }
   ],
   "source": [
    "balanced_labels.shape"
   ]
  },
  {
   "cell_type": "markdown",
   "id": "e847ed86-cebd-40fe-b438-aa13a88fd5fc",
   "metadata": {},
   "source": [
    "### New histogram"
   ]
  },
  {
   "cell_type": "code",
   "execution_count": 352,
   "id": "000e1488-713d-4bbe-ac57-1db8cc9a5eb2",
   "metadata": {},
   "outputs": [],
   "source": [
    "hist, bins = np.histogram(balanced_labels, bins=np.arange(0,97), density=True)\n",
    "histTruth, _ = np.histogram(labels, bins=np.arange(0,97), density=True)"
   ]
  },
  {
   "cell_type": "code",
   "execution_count": 353,
   "id": "ba8214f8-c6ae-4060-8a5b-c8ba60f86dae",
   "metadata": {},
   "outputs": [
    {
     "data": {
      "text/plain": [
       "<matplotlib.legend.Legend at 0x793dd3ad48b0>"
      ]
     },
     "execution_count": 353,
     "metadata": {},
     "output_type": "execute_result"
    },
    {
     "data": {
      "image/png": "[encoded data removed]",
      "text/plain": [
       "<Figure size 432x288 with 1 Axes>"
      ]
     },
     "metadata": {
      "needs_background": "light"
     },
     "output_type": "display_data"
    }
   ],
   "source": [
    "plt.bar(bins[:-1],hist, alpha=0.5, color='green', label='Balanced')\n",
    "plt.bar(bins[:-1],histTruth, alpha=0.3, color='blue', label='from Training')\n",
    "plt.xlabel('Class')\n",
    "plt.ylabel('Freq')\n",
    "plt.legend()"
   ]
  },
  {
   "cell_type": "code",
   "execution_count": 354,
   "id": "823aa6cf-7154-4b6c-97c0-fcfbb2b50800",
   "metadata": {},
   "outputs": [
    {
     "data": {
      "text/plain": [
       "<BarContainer object of 96 artists>"
      ]
     },
     "execution_count": 354,
     "metadata": {},
     "output_type": "execute_result"
    },
    {
     "data": {
      "image/png": "[encoded data removed]",
      "text/plain": [
       "<Figure size 432x288 with 1 Axes>"
      ]
     },
     "metadata": {
      "needs_background": "light"
     },
     "output_type": "display_data"
    }
   ],
   "source": [
    "plt.bar(bins[:-1],hist, alpha=0.5, color='green', label='Balanced', )"
   ]
  },
  {
   "cell_type": "code",
   "execution_count": 355,
   "id": "13b31270-7eea-490d-8fe7-5648bfdb220b",
   "metadata": {},
   "outputs": [],
   "source": [
    "data = balanced_data\n",
    "labels = balanced_labels"
   ]
  },
  {
   "cell_type": "code",
   "execution_count": 64,
   "id": "e34e248d-ee59-492b-953f-d51f5dba59ce",
   "metadata": {},
   "outputs": [
    {
     "data": {
      "text/plain": [
       "array([39, 10,  8, 61, 14, 56, 14,  8, 81, 90, 91,  8, 56,  8, 19, 90, 90,\n",
       "       40, 70, 61, 70, 56, 45,  8, 56, 14, 25, 16, 37,  8,  8, 14, 87, 14,\n",
       "       92, 56, 83, 14, 90,  8,  8, 15,  8, 56, 33, 62,  7, 79, 21,  8, 84,\n",
       "       22, 14, 22,  9, 90, 14, 49, 55, 56, 41, 70, 14, 90, 55, 60, 56,  7,\n",
       "       90, 15,  8, 87, 14, 75, 16, 56,  8,  8, 88, 14,  8,  8, 91, 70, 96,\n",
       "        8, 15,  8,  8, 90, 90,  8,  8, 90,  8])"
      ]
     },
     "execution_count": 64,
     "metadata": {},
     "output_type": "execute_result"
    }
   ],
   "source": [
    "result.to_numpy()[:,1]"
   ]
  },
  {
   "cell_type": "code",
   "execution_count": 69,
   "id": "e87bca67-7d52-4be7-b66f-35017e8a7ff7",
   "metadata": {},
   "outputs": [
    {
     "data": {
      "text/plain": [
       "array([39, 39, 39, ..., 14, 14, 14])"
      ]
     },
     "execution_count": 69,
     "metadata": {},
     "output_type": "execute_result"
    }
   ],
   "source": [
    "y_pred"
   ]
  },
  {
   "cell_type": "code",
   "execution_count": 74,
   "id": "33a43cc3-155b-4059-bdb2-12aa32fe8ee9",
   "metadata": {},
   "outputs": [],
   "source": [
    "ground_truth = pd.read_csv('test_set_ground_truth.csv').to_numpy()[:,1]"
   ]
  },
  {
   "cell_type": "code",
   "execution_count": 75,
   "id": "a732f583-f595-4963-9ea5-e9b203fe6830",
   "metadata": {},
   "outputs": [
    {
     "data": {
      "text/plain": [
       "array([88, 10,  8, ...,  8, 75, 51])"
      ]
     },
     "execution_count": 75,
     "metadata": {},
     "output_type": "execute_result"
    }
   ],
   "source": []
  },
  {
   "cell_type": "code",
   "execution_count": 76,
   "id": "7b60ac30-a1ca-40f9-974a-bf5fc4acf712",
   "metadata": {},
   "outputs": [],
   "source": [
    "clean_y_pred = np.array([ y_pred[8*i] for i in range(ground_truth.shape[0])])"
   ]
  },
  {
   "cell_type": "code",
   "execution_count": 83,
   "id": "6d3f65e9-675a-497b-9f2a-ad213b825efd",
   "metadata": {},
   "outputs": [],
   "source": [
    "n_correct = np.where( clean_y_pred == ground_truth )[0].shape[0]"
   ]
  },
  {
   "cell_type": "code",
   "execution_count": 86,
   "id": "0a4902bb-cc43-4721-981e-51b99e437004",
   "metadata": {},
   "outputs": [
    {
     "data": {
      "text/plain": [
       "0.07496768634209393"
      ]
     },
     "execution_count": 86,
     "metadata": {},
     "output_type": "execute_result"
    }
   ],
   "source": [
    "n_correct / ground_truth.shape[0]"
   ]
  },
  {
   "cell_type": "code",
   "execution_count": 91,
   "id": "9ed21240-cff3-456c-9279-a19e605b46e0",
   "metadata": {},
   "outputs": [],
   "source": [
    "perm = pd.read_csv('CombinedMethod/Permutation.csv').to_numpy()[:,0]"
   ]
  },
  {
   "cell_type": "code",
   "execution_count": 93,
   "id": "f7cc8b3b-4157-4afd-95df-4784e4f0382a",
   "metadata": {},
   "outputs": [
    {
     "name": "stderr",
     "output_type": "stream",
     "text": [
      "/tmp/ipykernel_79354/437835453.py:1: DeprecationWarning: elementwise comparison failed; this will raise an error in the future.\n",
      "  n_correct = np.where( clean_y_pred == ground_truth[perm] )[0].shape[0]\n"
     ]
    }
   ],
   "source": [
    "n_correct = np.where( clean_y_pred == ground_truth[perm] )[0].shape[0]"
   ]
  },
  {
   "cell_type": "code",
   "execution_count": 95,
   "id": "e5a04fd5-2728-424e-aa72-7728abb5a718",
   "metadata": {},
   "outputs": [],
   "source": [
    "perm_clean_y_pred = clean_y_pred[perm]"
   ]
  },
  {
   "cell_type": "code",
   "execution_count": 96,
   "id": "c4c7b62c-6210-47f3-82b2-0c110614b985",
   "metadata": {},
   "outputs": [
    {
     "name": "stderr",
     "output_type": "stream",
     "text": [
      "/tmp/ipykernel_79354/121178260.py:1: DeprecationWarning: elementwise comparison failed; this will raise an error in the future.\n",
      "  n_correct = np.where( perm_clean_y_pred == ground_truth )[0].shape[0]\n"
     ]
    }
   ],
   "source": [
    "n_correct = np.where( perm_clean_y_pred == ground_truth )[0].shape[0]"
   ]
  },
  {
   "cell_type": "code",
   "execution_count": 97,
   "id": "469cc085-bc65-47a5-8a0c-aece3692d799",
   "metadata": {},
   "outputs": [
    {
     "data": {
      "text/plain": [
       "(2320,)"
      ]
     },
     "execution_count": 97,
     "metadata": {},
     "output_type": "execute_result"
    }
   ],
   "source": [
    "perm_clean_y_pred.shape"
   ]
  },
  {
   "cell_type": "code",
   "execution_count": 99,
   "id": "3c5f6a07-b6f6-4ea3-88bb-ac9e8cb43648",
   "metadata": {},
   "outputs": [
    {
     "data": {
      "text/plain": [
       "(2321,)"
      ]
     },
     "execution_count": 99,
     "metadata": {},
     "output_type": "execute_result"
    }
   ],
   "source": [
    "ground_truth.shape"
   ]
  },
  {
   "cell_type": "code",
   "execution_count": null,
   "id": "76d8ebeb-18b8-47b3-89f3-0ba7f2367602",
   "metadata": {},
   "outputs": [],
   "source": []
  }
 ],
 "metadata": {
  "kernelspec": {
   "display_name": "Python 3 (ipykernel)",
   "language": "python",
   "name": "python3"
  },
  "language_info": {
   "codemirror_mode": {
    "name": "ipython",
    "version": 3
   },
   "file_extension": ".py",
   "mimetype": "text/x-python",
   "name": "python",
   "nbconvert_exporter": "python",
   "pygments_lexer": "ipython3",
   "version": "3.10.12"
  }
 },
 "nbformat": 4,
 "nbformat_minor": 5
}
