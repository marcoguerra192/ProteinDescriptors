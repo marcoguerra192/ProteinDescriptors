{
 "cells": [
  {
   "cell_type": "markdown",
   "id": "b840f45d-49a8-4a5b-b862-d256fa044ccc",
   "metadata": {},
   "source": [
    "## Dodecahedron"
   ]
  },
  {
   "cell_type": "code",
   "execution_count": 8,
   "id": "4cb0e84e-916a-4b11-aff4-d766740428be",
   "metadata": {},
   "outputs": [],
   "source": [
    "import numpy as np"
   ]
  },
  {
   "cell_type": "code",
   "execution_count": 9,
   "id": "846a282c-e0b8-4ed9-83e1-a81b8b679bae",
   "metadata": {},
   "outputs": [],
   "source": [
    "# Phi is the golden ratio\n",
    "phi = (1 + np.sqrt(5)) / 2\n",
    "\n",
    "# should we normalize?\n",
    "a, b = 1, 1 / phi\n",
    "\n",
    "# 20 vertices of a regular dodecahedron\n",
    "vertices = np.array([\n",
    "    # 8 of type (±1, ±1, ±1)\n",
    "    [+a, +a, +a],\n",
    "    [+a, +a, -a],\n",
    "    [+a, -a, +a],\n",
    "    [+a, -a, -a],\n",
    "    [-a, +a, +a],\n",
    "    [-a, +a, -a],\n",
    "    [-a, -a, +a],\n",
    "    [-a, -a, -a],\n",
    "    \n",
    "    # 4 of type (0, ±1/phi, ±phi)\n",
    "    [0, +b, +phi],\n",
    "    [0, +b, -phi],\n",
    "    [0, -b, +phi],\n",
    "    [0, -b, -phi],\n",
    "    \n",
    "    # 4 of type (±1/phi, ±phi, 0)\n",
    "    [+b, +phi, 0],\n",
    "    [+b, -phi, 0],\n",
    "    [-b, +phi, 0],\n",
    "    [-b, -phi, 0],\n",
    "    \n",
    "    # 4 of type (±phi, 0, ±1/phi)\n",
    "    [+phi, 0, +b],\n",
    "    [+phi, 0, -b],\n",
    "    [-phi, 0, +b],\n",
    "    [-phi, 0, -b],\n",
    "])"
   ]
  },
  {
   "cell_type": "code",
   "execution_count": 10,
   "id": "b2028be5-080e-41e8-b4d9-b282338e260b",
   "metadata": {},
   "outputs": [
    {
     "data": {
      "text/plain": [
       "(20, 3)"
      ]
     },
     "execution_count": 10,
     "metadata": {},
     "output_type": "execute_result"
    }
   ],
   "source": [
    "vertices.shape"
   ]
  },
  {
   "cell_type": "code",
   "execution_count": 11,
   "id": "7bf9f149-f9eb-41d8-ace4-7f1983c5f23e",
   "metadata": {},
   "outputs": [],
   "source": [
    "faces = [\n",
    "    [0, 8, 10, 2, 16],\n",
    "    [0, 16, 17, 1, 12],\n",
    "    [1, 17, 3, 11, 9],\n",
    "    [1, 9, 5, 14, 12],\n",
    "    [0, 12, 14, 4, 8],\n",
    "    [3, 17, 16, 2, 13],\n",
    "    [2, 10, 6, 15, 13],\n",
    "    [3, 13, 15, 7, 11],\n",
    "    [4, 14, 5, 19, 18],\n",
    "    [4, 18, 6, 10, 8],\n",
    "    [5, 9, 11, 7, 19],\n",
    "    [6, 18, 19, 7, 15],\n",
    "]"
   ]
  },
  {
   "cell_type": "markdown",
   "id": "b4cc316f-5538-480e-8e88-88911b990881",
   "metadata": {},
   "source": [
    "### Barycenters"
   ]
  },
  {
   "cell_type": "code",
   "execution_count": 12,
   "id": "7c305e3b-44ce-4c3b-b2e9-abfd63be5eca",
   "metadata": {},
   "outputs": [],
   "source": [
    "barycenters = np.vstack( [ np.mean( np.vstack( [ vertices[j,:] for j in fi ] ) , axis = 0) for fi in faces ] )"
   ]
  },
  {
   "cell_type": "code",
   "execution_count": 13,
   "id": "6715b837-095e-4059-8068-94c6732720bc",
   "metadata": {},
   "outputs": [
    {
     "data": {
      "text/plain": [
       "array([[ 1.        ,  1.        ,  1.        ],\n",
       "       [ 0.        ,  0.61803399,  1.61803399],\n",
       "       [ 0.        , -0.61803399,  1.61803399],\n",
       "       [ 1.        , -1.        ,  1.        ],\n",
       "       [ 1.61803399,  0.        ,  0.61803399]])"
      ]
     },
     "execution_count": 13,
     "metadata": {},
     "output_type": "execute_result"
    }
   ],
   "source": [
    "np.vstack( [ vertices[j,:] for j in faces[0] ] )"
   ]
  },
  {
   "cell_type": "code",
   "execution_count": 14,
   "id": "c6326397-14c4-448b-8794-f5e1b1f597d8",
   "metadata": {},
   "outputs": [
    {
     "data": {
      "text/plain": [
       "array([0.7236068 , 0.        , 1.17082039])"
      ]
     },
     "execution_count": 14,
     "metadata": {},
     "output_type": "execute_result"
    }
   ],
   "source": [
    "np.mean(np.vstack( [ vertices[j,:] for j in faces[0] ] ), axis=0 )"
   ]
  },
  {
   "cell_type": "code",
   "execution_count": 15,
   "id": "e3c07fb7-5cd9-4ce3-bd03-50f55f333a0b",
   "metadata": {},
   "outputs": [
    {
     "data": {
      "text/plain": [
       "(12, 3)"
      ]
     },
     "execution_count": 15,
     "metadata": {},
     "output_type": "execute_result"
    }
   ],
   "source": [
    "barycenters.shape"
   ]
  },
  {
   "cell_type": "markdown",
   "id": "f174fc35-eeab-460d-a4f7-33f07666a11b",
   "metadata": {},
   "source": [
    "### Order faces by decreasing z, then counterclockwise"
   ]
  },
  {
   "cell_type": "code",
   "execution_count": 16,
   "id": "fe7169f4-e66e-4cbd-8a34-79f2aced1f9c",
   "metadata": {},
   "outputs": [],
   "source": [
    "def order_3D( i ):\n",
    "    # ordering function\n",
    "\n",
    "    v = barycenters[i,:]\n",
    "    z = -v[2]\n",
    "    theta = np.arctan2(v[1],v[0])\n",
    "    \n",
    "    return ( z , theta )"
   ]
  },
  {
   "cell_type": "code",
   "execution_count": 17,
   "id": "831e6b8d-c464-4d71-bbb2-c9034493f83e",
   "metadata": {},
   "outputs": [],
   "source": [
    "order = list(sorted(list(range(12)) , key=order_3D ))"
   ]
  },
  {
   "cell_type": "code",
   "execution_count": 18,
   "id": "652ffead-100d-437f-a44d-07c9de174b80",
   "metadata": {},
   "outputs": [
    {
     "data": {
      "text/plain": [
       "[0, 9, 6, 4, 11, 5, 1, 8, 7, 3, 2, 10]"
      ]
     },
     "execution_count": 18,
     "metadata": {},
     "output_type": "execute_result"
    }
   ],
   "source": [
    "order"
   ]
  },
  {
   "cell_type": "markdown",
   "id": "03ad92f3-40f9-480d-afbd-1b295f93c93e",
   "metadata": {},
   "source": [
    "## Reorder the lists"
   ]
  },
  {
   "cell_type": "code",
   "execution_count": 19,
   "id": "105b7b2e-069e-48e0-96a9-9579bc1ea2e7",
   "metadata": {},
   "outputs": [],
   "source": [
    "faces = [ faces[i] for i in order ]"
   ]
  },
  {
   "cell_type": "code",
   "execution_count": 20,
   "id": "9ba469a3-00ca-4a19-86a3-83f2354bbc64",
   "metadata": {},
   "outputs": [
    {
     "data": {
      "text/plain": [
       "[[0, 8, 10, 2, 16],\n",
       " [4, 18, 6, 10, 8],\n",
       " [2, 10, 6, 15, 13],\n",
       " [0, 12, 14, 4, 8],\n",
       " [6, 18, 19, 7, 15],\n",
       " [3, 17, 16, 2, 13],\n",
       " [0, 16, 17, 1, 12],\n",
       " [4, 14, 5, 19, 18],\n",
       " [3, 13, 15, 7, 11],\n",
       " [1, 9, 5, 14, 12],\n",
       " [1, 17, 3, 11, 9],\n",
       " [5, 9, 11, 7, 19]]"
      ]
     },
     "execution_count": 20,
     "metadata": {},
     "output_type": "execute_result"
    }
   ],
   "source": [
    "faces"
   ]
  },
  {
   "cell_type": "code",
   "execution_count": 21,
   "id": "f710ebc0-2d3f-42bf-bfc8-1d2820657c79",
   "metadata": {},
   "outputs": [],
   "source": [
    "barycenters = barycenters[order,:]"
   ]
  },
  {
   "cell_type": "code",
   "execution_count": 22,
   "id": "c55b13a2-45b9-4089-b509-4d09acf91c34",
   "metadata": {},
   "outputs": [
    {
     "data": {
      "text/plain": [
       "array([[ 0.7236068 ,  0.        ,  1.17082039],\n",
       "       [-0.7236068 ,  0.        ,  1.17082039],\n",
       "       [ 0.        , -1.17082039,  0.7236068 ],\n",
       "       [ 0.        ,  1.17082039,  0.7236068 ],\n",
       "       [-1.17082039, -0.7236068 ,  0.        ],\n",
       "       [ 1.17082039, -0.7236068 ,  0.        ],\n",
       "       [ 1.17082039,  0.7236068 ,  0.        ],\n",
       "       [-1.17082039,  0.7236068 ,  0.        ],\n",
       "       [ 0.        , -1.17082039, -0.7236068 ],\n",
       "       [ 0.        ,  1.17082039, -0.7236068 ],\n",
       "       [ 0.7236068 ,  0.        , -1.17082039],\n",
       "       [-0.7236068 ,  0.        , -1.17082039]])"
      ]
     },
     "execution_count": 22,
     "metadata": {},
     "output_type": "execute_result"
    }
   ],
   "source": [
    "barycenters"
   ]
  },
  {
   "cell_type": "code",
   "execution_count": 23,
   "id": "ac3a2ac4-c2a9-405a-ba0c-49fe1b97e6f5",
   "metadata": {},
   "outputs": [
    {
     "data": {
      "text/plain": [
       "array([[ 1.        ,  1.        ,  1.        ],\n",
       "       [ 1.        ,  1.        , -1.        ],\n",
       "       [ 1.        , -1.        ,  1.        ],\n",
       "       [ 1.        , -1.        , -1.        ],\n",
       "       [-1.        ,  1.        ,  1.        ],\n",
       "       [-1.        ,  1.        , -1.        ],\n",
       "       [-1.        , -1.        ,  1.        ],\n",
       "       [-1.        , -1.        , -1.        ],\n",
       "       [ 0.        ,  0.61803399,  1.61803399],\n",
       "       [ 0.        ,  0.61803399, -1.61803399],\n",
       "       [ 0.        , -0.61803399,  1.61803399],\n",
       "       [ 0.        , -0.61803399, -1.61803399],\n",
       "       [ 0.61803399,  1.61803399,  0.        ],\n",
       "       [ 0.61803399, -1.61803399,  0.        ],\n",
       "       [-0.61803399,  1.61803399,  0.        ],\n",
       "       [-0.61803399, -1.61803399,  0.        ],\n",
       "       [ 1.61803399,  0.        ,  0.61803399],\n",
       "       [ 1.61803399,  0.        , -0.61803399],\n",
       "       [-1.61803399,  0.        ,  0.61803399],\n",
       "       [-1.61803399,  0.        , -0.61803399]])"
      ]
     },
     "execution_count": 23,
     "metadata": {},
     "output_type": "execute_result"
    }
   ],
   "source": [
    "vertices"
   ]
  },
  {
   "cell_type": "code",
   "execution_count": 24,
   "id": "1779113c-e1c2-4c29-a20a-b5948b7bda68",
   "metadata": {},
   "outputs": [
    {
     "data": {
      "text/plain": [
       "[[0, 8, 10, 2, 16],\n",
       " [4, 18, 6, 10, 8],\n",
       " [2, 10, 6, 15, 13],\n",
       " [0, 12, 14, 4, 8],\n",
       " [6, 18, 19, 7, 15],\n",
       " [3, 17, 16, 2, 13],\n",
       " [0, 16, 17, 1, 12],\n",
       " [4, 14, 5, 19, 18],\n",
       " [3, 13, 15, 7, 11],\n",
       " [1, 9, 5, 14, 12],\n",
       " [1, 17, 3, 11, 9],\n",
       " [5, 9, 11, 7, 19]]"
      ]
     },
     "execution_count": 24,
     "metadata": {},
     "output_type": "execute_result"
    }
   ],
   "source": [
    "faces"
   ]
  },
  {
   "cell_type": "code",
   "execution_count": 25,
   "id": "0e7100b1-d411-4c83-9200-a9ed2c0d86fa",
   "metadata": {},
   "outputs": [
    {
     "data": {
      "text/plain": [
       "array([[ 0.7236068 ,  0.        ,  1.17082039],\n",
       "       [-0.7236068 ,  0.        ,  1.17082039],\n",
       "       [ 0.        , -1.17082039,  0.7236068 ],\n",
       "       [ 0.        ,  1.17082039,  0.7236068 ],\n",
       "       [-1.17082039, -0.7236068 ,  0.        ],\n",
       "       [ 1.17082039, -0.7236068 ,  0.        ],\n",
       "       [ 1.17082039,  0.7236068 ,  0.        ],\n",
       "       [-1.17082039,  0.7236068 ,  0.        ],\n",
       "       [ 0.        , -1.17082039, -0.7236068 ],\n",
       "       [ 0.        ,  1.17082039, -0.7236068 ],\n",
       "       [ 0.7236068 ,  0.        , -1.17082039],\n",
       "       [-0.7236068 ,  0.        , -1.17082039]])"
      ]
     },
     "execution_count": 25,
     "metadata": {},
     "output_type": "execute_result"
    }
   ],
   "source": [
    "barycenters"
   ]
  },
  {
   "cell_type": "code",
   "execution_count": 26,
   "id": "0913db89-1a5f-4ccf-8910-57c27ff3b524",
   "metadata": {},
   "outputs": [
    {
     "data": {
      "text/plain": [
       "array([1.37638192, 1.37638192, 1.37638192, 1.37638192, 1.37638192,\n",
       "       1.37638192, 1.37638192, 1.37638192, 1.37638192, 1.37638192,\n",
       "       1.37638192, 1.37638192])"
      ]
     },
     "execution_count": 26,
     "metadata": {},
     "output_type": "execute_result"
    }
   ],
   "source": [
    "np.linalg.norm(barycenters , axis=1)"
   ]
  },
  {
   "cell_type": "code",
   "execution_count": 27,
   "id": "79904517-a425-461e-858a-c0fdc125fd96",
   "metadata": {},
   "outputs": [],
   "source": [
    "p = np.array([0.345 , 1.56, 3.445])"
   ]
  },
  {
   "cell_type": "code",
   "execution_count": 28,
   "id": "d6583670-172e-43b2-8798-b31a37a2629f",
   "metadata": {},
   "outputs": [
    {
     "data": {
      "text/plain": [
       "3.7974530938511935"
      ]
     },
     "execution_count": 28,
     "metadata": {},
     "output_type": "execute_result"
    }
   ],
   "source": [
    "norm = np.linalg.norm(p)\n",
    "norm"
   ]
  },
  {
   "cell_type": "code",
   "execution_count": 29,
   "id": "443065e9-6598-4e8c-b3f4-cdec9864ada3",
   "metadata": {},
   "outputs": [],
   "source": [
    "p = np.sqrt(3)*p/norm"
   ]
  },
  {
   "cell_type": "code",
   "execution_count": 30,
   "id": "d304f3ea-2367-42a0-8315-48ba1756251d",
   "metadata": {},
   "outputs": [
    {
     "data": {
      "text/plain": [
       "array([0.15735745, 0.71152933, 1.57129394])"
      ]
     },
     "execution_count": 30,
     "metadata": {},
     "output_type": "execute_result"
    }
   ],
   "source": [
    "p"
   ]
  },
  {
   "cell_type": "code",
   "execution_count": 31,
   "id": "e3feb859-8bdd-43e8-88f5-2ddab0eb9ec4",
   "metadata": {},
   "outputs": [],
   "source": [
    "P = np.vstack([p]*12)"
   ]
  },
  {
   "cell_type": "code",
   "execution_count": 32,
   "id": "6b56f10b-e665-4218-a1b2-53d0fe7b7a0c",
   "metadata": {},
   "outputs": [
    {
     "data": {
      "text/plain": [
       "(12, 3)"
      ]
     },
     "execution_count": 32,
     "metadata": {},
     "output_type": "execute_result"
    }
   ],
   "source": [
    "P.shape"
   ]
  },
  {
   "cell_type": "code",
   "execution_count": 33,
   "id": "57a88b81-79ab-4195-8979-d3de118efd08",
   "metadata": {},
   "outputs": [],
   "source": [
    "distances = np.linalg.norm( p - barycenters, axis = 1) "
   ]
  },
  {
   "cell_type": "code",
   "execution_count": 34,
   "id": "356a441a-c45e-4cc3-a96c-579c7694ede1",
   "metadata": {},
   "outputs": [
    {
     "data": {
      "text/plain": [
       "3"
      ]
     },
     "execution_count": 34,
     "metadata": {},
     "output_type": "execute_result"
    }
   ],
   "source": [
    "np.argmin(distances)"
   ]
  },
  {
   "cell_type": "code",
   "execution_count": 35,
   "id": "6ef5dac9-c968-4260-89b2-7eed24174e18",
   "metadata": {},
   "outputs": [
    {
     "data": {
      "text/plain": [
       "array([0.99362537, 1.20114573, 2.07040463, 0.97687417, 2.50851285,\n",
       "       2.35705059, 1.86981754, 2.05746613, 2.97230067, 2.34569372,\n",
       "       2.88896233, 2.96674283])"
      ]
     },
     "execution_count": 35,
     "metadata": {},
     "output_type": "execute_result"
    }
   ],
   "source": [
    "distances"
   ]
  },
  {
   "cell_type": "markdown",
   "id": "bd1f3a4f-3672-4cfd-8a8a-c1309feef0b6",
   "metadata": {},
   "source": [
    "## Plot"
   ]
  },
  {
   "cell_type": "code",
   "execution_count": 36,
   "id": "1d901bd7-df25-4bb5-aeee-50b2268ce77c",
   "metadata": {},
   "outputs": [],
   "source": [
    "import matplotlib.pyplot as plt\n",
    "from mpl_toolkits.mplot3d.art3d import Line3DCollection"
   ]
  },
  {
   "cell_type": "code",
   "execution_count": null,
   "id": "da73d0bf-82af-4758-82c1-725da716ca69",
   "metadata": {},
   "outputs": [],
   "source": []
  },
  {
   "cell_type": "code",
   "execution_count": 37,
   "id": "e971a3de-8d20-4729-b52c-738d0dd9359d",
   "metadata": {},
   "outputs": [],
   "source": [
    "# get edges from faces\n",
    "edges = set()\n",
    "for face in faces:\n",
    "    for i in range(5):\n",
    "        v1 = face[i]\n",
    "        v2 = face[(i + 1) % 5]\n",
    "        edges.add(tuple(sorted((v1, v2))))  # this is an undirected edge!\n",
    "\n",
    "# From pairs of indices to pairs of vertices\n",
    "edge_lines = [ [vertices[i], vertices[j]] for i, j in edges ]\n"
   ]
  },
  {
   "cell_type": "code",
   "execution_count": 38,
   "id": "24082d82-c189-43fe-ab43-7eb57ccadc21",
   "metadata": {},
   "outputs": [
    {
     "data": {
      "image/png": "[encoded data removed]",
      "text/plain": [
       "<Figure size 576x576 with 1 Axes>"
      ]
     },
     "metadata": {
      "needs_background": "light"
     },
     "output_type": "display_data"
    }
   ],
   "source": [
    "fig = plt.figure(figsize=(8, 8))\n",
    "ax = fig.add_subplot(111, projection='3d')\n",
    "\n",
    "# Wireframe\n",
    "edge_collection = Line3DCollection(edge_lines, color='k', linewidth=1)\n",
    "ax.add_collection3d(edge_collection)\n",
    "\n",
    "FF = 11\n",
    "\n",
    "# Add vertices in red\n",
    "for i in faces[FF]:\n",
    "    ax.scatter(vertices[i, 0], vertices[i, 1], vertices[i, 2], color='red')\n",
    "\n",
    "# Add barycenters\n",
    "for i in [FF]:\n",
    "    ax.scatter(barycenters[i, 0], barycenters[i, 1], barycenters[i, 2], color='blue')\n",
    "\n",
    "# Limits\n",
    "ax.set_box_aspect([1, 1, 1])\n",
    "max_range = np.max(np.abs(vertices))\n",
    "ax.set_xlim(-max_range, max_range)\n",
    "ax.set_ylim(-max_range, max_range)\n",
    "ax.set_zlim(-max_range, max_range)\n",
    "\n",
    "# View angle\n",
    "ax.view_init(elev=90, azim=30)\n",
    "\n",
    "ax.set_title(\"Dodecahedron\")\n",
    "plt.tight_layout()\n",
    "plt.show()"
   ]
  },
  {
   "cell_type": "markdown",
   "id": "708115d7-ac8f-4deb-a7a4-8f33da01366b",
   "metadata": {},
   "source": [
    "## Check everything is planar"
   ]
  },
  {
   "cell_type": "code",
   "execution_count": 39,
   "id": "09bf2dad-d356-4d09-a6ae-7f3759899c9a",
   "metadata": {},
   "outputs": [
    {
     "name": "stdout",
     "output_type": "stream",
     "text": [
      "2\n",
      "[2.87954789e+00 1.66250775e+00 1.41545497e-16]\n",
      "2\n",
      "[2.87954789e+00 1.66250775e+00 1.41545497e-16]\n",
      "2\n",
      "[2.87954789e+00 1.66250775e+00 6.52572721e-17]\n",
      "2\n",
      "[2.87954789e+00 1.66250775e+00 5.83678785e-17]\n",
      "2\n",
      "[2.87954789e+00 1.66250775e+00 3.51491667e-16]\n",
      "2\n",
      "[2.87954789e+00 1.66250775e+00 3.51491667e-16]\n",
      "2\n",
      "[2.87954789e+00 1.66250775e+00 3.51491667e-16]\n",
      "2\n",
      "[2.87954789e+00 1.66250775e+00 3.51491667e-16]\n",
      "2\n",
      "[2.87954789e+00 1.66250775e+00 5.83678785e-17]\n",
      "2\n",
      "[2.87954789e+00 1.66250775e+00 6.52572721e-17]\n",
      "2\n",
      "[2.87954789e+00 1.66250775e+00 1.41545497e-16]\n",
      "2\n",
      "[2.87954789e+00 1.66250775e+00 1.41545497e-16]\n"
     ]
    }
   ],
   "source": [
    "for i in range(12):\n",
    "\n",
    "    face = faces[i]\n",
    "    points = vertices[face,:]\n",
    "\n",
    "    points = points - points[0,:]\n",
    "\n",
    "    rank = np.linalg.matrix_rank(points)\n",
    "\n",
    "    U, S, Vh = np.linalg.svd(points)\n",
    "\n",
    "    print(rank)\n",
    "    print(S)"
   ]
  },
  {
   "cell_type": "markdown",
   "id": "e6c5a873-cc7a-4ae5-af3b-66da5294bec3",
   "metadata": {},
   "source": [
    "## Now check that they are well-oriented\n",
    "\n",
    "For each face find the barycenter. Check that consecutive vertices have minimal length, among all possible vertice-pair distances. This means they are on the perimeter. \n",
    "Compute the barycenter of the \"sphere\", $B$, and the barycenter of the face $b$. The tangent vector $n := b + \\overline{B-b}$ is the outer normal. For each $i$, the triplet $n$, $v_i - b$ and $v_{i+1} - v_i$ should have positive volume (wedge product)."
   ]
  },
  {
   "cell_type": "code",
   "execution_count": 40,
   "id": "f0f46e44-5b88-4f26-8dcc-ec7761db018f",
   "metadata": {
    "scrolled": true
   },
   "outputs": [
    {
     "name": "stdout",
     "output_type": "stream",
     "text": [
      "Face  1\n",
      "Edge length  1.2360679774997898\n",
      "Wedge product  1.4472135954999579\n",
      "Edge length  1.2360679774997896\n",
      "Wedge product  1.4472135954999579\n",
      "Edge length  1.2360679774997898\n",
      "Wedge product  1.4472135954999579\n",
      "Edge length  1.2360679774997898\n",
      "Wedge product  1.447213595499958\n",
      "Edge length  1.2360679774997898\n",
      "Wedge product  1.447213595499958\n",
      "Face  2\n",
      "Edge length  1.2360679774997898\n",
      "Wedge product  1.447213595499958\n",
      "Edge length  1.2360679774997898\n",
      "Wedge product  1.447213595499958\n",
      "Edge length  1.2360679774997898\n",
      "Wedge product  1.4472135954999579\n",
      "Edge length  1.2360679774997896\n",
      "Wedge product  1.4472135954999579\n",
      "Edge length  1.2360679774997898\n",
      "Wedge product  1.4472135954999579\n",
      "Face  3\n",
      "Edge length  1.2360679774997898\n",
      "Wedge product  1.447213595499958\n",
      "Edge length  1.2360679774997898\n",
      "Wedge product  1.447213595499958\n",
      "Edge length  1.2360679774997898\n",
      "Wedge product  1.4472135954999579\n",
      "Edge length  1.2360679774997896\n",
      "Wedge product  1.4472135954999579\n",
      "Edge length  1.2360679774997898\n",
      "Wedge product  1.4472135954999579\n",
      "Face  4\n",
      "Edge length  1.2360679774997898\n",
      "Wedge product  1.4472135954999579\n",
      "Edge length  1.2360679774997896\n",
      "Wedge product  1.4472135954999579\n",
      "Edge length  1.2360679774997898\n",
      "Wedge product  1.4472135954999579\n",
      "Edge length  1.2360679774997898\n",
      "Wedge product  1.447213595499958\n",
      "Edge length  1.2360679774997898\n",
      "Wedge product  1.447213595499958\n",
      "Face  5\n",
      "Edge length  1.2360679774997898\n",
      "Wedge product  1.447213595499958\n",
      "Edge length  1.2360679774997896\n",
      "Wedge product  1.4472135954999579\n",
      "Edge length  1.2360679774997898\n",
      "Wedge product  1.447213595499958\n",
      "Edge length  1.2360679774997898\n",
      "Wedge product  1.4472135954999583\n",
      "Edge length  1.2360679774997898\n",
      "Wedge product  1.447213595499958\n",
      "Face  6\n",
      "Edge length  1.2360679774997898\n",
      "Wedge product  1.447213595499958\n",
      "Edge length  1.2360679774997896\n",
      "Wedge product  1.4472135954999579\n",
      "Edge length  1.2360679774997898\n",
      "Wedge product  1.447213595499958\n",
      "Edge length  1.2360679774997898\n",
      "Wedge product  1.4472135954999583\n",
      "Edge length  1.2360679774997898\n",
      "Wedge product  1.447213595499958\n",
      "Face  7\n",
      "Edge length  1.2360679774997898\n",
      "Wedge product  1.447213595499958\n",
      "Edge length  1.2360679774997896\n",
      "Wedge product  1.4472135954999579\n",
      "Edge length  1.2360679774997898\n",
      "Wedge product  1.447213595499958\n",
      "Edge length  1.2360679774997898\n",
      "Wedge product  1.4472135954999583\n",
      "Edge length  1.2360679774997898\n",
      "Wedge product  1.447213595499958\n",
      "Face  8\n",
      "Edge length  1.2360679774997898\n",
      "Wedge product  1.4472135954999583\n",
      "Edge length  1.2360679774997898\n",
      "Wedge product  1.447213595499958\n",
      "Edge length  1.2360679774997898\n",
      "Wedge product  1.447213595499958\n",
      "Edge length  1.2360679774997896\n",
      "Wedge product  1.4472135954999579\n",
      "Edge length  1.2360679774997898\n",
      "Wedge product  1.447213595499958\n",
      "Face  9\n",
      "Edge length  1.2360679774997898\n",
      "Wedge product  1.4472135954999579\n",
      "Edge length  1.2360679774997896\n",
      "Wedge product  1.4472135954999579\n",
      "Edge length  1.2360679774997898\n",
      "Wedge product  1.4472135954999579\n",
      "Edge length  1.2360679774997898\n",
      "Wedge product  1.447213595499958\n",
      "Edge length  1.2360679774997898\n",
      "Wedge product  1.447213595499958\n",
      "Face  10\n",
      "Edge length  1.2360679774997898\n",
      "Wedge product  1.447213595499958\n",
      "Edge length  1.2360679774997898\n",
      "Wedge product  1.447213595499958\n",
      "Edge length  1.2360679774997898\n",
      "Wedge product  1.4472135954999579\n",
      "Edge length  1.2360679774997896\n",
      "Wedge product  1.4472135954999579\n",
      "Edge length  1.2360679774997898\n",
      "Wedge product  1.4472135954999579\n",
      "Face  11\n",
      "Edge length  1.2360679774997898\n",
      "Wedge product  1.447213595499958\n",
      "Edge length  1.2360679774997898\n",
      "Wedge product  1.447213595499958\n",
      "Edge length  1.2360679774997898\n",
      "Wedge product  1.4472135954999579\n",
      "Edge length  1.2360679774997896\n",
      "Wedge product  1.4472135954999579\n",
      "Edge length  1.2360679774997898\n",
      "Wedge product  1.4472135954999579\n",
      "Face  12\n",
      "Edge length  1.2360679774997898\n",
      "Wedge product  1.4472135954999579\n",
      "Edge length  1.2360679774997896\n",
      "Wedge product  1.4472135954999579\n",
      "Edge length  1.2360679774997898\n",
      "Wedge product  1.4472135954999579\n",
      "Edge length  1.2360679774997898\n",
      "Wedge product  1.447213595499958\n",
      "Edge length  1.2360679774997898\n",
      "Wedge product  1.447213595499958\n"
     ]
    }
   ],
   "source": [
    "B = np.mean(vertices, axis=0) # the center is the origin!\n",
    "\n",
    "for i,face in enumerate(faces):\n",
    "    b = np.mean( vertices[face,:] , axis = 0 )\n",
    "\n",
    "    print('Face ',i+1)\n",
    "\n",
    "    for j in range(len(face)):\n",
    "\n",
    "        vi = vertices[face[j]]\n",
    "        vj = vertices[face[(j + 1) % 5]]\n",
    "\n",
    "        print('Edge length ', np.linalg.norm( vj-vi ))\n",
    "\n",
    "        triplet = np.vstack([b-B,vi-b,vj-vi])\n",
    "\n",
    "        print('Wedge product ', np.linalg.det(triplet))\n",
    "        \n",
    "    "
   ]
  },
  {
   "cell_type": "code",
   "execution_count": 41,
   "id": "919affef-e7a3-49e1-92f8-7623a7490082",
   "metadata": {},
   "outputs": [],
   "source": [
    "from scipy.spatial import distance_matrix"
   ]
  },
  {
   "cell_type": "code",
   "execution_count": 42,
   "id": "605c0436-9997-4904-a7f7-5481c02468a4",
   "metadata": {},
   "outputs": [],
   "source": [
    "points = vertices[faces[6],:]\n",
    "\n",
    "dist = distance_matrix(points,points,2)\n"
   ]
  },
  {
   "cell_type": "code",
   "execution_count": 43,
   "id": "4741b4e1-29e0-4089-b0fc-8854f0766b7b",
   "metadata": {},
   "outputs": [
    {
     "data": {
      "text/plain": [
       "array([[0.        , 1.23606798, 2.        , 2.        , 1.23606798],\n",
       "       [1.23606798, 0.        , 1.23606798, 2.        , 2.        ],\n",
       "       [2.        , 1.23606798, 0.        , 1.23606798, 2.        ],\n",
       "       [2.        , 2.        , 1.23606798, 0.        , 1.23606798],\n",
       "       [1.23606798, 2.        , 2.        , 1.23606798, 0.        ]])"
      ]
     },
     "execution_count": 43,
     "metadata": {},
     "output_type": "execute_result"
    }
   ],
   "source": [
    "dist"
   ]
  },
  {
   "cell_type": "markdown",
   "id": "0bebd3a8-ba03-465e-9179-f30cdcc5aacf",
   "metadata": {},
   "source": [
    "# Permutations"
   ]
  },
  {
   "cell_type": "code",
   "execution_count": 44,
   "id": "f231c925-03fe-454d-a6ab-8d1f5f4a0985",
   "metadata": {},
   "outputs": [],
   "source": [
    "# Adjacency among faces\n",
    "\n",
    "adjacent_faces = np.zeros((12,12), dtype=int)\n",
    "\n",
    "# two faces are adjacent if they have two vertex in common\n",
    "\n",
    "for i,f in enumerate(faces):\n",
    "\n",
    "    for j,fb in enumerate(faces):\n",
    "\n",
    "        f1 = set(f)\n",
    "        f2 = set(fb)\n",
    "\n",
    "        intersection = list(f1 & f2)\n",
    "\n",
    "        if len(intersection) == 2:\n",
    "            adjacent_faces[i,j] = 1"
   ]
  },
  {
   "cell_type": "code",
   "execution_count": 45,
   "id": "a2f3f688-b6ab-432a-a313-87efe75d8c67",
   "metadata": {},
   "outputs": [
    {
     "data": {
      "text/plain": [
       "array([[0, 1, 1, 1, 0, 1, 1, 0, 0, 0, 0, 0],\n",
       "       [1, 0, 1, 1, 1, 0, 0, 1, 0, 0, 0, 0],\n",
       "       [1, 1, 0, 0, 1, 1, 0, 0, 1, 0, 0, 0],\n",
       "       [1, 1, 0, 0, 0, 0, 1, 1, 0, 1, 0, 0],\n",
       "       [0, 1, 1, 0, 0, 0, 0, 1, 1, 0, 0, 1],\n",
       "       [1, 0, 1, 0, 0, 0, 1, 0, 1, 0, 1, 0],\n",
       "       [1, 0, 0, 1, 0, 1, 0, 0, 0, 1, 1, 0],\n",
       "       [0, 1, 0, 1, 1, 0, 0, 0, 0, 1, 0, 1],\n",
       "       [0, 0, 1, 0, 1, 1, 0, 0, 0, 0, 1, 1],\n",
       "       [0, 0, 0, 1, 0, 0, 1, 1, 0, 0, 1, 1],\n",
       "       [0, 0, 0, 0, 0, 1, 1, 0, 1, 1, 0, 1],\n",
       "       [0, 0, 0, 0, 1, 0, 0, 1, 1, 1, 1, 0]])"
      ]
     },
     "execution_count": 45,
     "metadata": {},
     "output_type": "execute_result"
    }
   ],
   "source": [
    "adjacent_faces"
   ]
  },
  {
   "cell_type": "code",
   "execution_count": 46,
   "id": "152f6e7d-e0ce-4576-9fd0-37a1f26dc459",
   "metadata": {},
   "outputs": [],
   "source": [
    "edges = list(sorted(list(edges)))"
   ]
  },
  {
   "cell_type": "code",
   "execution_count": 47,
   "id": "69b8c691-208e-4e9f-9d1c-519e82f57ed2",
   "metadata": {},
   "outputs": [
    {
     "data": {
      "text/plain": [
       "[(0, 8),\n",
       " (0, 12),\n",
       " (0, 16),\n",
       " (1, 9),\n",
       " (1, 12),\n",
       " (1, 17),\n",
       " (2, 10),\n",
       " (2, 13),\n",
       " (2, 16),\n",
       " (3, 11),\n",
       " (3, 13),\n",
       " (3, 17),\n",
       " (4, 8),\n",
       " (4, 14),\n",
       " (4, 18),\n",
       " (5, 9),\n",
       " (5, 14),\n",
       " (5, 19),\n",
       " (6, 10),\n",
       " (6, 15),\n",
       " (6, 18),\n",
       " (7, 11),\n",
       " (7, 15),\n",
       " (7, 19),\n",
       " (8, 10),\n",
       " (9, 11),\n",
       " (12, 14),\n",
       " (13, 15),\n",
       " (16, 17),\n",
       " (18, 19)]"
      ]
     },
     "execution_count": 47,
     "metadata": {},
     "output_type": "execute_result"
    }
   ],
   "source": [
    "edges"
   ]
  },
  {
   "cell_type": "markdown",
   "id": "33a1c7a8-4970-4f8c-9127-2413a0bad57d",
   "metadata": {},
   "source": [
    "## Algorithm\n",
    "\n",
    "\n",
    "Take the first vertex of the first face (vertex 0), call it $x$ and send it to another vertex $p$ (20 choices).\n",
    "\n",
    "Then choose the first vertex adjacent to the first (vertex 8), call it $y$ and send it to one of the 3 vertices adjacent to $p$. Call this $q$."
   ]
  },
  {
   "cell_type": "code",
   "execution_count": 48,
   "id": "62bf9f0d-06dd-4304-83db-6f4393e37d06",
   "metadata": {},
   "outputs": [],
   "source": [
    "rotation_pairs = []\n",
    "\n",
    "for v1 in range(20): #choose the first vertex\n",
    "\n",
    "    # find the adjacent vertices\n",
    "    adj_vertices = [ e[1] for e in edges if e[0] == v1 ] + [ e[0] for e in edges if e[1] == v1]\n",
    "\n",
    "    for v2 in adj_vertices:\n",
    "\n",
    "        rotation_pairs.append( (v1,v2) )\n",
    "    "
   ]
  },
  {
   "cell_type": "code",
   "execution_count": 49,
   "id": "0268ac87-31e7-4d92-b9be-351c7de92bd5",
   "metadata": {},
   "outputs": [
    {
     "data": {
      "text/plain": [
       "60"
      ]
     },
     "execution_count": 49,
     "metadata": {},
     "output_type": "execute_result"
    }
   ],
   "source": [
    "len(rotation_pairs)"
   ]
  },
  {
   "cell_type": "markdown",
   "id": "65e30bbf-50a3-4099-9c63-73b232ed3736",
   "metadata": {},
   "source": [
    "### Construct the rotation\n",
    "There is ony one rotation (up to $2\\pi$) that maps $x$ to $p$ and $y$ to $q$. You can obtain it by writing orthonormal bases for the pairs $B = [x,y]$ and $D = [p,q]$. Take the generic point $v$. $B$ rotates $E$ (the canonical basis) to $B$, and $B^{-1}=B^T$ does the opposite. The same for $D$, so $DB^T$ takes $[x,y]$ to $E$ and then to $[p,q]$. Then it must be the desired rotation."
   ]
  },
  {
   "cell_type": "code",
   "execution_count": 50,
   "id": "75d4b2e9-cc83-45de-a990-53201235e079",
   "metadata": {},
   "outputs": [],
   "source": [
    "def rotation(x, y, p, q):\n",
    "    # Normalize to lie on sphere\n",
    "    def normalize(v): return v / np.linalg.norm(v)\n",
    "    x, y, p, q = map(normalize, (x, y, p, q))\n",
    "\n",
    "    # Build source orthonormal basis via Grahm-Schmidt\n",
    "    u1 = x\n",
    "    u2 = y - np.dot(y, u1) * u1 \n",
    "    u2 = normalize(u2)\n",
    "    u3 = np.cross(u1, u2)\n",
    "\n",
    "    # Build target orthonormal basis\n",
    "    v1 = p\n",
    "    v2 = q - np.dot(q, v1) * v1\n",
    "    v2 = normalize(v2)\n",
    "    v3 = np.cross(v1, v2)\n",
    "\n",
    "    U = np.stack([u1, u2, u3], axis=1)\n",
    "    V = np.stack([v1, v2, v3], axis=1)\n",
    "\n",
    "    R = V @ U.T   # rotation matrix\n",
    "\n",
    "    return R"
   ]
  },
  {
   "cell_type": "markdown",
   "id": "ba3c6caf-8df2-4853-bc6e-43f762142eb1",
   "metadata": {},
   "source": [
    "### Apply the rotation \n",
    "\n",
    "For each rotation pair computed above, apply $R$ to the barycenters, and see which other barycenter they become. This must be a permutation of the faces"
   ]
  },
  {
   "cell_type": "code",
   "execution_count": 51,
   "id": "01d13a6f-f22d-4f6a-be55-8de993c22a8c",
   "metadata": {
    "scrolled": true
   },
   "outputs": [],
   "source": [
    "permutations = np.zeros((60,12), dtype=int)\n",
    "\n",
    "x = vertices[0,:]\n",
    "y = vertices[8,:]\n",
    "\n",
    "for i, (v1, v2) in enumerate(rotation_pairs):\n",
    "\n",
    "    p = vertices[v1,:]\n",
    "    q = vertices[v2,:]\n",
    "\n",
    "    R = rotation(x,y,p,q)\n",
    "\n",
    "    # Apply the rotation\n",
    "    new_bar = (R @ barycenters.T).T\n",
    "\n",
    "    for j in range(12):\n",
    "        b = new_bar[j,:]\n",
    "\n",
    "        distances = np.linalg.norm( b - barycenters, axis = 1 )\n",
    "\n",
    "        flag = np.min(distances)\n",
    "        if flag >= 1E-10:\n",
    "            print('CAREFUL! Barycenters are not close')\n",
    "        match = np.argmin(distances)\n",
    "\n",
    "        permutations[i, j] = match\n",
    "    "
   ]
  },
  {
   "cell_type": "code",
   "execution_count": 52,
   "id": "7ee39318-807e-4f8c-b181-df2158369f07",
   "metadata": {},
   "outputs": [
    {
     "data": {
      "text/plain": [
       "array([[ 0,  1,  2,  3,  4,  5,  6,  7,  8,  9, 10, 11],\n",
       "       [ 3,  9,  7,  6, 11,  1,  0, 10,  4,  5,  2,  8],\n",
       "       [ 6,  5, 10,  0,  8,  9,  3,  2, 11,  1,  7,  4],\n",
       "       [ 9, 11,  7, 10,  4,  3,  6,  8,  1,  5,  0,  2],\n",
       "       [ 6,  3,  0,  9,  1,  5, 10,  7,  2, 11,  8,  4],\n",
       "       [10,  5,  8,  6,  2, 11,  9,  0,  4,  3,  7,  1],\n",
       "       [ 2,  1,  4,  0,  7,  8,  5,  3, 11,  6, 10,  9],\n",
       "       [ 5,  8, 10,  2, 11,  6,  0,  4,  9,  1,  3,  7],\n",
       "       [ 0,  6,  3,  5,  9,  1,  2, 10,  7,  8,  4, 11],\n",
       "       [10, 11,  9,  8,  7,  6,  5,  4,  3,  2,  0,  1],\n",
       "       [ 8,  2,  4,  5,  1, 11, 10,  0,  7,  6,  9,  3],\n",
       "       [ 5,  6,  0, 10,  3,  2,  8,  9,  1, 11,  4,  7],\n",
       "       [ 3,  0,  6,  1,  5,  9,  7,  2, 10,  4, 11,  8],\n",
       "       [ 7,  9, 11,  3, 10,  4,  1,  6,  8,  0,  2,  5],\n",
       "       [ 1,  4,  2,  7,  8,  0,  3, 11,  5,  9,  6, 10],\n",
       "       [11, 10,  8,  9,  5,  4,  7,  6,  2,  3,  1,  0],\n",
       "       [ 9,  3,  6,  7,  0, 10, 11,  1,  5,  4,  8,  2],\n",
       "       [ 7,  4,  1, 11,  2,  3,  9,  8,  0, 10,  6,  5],\n",
       "       [ 1,  0,  3,  2,  6,  7,  4,  5,  9,  8, 11, 10],\n",
       "       [ 2,  8,  5,  4, 10,  0,  1, 11,  6,  7,  3,  9],\n",
       "       [ 4,  7, 11,  1,  9,  8,  2,  3, 10,  0,  5,  6],\n",
       "       [ 8, 10,  5, 11,  6,  2,  4,  9,  0,  7,  1,  3],\n",
       "       [ 4,  2,  1,  8,  0,  7, 11,  5,  3, 10,  9,  6],\n",
       "       [11,  7,  9,  4,  3, 10,  8,  1,  6,  2,  5,  0],\n",
       "       [ 0,  2,  5,  1,  8,  6,  3,  4, 10,  7,  9, 11],\n",
       "       [ 3,  6,  9,  0, 10,  7,  1,  5, 11,  2,  4,  8],\n",
       "       [ 1,  7,  4,  3, 11,  2,  0,  9,  8,  6,  5, 10],\n",
       "       [11,  8,  4, 10,  2,  7,  9,  5,  1,  6,  3,  0],\n",
       "       [10,  6,  5,  9,  0,  8, 11,  3,  2,  7,  4,  1],\n",
       "       [ 9,  7,  3, 11,  1,  6, 10,  4,  0,  8,  5,  2],\n",
       "       [ 0,  5,  6,  2, 10,  3,  1,  8,  9,  4,  7, 11],\n",
       "       [ 2,  4,  8,  1, 11,  5,  0,  7, 10,  3,  6,  9],\n",
       "       [ 1,  3,  7,  0,  9,  4,  2,  6, 11,  5,  8, 10],\n",
       "       [ 8,  5,  2, 10,  0,  4, 11,  6,  1,  9,  7,  3],\n",
       "       [11,  4,  7,  8,  1,  9, 10,  2,  3,  5,  6,  0],\n",
       "       [10,  9,  6, 11,  3,  5,  8,  7,  0,  4,  2,  1],\n",
       "       [ 3,  7,  1,  9,  4,  0,  6, 11,  2, 10,  5,  8],\n",
       "       [ 6,  0,  5,  3,  2, 10,  9,  1,  8,  7, 11,  4],\n",
       "       [ 9, 10, 11,  6,  8,  7,  3,  5,  4,  0,  1,  2],\n",
       "       [ 8,  4, 11,  2,  7, 10,  5,  1,  9,  0,  6,  3],\n",
       "       [ 2,  0,  1,  5,  3,  4,  8,  6,  7, 10, 11,  9],\n",
       "       [ 5, 10,  6,  8,  9,  0,  2, 11,  3,  4,  1,  7],\n",
       "       [ 3,  1,  0,  7,  2,  6,  9,  4,  5, 11, 10,  8],\n",
       "       [ 7, 11,  4,  9,  8,  1,  3, 10,  2,  6,  0,  5],\n",
       "       [ 9,  6, 10,  3,  5, 11,  7,  0,  8,  1,  4,  2],\n",
       "       [ 4,  1,  7,  2,  3, 11,  8,  0,  9,  5, 10,  6],\n",
       "       [ 8, 11, 10,  4,  9,  5,  2,  7,  6,  1,  0,  3],\n",
       "       [ 2,  5,  0,  8,  6,  1,  4, 10,  3, 11,  7,  9],\n",
       "       [ 6, 10,  9,  5, 11,  3,  0,  8,  7,  2,  1,  4],\n",
       "       [ 0,  3,  1,  6,  7,  2,  5,  9,  4, 10,  8, 11],\n",
       "       [ 5,  2,  8,  0,  4, 10,  6,  1, 11,  3,  9,  7],\n",
       "       [ 6,  9,  3, 10,  7,  0,  5, 11,  1,  8,  2,  4],\n",
       "       [10,  8, 11,  5,  4,  9,  6,  2,  7,  0,  3,  1],\n",
       "       [ 5,  0,  2,  6,  1,  8, 10,  3,  4,  9, 11,  7],\n",
       "       [ 4, 11,  8,  7, 10,  2,  1,  9,  5,  3,  0,  6],\n",
       "       [ 7,  3,  9,  1,  6, 11,  4,  0, 10,  2,  8,  5],\n",
       "       [ 1,  2,  0,  4,  5,  3,  7,  8,  6, 11,  9, 10],\n",
       "       [11,  9, 10,  7,  6,  8,  4,  3,  5,  1,  2,  0],\n",
       "       [ 4,  8,  2, 11,  5,  1,  7, 10,  0,  9,  3,  6],\n",
       "       [ 7,  1,  3,  4,  0,  9, 11,  2,  6,  8, 10,  5]])"
      ]
     },
     "execution_count": 52,
     "metadata": {},
     "output_type": "execute_result"
    }
   ],
   "source": [
    "permutations"
   ]
  },
  {
   "cell_type": "code",
   "execution_count": 53,
   "id": "e924acfd-c439-4e50-aa4b-8541d6d603eb",
   "metadata": {},
   "outputs": [],
   "source": [
    "import src.descriptors.dodecahedron \n",
    "from src.descriptors.dodecahedron import which_dodecahedral_face, dodecahedron_common_face, gen_dodecahedron_block_permutations"
   ]
  },
  {
   "cell_type": "code",
   "execution_count": 69,
   "id": "31909e0c-da80-4a43-b446-810c14c4abc7",
   "metadata": {},
   "outputs": [],
   "source": [
    "newperm = gen_dodecahedron_block_permutations(2)"
   ]
  },
  {
   "cell_type": "code",
   "execution_count": 80,
   "id": "b8dd1f5c-f08b-43ac-bc1a-19ef08e51a4e",
   "metadata": {},
   "outputs": [],
   "source": [
    "p = newperm[34,:]"
   ]
  },
  {
   "cell_type": "code",
   "execution_count": 81,
   "id": "ff5642c0-2c3c-4993-86d7-d524191590d2",
   "metadata": {},
   "outputs": [],
   "source": [
    "q = permutations[34,:]"
   ]
  },
  {
   "cell_type": "code",
   "execution_count": 82,
   "id": "df14ee65-2e78-4071-97b3-c3fe9bacf61d",
   "metadata": {},
   "outputs": [
    {
     "data": {
      "text/plain": [
       "array([[22, 23],\n",
       "       [ 8,  9],\n",
       "       [14, 15],\n",
       "       [16, 17],\n",
       "       [ 2,  3],\n",
       "       [18, 19],\n",
       "       [20, 21],\n",
       "       [ 4,  5],\n",
       "       [ 6,  7],\n",
       "       [10, 11],\n",
       "       [12, 13],\n",
       "       [ 0,  1]])"
      ]
     },
     "execution_count": 82,
     "metadata": {},
     "output_type": "execute_result"
    }
   ],
   "source": [
    "p.reshape((-1,2))"
   ]
  },
  {
   "cell_type": "code",
   "execution_count": 83,
   "id": "5c240d5c-21e1-4d42-ae03-f3f392ae0f9b",
   "metadata": {},
   "outputs": [
    {
     "data": {
      "text/plain": [
       "array([11,  4,  7,  8,  1,  9, 10,  2,  3,  5,  6,  0])"
      ]
     },
     "execution_count": 83,
     "metadata": {},
     "output_type": "execute_result"
    }
   ],
   "source": [
    "q"
   ]
  },
  {
   "cell_type": "code",
   "execution_count": 85,
   "id": "437e007a-642f-4442-8e8e-54af7f7aa16d",
   "metadata": {},
   "outputs": [
    {
     "data": {
      "text/plain": [
       "60"
      ]
     },
     "execution_count": 85,
     "metadata": {},
     "output_type": "execute_result"
    }
   ],
   "source": [
    "len(permutations.tolist())"
   ]
  },
  {
   "cell_type": "code",
   "execution_count": 86,
   "id": "a1bf0db9-5932-4fea-a4fa-b0ba77dcb49f",
   "metadata": {},
   "outputs": [
    {
     "data": {
      "text/plain": [
       "(60, 12)"
      ]
     },
     "execution_count": 86,
     "metadata": {},
     "output_type": "execute_result"
    }
   ],
   "source": [
    "permutations.shape"
   ]
  },
  {
   "cell_type": "code",
   "execution_count": 109,
   "id": "87c6f18b-7b7b-4718-a6d4-231c31bf4591",
   "metadata": {},
   "outputs": [],
   "source": [
    "vec = np.random.random((12,))"
   ]
  },
  {
   "cell_type": "code",
   "execution_count": 110,
   "id": "434b2c82-eef8-4485-ae9d-270e735f657e",
   "metadata": {},
   "outputs": [
    {
     "data": {
      "text/plain": [
       "(60, 12)"
      ]
     },
     "execution_count": 110,
     "metadata": {},
     "output_type": "execute_result"
    }
   ],
   "source": [
    "vec[permutations].shape"
   ]
  },
  {
   "cell_type": "code",
   "execution_count": 111,
   "id": "a95d7efd-ba88-4e04-a97c-1f4994ce3f44",
   "metadata": {},
   "outputs": [],
   "source": [
    "aug_vec = vec[permutations]"
   ]
  },
  {
   "cell_type": "code",
   "execution_count": 112,
   "id": "8a601056-5260-4879-ad2f-9c785242f800",
   "metadata": {},
   "outputs": [
    {
     "data": {
      "text/plain": [
       "(12,)"
      ]
     },
     "execution_count": 112,
     "metadata": {},
     "output_type": "execute_result"
    }
   ],
   "source": [
    "vec.shape"
   ]
  },
  {
   "cell_type": "code",
   "execution_count": 113,
   "id": "b12327b5-6101-491f-b6ac-7267d5051030",
   "metadata": {},
   "outputs": [
    {
     "ename": "IndexError",
     "evalue": "too many indices for array: array is 2-dimensional, but 3 were indexed",
     "output_type": "error",
     "traceback": [
      "\u001b[0;31m---------------------------------------------------------------------------\u001b[0m",
      "\u001b[0;31mIndexError\u001b[0m                                Traceback (most recent call last)",
      "Cell \u001b[0;32mIn[113], line 1\u001b[0m\n\u001b[0;32m----> 1\u001b[0m \u001b[43maug_vec\u001b[49m\u001b[43m[\u001b[49m\u001b[43m:\u001b[49m\u001b[43m:\u001b[49m\u001b[43m,\u001b[49m\u001b[43m:\u001b[49m\u001b[43m:\u001b[49m\u001b[43m,\u001b[49m\u001b[38;5;241;43m0\u001b[39;49m\u001b[43m]\u001b[49m\u001b[38;5;241m.\u001b[39mshape\n",
      "\u001b[0;31mIndexError\u001b[0m: too many indices for array: array is 2-dimensional, but 3 were indexed"
     ]
    }
   ],
   "source": []
  },
  {
   "cell_type": "code",
   "execution_count": 114,
   "id": "92fdde53-3ffd-4bb3-9155-bc975070eafb",
   "metadata": {},
   "outputs": [],
   "source": [
    "v = permutations[23,:].reshape(-1)"
   ]
  },
  {
   "cell_type": "code",
   "execution_count": 118,
   "id": "28b6ab35-2033-4e77-ba14-2d1dff64c5da",
   "metadata": {},
   "outputs": [
    {
     "data": {
      "text/plain": [
       "(60, 12)"
      ]
     },
     "execution_count": 118,
     "metadata": {},
     "output_type": "execute_result"
    }
   ],
   "source": [
    "v[permutations].shape"
   ]
  },
  {
   "cell_type": "code",
   "execution_count": 119,
   "id": "7658f3d1-1a80-4e63-8e7b-e1ca750be9cd",
   "metadata": {},
   "outputs": [],
   "source": [
    "pred = np.load('./data/prediction.npy')"
   ]
  },
  {
   "cell_type": "code",
   "execution_count": 122,
   "id": "66e7f566-2bbb-48c9-908b-e2068bc0e3b9",
   "metadata": {},
   "outputs": [
    {
     "data": {
      "text/plain": [
       "array([1, 0, 1, 1, 1, 1, 1, 0, 1, 1, 0, 0, 1, 1, 1, 0, 0, 1, 1, 1, 1, 1,\n",
       "       0])"
      ]
     },
     "execution_count": 122,
     "metadata": {},
     "output_type": "execute_result"
    }
   ],
   "source": [
    "pred"
   ]
  },
  {
   "cell_type": "code",
   "execution_count": null,
   "id": "40b6be98-a739-401d-990b-a1846b97fa36",
   "metadata": {},
   "outputs": [],
   "source": []
  }
 ],
 "metadata": {
  "kernelspec": {
   "display_name": "Python 3 (ipykernel)",
   "language": "python",
   "name": "python3"
  },
  "language_info": {
   "codemirror_mode": {
    "name": "ipython",
    "version": 3
   },
   "file_extension": ".py",
   "mimetype": "text/x-python",
   "name": "python",
   "nbconvert_exporter": "python",
   "pygments_lexer": "ipython3",
   "version": "3.10.12"
  }
 },
 "nbformat": 4,
 "nbformat_minor": 5
}
