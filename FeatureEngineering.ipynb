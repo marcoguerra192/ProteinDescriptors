{
 "cells": [
  {
   "cell_type": "markdown",
   "id": "b5cb05ae-5e71-4628-8716-13d30e4764d8",
   "metadata": {},
   "source": [
    "# Feature Engineering"
   ]
  },
  {
   "cell_type": "code",
   "execution_count": 1,
   "id": "14730008-69d3-4b4a-b3c7-a90ab3e232cf",
   "metadata": {},
   "outputs": [],
   "source": [
    "%load_ext IPython.extensions.autoreload\n",
    "%autoreload 2"
   ]
  },
  {
   "cell_type": "markdown",
   "id": "84540f34-e50a-4acf-868b-befdc60a3e00",
   "metadata": {},
   "source": [
    "!pip install seaborn"
   ]
  },
  {
   "cell_type": "code",
   "execution_count": 2,
   "id": "5221e126-1942-442f-b0f1-dff93289c3fc",
   "metadata": {},
   "outputs": [],
   "source": [
    "import sys,os\n",
    "from pathlib import Path\n",
    "import numpy as np\n",
    "import matplotlib.pyplot as plt"
   ]
  },
  {
   "cell_type": "code",
   "execution_count": 3,
   "id": "fc343725-364d-4275-a3ab-324776335086",
   "metadata": {},
   "outputs": [],
   "source": [
    "import numpy as np\n",
    "from src.data_reader import DataSource, read_vertices_VTK, num_vertices_VTK\n",
    "from src.descriptors.dscs_driver import compute_descriptors\n",
    "\n",
    "from src.utils import get_free_id, write_jsonl, clear_jsonl\n",
    "from src.descriptors.spherical_sectors import spherical_block_permutations"
   ]
  },
  {
   "cell_type": "markdown",
   "id": "f5dc4647-934f-4a20-9900-5445b66e56ec",
   "metadata": {},
   "source": [
    "!pip install numpy==1.23.0"
   ]
  },
  {
   "cell_type": "code",
   "execution_count": 4,
   "id": "daa5979f-062c-4b93-bd75-eb7c0b5575e8",
   "metadata": {},
   "outputs": [],
   "source": [
    "from gudhi import RipsComplex, AlphaComplex, plot_persistence_diagram\n",
    "from gudhi.representations import ProminentPoints\n",
    "from gudhi.representations import PersistenceImage"
   ]
  },
  {
   "cell_type": "code",
   "execution_count": 5,
   "id": "1cc21345-8a63-4630-8ad7-05dfe2a563d6",
   "metadata": {},
   "outputs": [],
   "source": [
    "from sklearn.decomposition import PCA, KernelPCA\n",
    "from sklearn.ensemble import RandomForestClassifier\n",
    "from sklearn.mixture import GaussianMixture as GMM\n",
    "from sklearn.model_selection import StratifiedShuffleSplit\n",
    "from sklearn.metrics import accuracy_score, classification_report\n",
    "\n",
    "import joblib"
   ]
  },
  {
   "cell_type": "code",
   "execution_count": 6,
   "id": "af97c1a6-76c6-46fe-a46e-757022f54d14",
   "metadata": {},
   "outputs": [],
   "source": [
    "import csv"
   ]
  },
  {
   "cell_type": "code",
   "execution_count": 7,
   "id": "a03b38b4-f7df-461a-a673-f3695b3751e7",
   "metadata": {},
   "outputs": [],
   "source": [
    "import torch\n",
    "import torch.nn as nn\n",
    "import torch.optim as optim\n",
    "from torch.utils.data import DataLoader, TensorDataset\n",
    "from torchinfo import summary as torch_summary\n",
    "\n",
    "from IPython.display import display, clear_output\n",
    "\n",
    "from src.learning.nn import SimpleNN, train, predict"
   ]
  },
  {
   "cell_type": "markdown",
   "id": "cfae7ef4-0c3a-48a1-9c25-95fc6c2d0cf1",
   "metadata": {},
   "source": [
    "### Load Data"
   ]
  },
  {
   "cell_type": "code",
   "execution_count": 483,
   "id": "d20d9316-8182-45c3-9b7a-ed6c9a454ba0",
   "metadata": {},
   "outputs": [
    {
     "name": "stdout",
     "output_type": "stream",
     "text": [
      "(9244, 17) (9244,)\n"
     ]
    }
   ],
   "source": [
    "Model = 'Combined'\n",
    "\n",
    "data_base = './data/data/'\n",
    "\n",
    "save_descs_path = os.path.join(data_base,'saved_descriptors/train_set/')\n",
    "\n",
    "data = np.load(os.path.join(save_descs_path,Model+'Data.npy'))\n",
    "labels = np.load(os.path.join(save_descs_path,Model+'Labels.npy'))\n",
    "\n",
    "print(data.shape, labels.shape)"
   ]
  },
  {
   "cell_type": "code",
   "execution_count": 491,
   "id": "a57e57ec-277c-43dd-a9c2-844b2a02423c",
   "metadata": {},
   "outputs": [
    {
     "data": {
      "text/plain": [
       "(9244, 16)"
      ]
     },
     "execution_count": 491,
     "metadata": {},
     "output_type": "execute_result"
    }
   ],
   "source": [
    "data = np.delete(data, 12, axis=1)\n",
    "data.shape"
   ]
  },
  {
   "cell_type": "code",
   "execution_count": 521,
   "id": "be93a90f-ca51-44ee-9c5c-a0318d2eac69",
   "metadata": {},
   "outputs": [
    {
     "name": "stdout",
     "output_type": "stream",
     "text": [
      "(9244, 75) (9244,)\n"
     ]
    }
   ],
   "source": [
    "Model = 'AlphaProminent'\n",
    "\n",
    "data_base = './data/data/'\n",
    "\n",
    "save_descs_path = os.path.join(data_base,'saved_descriptors/train_set/')\n",
    "\n",
    "data2 = np.load(os.path.join(save_descs_path,Model+'Data.npy'))\n",
    "#data2 = np.load(os.path.join(save_descs_path,'EncodedAlphaProminent.npy'))\n",
    "labels2 = np.load(os.path.join(save_descs_path,Model+'Labels.npy'))\n",
    "\n",
    "print(data2.shape, labels2.shape)"
   ]
  },
  {
   "cell_type": "code",
   "execution_count": 709,
   "id": "5fb99bc9-580e-40d3-83bf-d719f85b3e88",
   "metadata": {},
   "outputs": [
    {
     "data": {
      "text/plain": [
       "(9244, 104)"
      ]
     },
     "execution_count": 709,
     "metadata": {},
     "output_type": "execute_result"
    }
   ],
   "source": [
    "dataS = np.load('./data/sectors/saved_descriptors/train_set/sector_sublevel.npy')\n",
    "dataS.shape"
   ]
  },
  {
   "cell_type": "code",
   "execution_count": 23,
   "id": "62fbb673-f8d0-4975-8810-7ccbb87f2f19",
   "metadata": {},
   "outputs": [
    {
     "data": {
      "text/plain": [
       "(2321, 104)"
      ]
     },
     "execution_count": 23,
     "metadata": {},
     "output_type": "execute_result"
    }
   ],
   "source": [
    "dataS = np.load('./data/sectors/saved_descriptors/test_set/sector_sublevel.npy')\n",
    "dataS.shape"
   ]
  },
  {
   "cell_type": "code",
   "execution_count": 710,
   "id": "562d9e48-eca5-4e48-b2d4-1219ca3e8f0f",
   "metadata": {},
   "outputs": [
    {
     "data": {
      "text/plain": [
       "(9244,)"
      ]
     },
     "execution_count": 710,
     "metadata": {},
     "output_type": "execute_result"
    }
   ],
   "source": [
    "labelsS = np.load('./data/data/saved_descriptors/train_set/AlphaProminentLabels.npy')\n",
    "labelsS.shape"
   ]
  },
  {
   "cell_type": "markdown",
   "id": "83a13ccf-c4a2-4dcb-986e-debe45601ee2",
   "metadata": {},
   "source": [
    "### Train Data"
   ]
  },
  {
   "cell_type": "code",
   "execution_count": 8,
   "id": "0d5750ee-28c9-4ea5-8221-33e649728cf8",
   "metadata": {},
   "outputs": [],
   "source": [
    "dataAlpha_aug = np.load('./data/data/saved_descriptors/train_set/AlphaProminent_aug.npy')\n",
    "dataS_aug = np.load('./data/sectors/saved_descriptors/train_set/AugmentedData.npy')\n",
    "labels = np.load('./data/sectors/saved_descriptors/train_set/AugmentedLabels.npy')"
   ]
  },
  {
   "cell_type": "code",
   "execution_count": 9,
   "id": "f1c1606b-e762-4074-9713-49ad5e2b75db",
   "metadata": {},
   "outputs": [],
   "source": [
    "data = np.concatenate( [dataS_aug , dataAlpha_aug] , axis = 1 )\n",
    "#data = np.concatenate( [ dataAlpha_aug] , axis = 1 )"
   ]
  },
  {
   "cell_type": "code",
   "execution_count": null,
   "id": "425cc7ba-442a-4399-b9a1-f888b6342b55",
   "metadata": {},
   "outputs": [],
   "source": []
  },
  {
   "cell_type": "markdown",
   "id": "06b2efad-a706-41a1-a0ae-689770993e84",
   "metadata": {},
   "source": [
    "### Test Data"
   ]
  },
  {
   "cell_type": "code",
   "execution_count": 12,
   "id": "7731fd13-6b98-4c7d-a84b-28b86116da54",
   "metadata": {},
   "outputs": [],
   "source": [
    "TestDataAlpha_aug = np.load('./data/data/saved_descriptors/test_set/AlphaProminent_aug.npy')\n",
    "TestDataS_aug = np.load('./data/sectors/saved_descriptors/test_set/TestAugmentedData.npy')"
   ]
  },
  {
   "cell_type": "code",
   "execution_count": 13,
   "id": "558eb3bd-e74f-4263-899f-ece48ba13e4e",
   "metadata": {},
   "outputs": [],
   "source": [
    "TestData = np.concatenate( [TestDataS_aug , TestDataAlpha_aug] , axis = 1 )\n",
    "#TestData = np.concatenate( [ TestDataEncAlpha_aug] , axis = 1 )"
   ]
  },
  {
   "cell_type": "markdown",
   "id": "c89b8e53-73bd-4e63-aee3-13011fb4d198",
   "metadata": {},
   "source": [
    "### Check data distributions"
   ]
  },
  {
   "cell_type": "code",
   "execution_count": 14,
   "id": "3d1cb936-7f72-4770-bc26-974994cc414a",
   "metadata": {},
   "outputs": [
    {
     "data": {
      "text/plain": [
       "(73952, 171)"
      ]
     },
     "execution_count": 14,
     "metadata": {},
     "output_type": "execute_result"
    }
   ],
   "source": [
    "data.shape"
   ]
  },
  {
   "cell_type": "code",
   "execution_count": 15,
   "id": "22beac1d-4f74-43de-af46-4612b496b17e",
   "metadata": {},
   "outputs": [
    {
     "data": {
      "text/plain": [
       "(18568, 171)"
      ]
     },
     "execution_count": 15,
     "metadata": {},
     "output_type": "execute_result"
    }
   ],
   "source": [
    "TestData.shape"
   ]
  },
  {
   "cell_type": "code",
   "execution_count": 16,
   "id": "aac00908-1e21-47de-9e92-f984acacde13",
   "metadata": {},
   "outputs": [
    {
     "ename": "NameError",
     "evalue": "name 'data2' is not defined",
     "output_type": "error",
     "traceback": [
      "\u001b[0;31m---------------------------------------------------------------------------\u001b[0m",
      "\u001b[0;31mNameError\u001b[0m                                 Traceback (most recent call last)",
      "Cell \u001b[0;32mIn[16], line 1\u001b[0m\n\u001b[0;32m----> 1\u001b[0m plt\u001b[38;5;241m.\u001b[39mplot(\u001b[43mdata2\u001b[49m[:,\u001b[38;5;241m5\u001b[39m],\u001b[38;5;124m'\u001b[39m\u001b[38;5;124m.\u001b[39m\u001b[38;5;124m'\u001b[39m)\n",
      "\u001b[0;31mNameError\u001b[0m: name 'data2' is not defined"
     ]
    }
   ],
   "source": [
    "plt.plot(data2[:,5],'.')"
   ]
  },
  {
   "cell_type": "code",
   "execution_count": 421,
   "id": "a8e1c0f0-f8d2-4916-9515-da101b6f6279",
   "metadata": {},
   "outputs": [
    {
     "data": {
      "text/plain": [
       "array([1.76934497e+01, 3.60303015e-01, 1.59971513e-01, 6.92511987e-02,\n",
       "       1.31992064e-01, 4.51104434e+00, 1.99264002e-01, 7.94191003e-02,\n",
       "       3.84670654e-02, 7.19899765e-02, 1.60228478e+00, 8.97209651e-02,\n",
       "       3.33485276e-02, 1.57676032e-02, 2.99942031e-02, 7.24317167e-01,\n",
       "       5.25469911e-02, 2.07076927e-02, 8.57686581e-03, 1.68881605e-02,\n",
       "       3.76017596e-01, 4.64445209e-02, 1.77817983e-02, 5.92794743e-03,\n",
       "       1.29447926e-02])"
      ]
     },
     "execution_count": 421,
     "metadata": {},
     "output_type": "execute_result"
    }
   ],
   "source": [
    "means[25:50]"
   ]
  },
  {
   "cell_type": "code",
   "execution_count": 17,
   "id": "ea87a3f0-b9df-4a1f-a05d-6542ca3e9555",
   "metadata": {},
   "outputs": [],
   "source": [
    "from sklearn.preprocessing import StandardScaler"
   ]
  },
  {
   "cell_type": "code",
   "execution_count": 18,
   "id": "51fb96c3-18cc-474c-9d8d-ba4e990da267",
   "metadata": {},
   "outputs": [],
   "source": [
    "SSc = StandardScaler()"
   ]
  },
  {
   "cell_type": "code",
   "execution_count": 19,
   "id": "4801202a-1b0b-41fb-b8ad-3aa6face9345",
   "metadata": {},
   "outputs": [
    {
     "ename": "NameError",
     "evalue": "name 'dataS' is not defined",
     "output_type": "error",
     "traceback": [
      "\u001b[0;31m---------------------------------------------------------------------------\u001b[0m",
      "\u001b[0;31mNameError\u001b[0m                                 Traceback (most recent call last)",
      "Cell \u001b[0;32mIn[19], line 2\u001b[0m\n\u001b[1;32m      1\u001b[0m \u001b[38;5;66;03m#dataS = SSc.fit_transform(dataS, labels)\u001b[39;00m\n\u001b[0;32m----> 2\u001b[0m dataS \u001b[38;5;241m=\u001b[39m SSc\u001b[38;5;241m.\u001b[39mfit_transform(\u001b[43mdataS\u001b[49m)\n",
      "\u001b[0;31mNameError\u001b[0m: name 'dataS' is not defined"
     ]
    }
   ],
   "source": [
    "#dataS = SSc.fit_transform(dataS, labels)\n",
    "dataS = SSc.fit_transform(dataS)"
   ]
  },
  {
   "cell_type": "code",
   "execution_count": 23,
   "id": "a5f00e10-c029-41e4-8c8b-84a74dfe0105",
   "metadata": {
    "scrolled": true
   },
   "outputs": [],
   "source": [
    "means = np.mean(dataAlpha_aug, axis = 0)\n",
    "stds = np.std(dataAlpha_aug, axis = 0)"
   ]
  },
  {
   "cell_type": "code",
   "execution_count": 24,
   "id": "8e4d7130-d4e8-463f-9d77-971d6ce49ff8",
   "metadata": {},
   "outputs": [
    {
     "data": {
      "text/plain": [
       "<matplotlib.legend.Legend at 0x7eecad7b5210>"
      ]
     },
     "execution_count": 24,
     "metadata": {},
     "output_type": "execute_result"
    },
    {
     "data": {
      "image/png": "[encoded data removed]",
      "text/plain": [
       "<Figure size 432x288 with 1 Axes>"
      ]
     },
     "metadata": {
      "needs_background": "light"
     },
     "output_type": "display_data"
    }
   ],
   "source": [
    "plt.plot(means,'.k', label='Mean')\n",
    "plt.plot(stds,'.r', label='Std')\n",
    "plt.legend()"
   ]
  },
  {
   "cell_type": "code",
   "execution_count": 26,
   "id": "e099eaa7-ca60-46f5-a552-5591c06c67f6",
   "metadata": {
    "scrolled": true
   },
   "outputs": [],
   "source": [
    "TestMeans = np.mean(TestDataAlpha_aug, axis = 0)\n",
    "TestStds = np.std(TestDataAlpha_aug, axis = 0)"
   ]
  },
  {
   "cell_type": "code",
   "execution_count": 27,
   "id": "ff4857d8-94d0-4a30-8883-5b323280af0a",
   "metadata": {},
   "outputs": [
    {
     "data": {
      "text/plain": [
       "<matplotlib.legend.Legend at 0x7eecad7b47c0>"
      ]
     },
     "execution_count": 27,
     "metadata": {},
     "output_type": "execute_result"
    },
    {
     "data": {
      "image/png": "[encoded data removed]",
      "text/plain": [
       "<Figure size 432x288 with 1 Axes>"
      ]
     },
     "metadata": {
      "needs_background": "light"
     },
     "output_type": "display_data"
    }
   ],
   "source": [
    "plt.plot(TestMeans,'.k', label='Mean')\n",
    "plt.plot(TestStds,'.r', label='Std')\n",
    "plt.legend()"
   ]
  },
  {
   "cell_type": "code",
   "execution_count": 38,
   "id": "1a5f88ae-76d6-405e-a655-473bd58c866f",
   "metadata": {},
   "outputs": [
    {
     "data": {
      "text/plain": [
       "array([[59],\n",
       "       [60],\n",
       "       [61],\n",
       "       [62],\n",
       "       [63],\n",
       "       [64],\n",
       "       [65],\n",
       "       [66],\n",
       "       [67],\n",
       "       [68],\n",
       "       [69],\n",
       "       [70],\n",
       "       [71],\n",
       "       [72],\n",
       "       [73],\n",
       "       [74]])"
      ]
     },
     "execution_count": 38,
     "metadata": {},
     "output_type": "execute_result"
    }
   ],
   "source": [
    "np.argwhere(TestStds < .01)"
   ]
  },
  {
   "cell_type": "markdown",
   "id": "406dda6c-3b00-43c3-912c-8a3f78b4a351",
   "metadata": {},
   "source": [
    "### Visualize correlations"
   ]
  },
  {
   "cell_type": "code",
   "execution_count": 18,
   "id": "e4ea35c1-449a-4cb9-97a7-6649b20d214b",
   "metadata": {},
   "outputs": [],
   "source": [
    "import numpy as np\n",
    "import matplotlib.pyplot as plt\n",
    "import seaborn as sns\n",
    "from sklearn.linear_model import LinearRegression\n",
    "\n",
    "\n",
    "n, p = data.shape[0], data.shape[1]\n",
    "\n",
    "\n",
    "# Initialize R^2 matrix\n",
    "R2_matrix = np.zeros((p, p))\n",
    "\n",
    "# Compute R^2 for each pair of features\n",
    "for i in range(p):\n",
    "    for j in range(p):\n",
    "        if i == j:\n",
    "            R2_matrix[i, j] = 1.0  # R^2 of a feature with itself is 1\n",
    "\n",
    "        if j < i:\n",
    "            R2_matrix[i, j] = R2_matrix[j, i]\n",
    "        else:\n",
    "            model = LinearRegression().fit(data[:, i].reshape(-1, 1), data[:, j])\n",
    "            R2_matrix[i, j] = model.score(data[:, i].reshape(-1, 1), data[:, j])"
   ]
  },
  {
   "cell_type": "code",
   "execution_count": 19,
   "id": "c8ffee69-f5d6-418e-806d-7517bbcb639a",
   "metadata": {},
   "outputs": [
    {
     "data": {
      "image/png": "[encoded data removed]",
      "text/plain": [
       "<Figure size 576x432 with 2 Axes>"
      ]
     },
     "metadata": {
      "needs_background": "light"
     },
     "output_type": "display_data"
    }
   ],
   "source": [
    "# Plot the matrix\n",
    "plt.figure(figsize=(8, 6))\n",
    "sns.heatmap(R2_matrix, annot=False, cmap=\"coolwarm\", fmt=\".2f\", square=True)\n",
    "plt.title(\"$R^2$ Matrix of Feature Correlations\")\n",
    "plt.xlabel(\"Feature Index\")\n",
    "plt.ylabel(\"Feature Index\")\n",
    "plt.show()"
   ]
  },
  {
   "cell_type": "code",
   "execution_count": 35,
   "id": "0dfe07ff-cbb2-4cc8-89d7-38233a7f3b44",
   "metadata": {},
   "outputs": [
    {
     "data": {
      "text/plain": [
       "12.0"
      ]
     },
     "execution_count": 35,
     "metadata": {},
     "output_type": "execute_result"
    }
   ],
   "source": []
  },
  {
   "cell_type": "code",
   "execution_count": 31,
   "id": "2c998b96-cb20-47e1-8019-41554e591edd",
   "metadata": {},
   "outputs": [],
   "source": [
    "exclude = [ 8 + 13*k for k in range(8) ]\n",
    "list(sorted(exclude))\n",
    "\n",
    "dataS = np.delete(dataS, exclude, axis = 1)"
   ]
  },
  {
   "cell_type": "code",
   "execution_count": 37,
   "id": "6819d498-86ff-4a1e-8413-eef6a0c2e56c",
   "metadata": {},
   "outputs": [],
   "source": [
    "# decorrelate sectors\n",
    "for k in range(8):\n",
    "    q1 = 3 + 12*k\n",
    "    q2 = 4 + 12*k\n",
    "    q3 = 5 + 12*k\n",
    "\n",
    "    reg1 = LinearRegression().fit(dataS[:, [q2]], dataS[:, q1])\n",
    "    reg3 = LinearRegression().fit(dataS[:, [q2]], dataS[:, q3])\n",
    "\n",
    "    # Compute residuals\n",
    "    res1 = dataS[:, q1] - reg1.predict(dataS[:, [q2]])\n",
    "    res3 = dataS[:, q3] - reg3.predict(dataS[:, [q2]])\n",
    "\n",
    "    # substitute\n",
    "    dataS[:,q1] = res1\n",
    "    dataS[:,q3] = res3\n",
    "    "
   ]
  },
  {
   "cell_type": "code",
   "execution_count": 524,
   "id": "5d5038a3-29ca-4c43-ac47-6804161fdd7c",
   "metadata": {},
   "outputs": [],
   "source": [
    "n, p = data.shape[0], data.shape[1]\n",
    "\n",
    "\n",
    "# Initialize R^2 matrix\n",
    "R2_matrix = np.zeros((p, p))\n",
    "\n",
    "# Compute R^2 for each pair of features\n",
    "for i in range(p):\n",
    "    for j in range(p):\n",
    "        if i == j:\n",
    "            R2_matrix[i, j] = 1.0  # R^2 of a feature with itself is 1\n",
    "        if j < i:\n",
    "            R2_matrix[i, j] = R2_matrix[j, i]\n",
    "        else:\n",
    "            model = LinearRegression().fit(data[:, i].reshape(-1, 1), data[:, j])\n",
    "            R2_matrix[i, j] = model.score(data[:, i].reshape(-1, 1), data[:, j])"
   ]
  },
  {
   "cell_type": "code",
   "execution_count": 525,
   "id": "6d562c71-2e77-4314-b5a1-74b5030e335e",
   "metadata": {},
   "outputs": [
    {
     "data": {
      "image/png": "[encoded data removed]",
      "text/plain": [
       "<Figure size 576x432 with 2 Axes>"
      ]
     },
     "metadata": {
      "needs_background": "light"
     },
     "output_type": "display_data"
    }
   ],
   "source": [
    "# Plot the matrix\n",
    "plt.figure(figsize=(8, 6))\n",
    "sns.heatmap(R2_matrix, annot=False, cmap=\"coolwarm\", fmt=\".2f\", square=True)\n",
    "plt.title(\"$R^2$ Matrix of Feature Correlations\")\n",
    "plt.xlabel(\"Feature Index\")\n",
    "plt.ylabel(\"Feature Index\")\n",
    "plt.show()"
   ]
  },
  {
   "cell_type": "markdown",
   "id": "a3b559d7-5a7a-45f6-a5cb-8735b00163bc",
   "metadata": {},
   "source": [
    "### Try to decorrelate quantiles"
   ]
  },
  {
   "cell_type": "code",
   "execution_count": 316,
   "id": "2ac2e217-327e-4607-a5e4-cf41781d54cc",
   "metadata": {},
   "outputs": [],
   "source": [
    "for i in [4,3,2,1]:\n",
    "    data[:,i] -= data[:,i-1]"
   ]
  },
  {
   "cell_type": "code",
   "execution_count": 317,
   "id": "6cda76c4-85d2-4f1c-9f0d-40e34026d4a4",
   "metadata": {},
   "outputs": [],
   "source": [
    "for i in [9,8,7,6]:\n",
    "    data[:,i] -= data[:,i-1]"
   ]
  },
  {
   "cell_type": "markdown",
   "id": "ac8e86c4-5eb1-4df0-a289-4189abfcfc57",
   "metadata": {},
   "source": [
    "### Try with linear regression"
   ]
  },
  {
   "cell_type": "code",
   "execution_count": 494,
   "id": "cf6478a6-de42-4946-ba0c-2e5f706e06fe",
   "metadata": {},
   "outputs": [],
   "source": [
    "for i in [0,1,3,4]:\n",
    "    reg = LinearRegression().fit(data[:, [2]], data[:, i])\n",
    "\n",
    "    # Compute residuals\n",
    "    res = data[:, i] - reg.predict(data[:, [2]])\n",
    "\n",
    "    # substitute\n",
    "    data[:,i] = res\n"
   ]
  },
  {
   "cell_type": "code",
   "execution_count": 495,
   "id": "4f1638a1-1a12-418d-b683-c9ac4adf0153",
   "metadata": {},
   "outputs": [],
   "source": [
    "for i in [5,6,8,9]:\n",
    "    reg = LinearRegression().fit(data[:, [7]], data[:, i])\n",
    "\n",
    "    # Compute residuals\n",
    "    res = data[:, i] - reg.predict(data[:, [7]])\n",
    "\n",
    "    # substitute\n",
    "    data[:,i] = res"
   ]
  },
  {
   "cell_type": "code",
   "execution_count": 246,
   "id": "6d937164-ba4f-4c9e-b0e3-845919bffbc9",
   "metadata": {},
   "outputs": [],
   "source": [
    "class_mask = np.where(labels==80)[0]"
   ]
  },
  {
   "cell_type": "code",
   "execution_count": 462,
   "id": "73ce2750-ab00-49eb-9722-b9e248ab066c",
   "metadata": {},
   "outputs": [
    {
     "data": {
      "text/plain": [
       "[<matplotlib.lines.Line2D at 0x7f72210a1660>]"
      ]
     },
     "execution_count": 462,
     "metadata": {},
     "output_type": "execute_result"
    },
    {
     "data": {
      "image/png": "[encoded data removed]",
      "text/plain": [
       "<Figure size 432x288 with 1 Axes>"
      ]
     },
     "metadata": {
      "needs_background": "light"
     },
     "output_type": "display_data"
    }
   ],
   "source": [
    "plt.plot(data[:,0], data[:,1], '.')"
   ]
  },
  {
   "cell_type": "code",
   "execution_count": 339,
   "id": "7aec0d08-8c82-4d2f-82e5-de882ad1a212",
   "metadata": {},
   "outputs": [
    {
     "data": {
      "text/plain": [
       "[<matplotlib.lines.Line2D at 0x7f7222c70280>]"
      ]
     },
     "execution_count": 339,
     "metadata": {},
     "output_type": "execute_result"
    },
    {
     "data": {
      "image/png": "[encoded data removed]",
      "text/plain": [
       "<Figure size 432x288 with 1 Axes>"
      ]
     },
     "metadata": {
      "needs_background": "light"
     },
     "output_type": "display_data"
    }
   ],
   "source": [
    "plt.plot( data[:,7], '.')"
   ]
  },
  {
   "cell_type": "markdown",
   "id": "a63441a0-f42b-4874-9b41-e297a1a2a0d1",
   "metadata": {},
   "source": [
    "### Combine"
   ]
  },
  {
   "cell_type": "code",
   "execution_count": 531,
   "id": "0003cf06-408c-41ca-994c-49bf0498c6b0",
   "metadata": {},
   "outputs": [
    {
     "data": {
      "text/plain": [
       "(9244, 91)"
      ]
     },
     "execution_count": 531,
     "metadata": {},
     "output_type": "execute_result"
    }
   ],
   "source": [
    "all_data = np.concatenate([data, data2], axis=1)\n",
    "#all_data = data\n",
    "\n",
    "all_data.shape"
   ]
  },
  {
   "cell_type": "markdown",
   "id": "ee812443-67f5-4708-aa8f-dce14bf09a32",
   "metadata": {},
   "source": [
    "### Cross-validation"
   ]
  },
  {
   "cell_type": "code",
   "execution_count": 729,
   "id": "9abd6692-4b25-4eee-bac8-ed93519723e4",
   "metadata": {},
   "outputs": [],
   "source": [
    "StrShSp = StratifiedShuffleSplit(n_splits=15, train_size=0.8, random_state=None)\n",
    "\n",
    "# get indices of split\n",
    "train_idx, val_idx = next(StrShSp.split(dataS, labelsS))\n",
    "\n",
    "train_data = dataS[train_idx,:]\n",
    "train_labels = labelsS[train_idx]\n",
    "\n",
    "val_data = dataS[val_idx]\n",
    "val_labels = labelsS[val_idx]"
   ]
  },
  {
   "cell_type": "code",
   "execution_count": 730,
   "id": "1874c0b2-7e26-4951-8b1b-88794ca1c22b",
   "metadata": {},
   "outputs": [
    {
     "data": {
      "text/html": [
       "<style>#sk-container-id-8 {\n",
       "  /* Definition of color scheme common for light and dark mode */\n",
       "  --sklearn-color-text: #000;\n",
       "  --sklearn-color-text-muted: #666;\n",
       "  --sklearn-color-line: gray;\n",
       "  /* Definition of color scheme for unfitted estimators */\n",
       "  --sklearn-color-unfitted-level-0: #fff5e6;\n",
       "  --sklearn-color-unfitted-level-1: #f6e4d2;\n",
       "  --sklearn-color-unfitted-level-2: #ffe0b3;\n",
       "  --sklearn-color-unfitted-level-3: chocolate;\n",
       "  /* Definition of color scheme for fitted estimators */\n",
       "  --sklearn-color-fitted-level-0: #f0f8ff;\n",
       "  --sklearn-color-fitted-level-1: #d4ebff;\n",
       "  --sklearn-color-fitted-level-2: #b3dbfd;\n",
       "  --sklearn-color-fitted-level-3: cornflowerblue;\n",
       "\n",
       "  /* Specific color for light theme */\n",
       "  --sklearn-color-text-on-default-background: var(--sg-text-color, var(--theme-code-foreground, var(--jp-content-font-color1, black)));\n",
       "  --sklearn-color-background: var(--sg-background-color, var(--theme-background, var(--jp-layout-color0, white)));\n",
       "  --sklearn-color-border-box: var(--sg-text-color, var(--theme-code-foreground, var(--jp-content-font-color1, black)));\n",
       "  --sklearn-color-icon: #696969;\n",
       "\n",
       "  @media (prefers-color-scheme: dark) {\n",
       "    /* Redefinition of color scheme for dark theme */\n",
       "    --sklearn-color-text-on-default-background: var(--sg-text-color, var(--theme-code-foreground, var(--jp-content-font-color1, white)));\n",
       "    --sklearn-color-background: var(--sg-background-color, var(--theme-background, var(--jp-layout-color0, #111)));\n",
       "    --sklearn-color-border-box: var(--sg-text-color, var(--theme-code-foreground, var(--jp-content-font-color1, white)));\n",
       "    --sklearn-color-icon: #878787;\n",
       "  }\n",
       "}\n",
       "\n",
       "#sk-container-id-8 {\n",
       "  color: var(--sklearn-color-text);\n",
       "}\n",
       "\n",
       "#sk-container-id-8 pre {\n",
       "  padding: 0;\n",
       "}\n",
       "\n",
       "#sk-container-id-8 input.sk-hidden--visually {\n",
       "  border: 0;\n",
       "  clip: rect(1px 1px 1px 1px);\n",
       "  clip: rect(1px, 1px, 1px, 1px);\n",
       "  height: 1px;\n",
       "  margin: -1px;\n",
       "  overflow: hidden;\n",
       "  padding: 0;\n",
       "  position: absolute;\n",
       "  width: 1px;\n",
       "}\n",
       "\n",
       "#sk-container-id-8 div.sk-dashed-wrapped {\n",
       "  border: 1px dashed var(--sklearn-color-line);\n",
       "  margin: 0 0.4em 0.5em 0.4em;\n",
       "  box-sizing: border-box;\n",
       "  padding-bottom: 0.4em;\n",
       "  background-color: var(--sklearn-color-background);\n",
       "}\n",
       "\n",
       "#sk-container-id-8 div.sk-container {\n",
       "  /* jupyter's `normalize.less` sets `[hidden] { display: none; }`\n",
       "     but bootstrap.min.css set `[hidden] { display: none !important; }`\n",
       "     so we also need the `!important` here to be able to override the\n",
       "     default hidden behavior on the sphinx rendered scikit-learn.org.\n",
       "     See: https://github.com/scikit-learn/scikit-learn/issues/21755 */\n",
       "  display: inline-block !important;\n",
       "  position: relative;\n",
       "}\n",
       "\n",
       "#sk-container-id-8 div.sk-text-repr-fallback {\n",
       "  display: none;\n",
       "}\n",
       "\n",
       "div.sk-parallel-item,\n",
       "div.sk-serial,\n",
       "div.sk-item {\n",
       "  /* draw centered vertical line to link estimators */\n",
       "  background-image: linear-gradient(var(--sklearn-color-text-on-default-background), var(--sklearn-color-text-on-default-background));\n",
       "  background-size: 2px 100%;\n",
       "  background-repeat: no-repeat;\n",
       "  background-position: center center;\n",
       "}\n",
       "\n",
       "/* Parallel-specific style estimator block */\n",
       "\n",
       "#sk-container-id-8 div.sk-parallel-item::after {\n",
       "  content: \"\";\n",
       "  width: 100%;\n",
       "  border-bottom: 2px solid var(--sklearn-color-text-on-default-background);\n",
       "  flex-grow: 1;\n",
       "}\n",
       "\n",
       "#sk-container-id-8 div.sk-parallel {\n",
       "  display: flex;\n",
       "  align-items: stretch;\n",
       "  justify-content: center;\n",
       "  background-color: var(--sklearn-color-background);\n",
       "  position: relative;\n",
       "}\n",
       "\n",
       "#sk-container-id-8 div.sk-parallel-item {\n",
       "  display: flex;\n",
       "  flex-direction: column;\n",
       "}\n",
       "\n",
       "#sk-container-id-8 div.sk-parallel-item:first-child::after {\n",
       "  align-self: flex-end;\n",
       "  width: 50%;\n",
       "}\n",
       "\n",
       "#sk-container-id-8 div.sk-parallel-item:last-child::after {\n",
       "  align-self: flex-start;\n",
       "  width: 50%;\n",
       "}\n",
       "\n",
       "#sk-container-id-8 div.sk-parallel-item:only-child::after {\n",
       "  width: 0;\n",
       "}\n",
       "\n",
       "/* Serial-specific style estimator block */\n",
       "\n",
       "#sk-container-id-8 div.sk-serial {\n",
       "  display: flex;\n",
       "  flex-direction: column;\n",
       "  align-items: center;\n",
       "  background-color: var(--sklearn-color-background);\n",
       "  padding-right: 1em;\n",
       "  padding-left: 1em;\n",
       "}\n",
       "\n",
       "\n",
       "/* Toggleable style: style used for estimator/Pipeline/ColumnTransformer box that is\n",
       "clickable and can be expanded/collapsed.\n",
       "- Pipeline and ColumnTransformer use this feature and define the default style\n",
       "- Estimators will overwrite some part of the style using the `sk-estimator` class\n",
       "*/\n",
       "\n",
       "/* Pipeline and ColumnTransformer style (default) */\n",
       "\n",
       "#sk-container-id-8 div.sk-toggleable {\n",
       "  /* Default theme specific background. It is overwritten whether we have a\n",
       "  specific estimator or a Pipeline/ColumnTransformer */\n",
       "  background-color: var(--sklearn-color-background);\n",
       "}\n",
       "\n",
       "/* Toggleable label */\n",
       "#sk-container-id-8 label.sk-toggleable__label {\n",
       "  cursor: pointer;\n",
       "  display: flex;\n",
       "  width: 100%;\n",
       "  margin-bottom: 0;\n",
       "  padding: 0.5em;\n",
       "  box-sizing: border-box;\n",
       "  text-align: center;\n",
       "  align-items: start;\n",
       "  justify-content: space-between;\n",
       "  gap: 0.5em;\n",
       "}\n",
       "\n",
       "#sk-container-id-8 label.sk-toggleable__label .caption {\n",
       "  font-size: 0.6rem;\n",
       "  font-weight: lighter;\n",
       "  color: var(--sklearn-color-text-muted);\n",
       "}\n",
       "\n",
       "#sk-container-id-8 label.sk-toggleable__label-arrow:before {\n",
       "  /* Arrow on the left of the label */\n",
       "  content: \"▸\";\n",
       "  float: left;\n",
       "  margin-right: 0.25em;\n",
       "  color: var(--sklearn-color-icon);\n",
       "}\n",
       "\n",
       "#sk-container-id-8 label.sk-toggleable__label-arrow:hover:before {\n",
       "  color: var(--sklearn-color-text);\n",
       "}\n",
       "\n",
       "/* Toggleable content - dropdown */\n",
       "\n",
       "#sk-container-id-8 div.sk-toggleable__content {\n",
       "  max-height: 0;\n",
       "  max-width: 0;\n",
       "  overflow: hidden;\n",
       "  text-align: left;\n",
       "  /* unfitted */\n",
       "  background-color: var(--sklearn-color-unfitted-level-0);\n",
       "}\n",
       "\n",
       "#sk-container-id-8 div.sk-toggleable__content.fitted {\n",
       "  /* fitted */\n",
       "  background-color: var(--sklearn-color-fitted-level-0);\n",
       "}\n",
       "\n",
       "#sk-container-id-8 div.sk-toggleable__content pre {\n",
       "  margin: 0.2em;\n",
       "  border-radius: 0.25em;\n",
       "  color: var(--sklearn-color-text);\n",
       "  /* unfitted */\n",
       "  background-color: var(--sklearn-color-unfitted-level-0);\n",
       "}\n",
       "\n",
       "#sk-container-id-8 div.sk-toggleable__content.fitted pre {\n",
       "  /* unfitted */\n",
       "  background-color: var(--sklearn-color-fitted-level-0);\n",
       "}\n",
       "\n",
       "#sk-container-id-8 input.sk-toggleable__control:checked~div.sk-toggleable__content {\n",
       "  /* Expand drop-down */\n",
       "  max-height: 200px;\n",
       "  max-width: 100%;\n",
       "  overflow: auto;\n",
       "}\n",
       "\n",
       "#sk-container-id-8 input.sk-toggleable__control:checked~label.sk-toggleable__label-arrow:before {\n",
       "  content: \"▾\";\n",
       "}\n",
       "\n",
       "/* Pipeline/ColumnTransformer-specific style */\n",
       "\n",
       "#sk-container-id-8 div.sk-label input.sk-toggleable__control:checked~label.sk-toggleable__label {\n",
       "  color: var(--sklearn-color-text);\n",
       "  background-color: var(--sklearn-color-unfitted-level-2);\n",
       "}\n",
       "\n",
       "#sk-container-id-8 div.sk-label.fitted input.sk-toggleable__control:checked~label.sk-toggleable__label {\n",
       "  background-color: var(--sklearn-color-fitted-level-2);\n",
       "}\n",
       "\n",
       "/* Estimator-specific style */\n",
       "\n",
       "/* Colorize estimator box */\n",
       "#sk-container-id-8 div.sk-estimator input.sk-toggleable__control:checked~label.sk-toggleable__label {\n",
       "  /* unfitted */\n",
       "  background-color: var(--sklearn-color-unfitted-level-2);\n",
       "}\n",
       "\n",
       "#sk-container-id-8 div.sk-estimator.fitted input.sk-toggleable__control:checked~label.sk-toggleable__label {\n",
       "  /* fitted */\n",
       "  background-color: var(--sklearn-color-fitted-level-2);\n",
       "}\n",
       "\n",
       "#sk-container-id-8 div.sk-label label.sk-toggleable__label,\n",
       "#sk-container-id-8 div.sk-label label {\n",
       "  /* The background is the default theme color */\n",
       "  color: var(--sklearn-color-text-on-default-background);\n",
       "}\n",
       "\n",
       "/* On hover, darken the color of the background */\n",
       "#sk-container-id-8 div.sk-label:hover label.sk-toggleable__label {\n",
       "  color: var(--sklearn-color-text);\n",
       "  background-color: var(--sklearn-color-unfitted-level-2);\n",
       "}\n",
       "\n",
       "/* Label box, darken color on hover, fitted */\n",
       "#sk-container-id-8 div.sk-label.fitted:hover label.sk-toggleable__label.fitted {\n",
       "  color: var(--sklearn-color-text);\n",
       "  background-color: var(--sklearn-color-fitted-level-2);\n",
       "}\n",
       "\n",
       "/* Estimator label */\n",
       "\n",
       "#sk-container-id-8 div.sk-label label {\n",
       "  font-family: monospace;\n",
       "  font-weight: bold;\n",
       "  display: inline-block;\n",
       "  line-height: 1.2em;\n",
       "}\n",
       "\n",
       "#sk-container-id-8 div.sk-label-container {\n",
       "  text-align: center;\n",
       "}\n",
       "\n",
       "/* Estimator-specific */\n",
       "#sk-container-id-8 div.sk-estimator {\n",
       "  font-family: monospace;\n",
       "  border: 1px dotted var(--sklearn-color-border-box);\n",
       "  border-radius: 0.25em;\n",
       "  box-sizing: border-box;\n",
       "  margin-bottom: 0.5em;\n",
       "  /* unfitted */\n",
       "  background-color: var(--sklearn-color-unfitted-level-0);\n",
       "}\n",
       "\n",
       "#sk-container-id-8 div.sk-estimator.fitted {\n",
       "  /* fitted */\n",
       "  background-color: var(--sklearn-color-fitted-level-0);\n",
       "}\n",
       "\n",
       "/* on hover */\n",
       "#sk-container-id-8 div.sk-estimator:hover {\n",
       "  /* unfitted */\n",
       "  background-color: var(--sklearn-color-unfitted-level-2);\n",
       "}\n",
       "\n",
       "#sk-container-id-8 div.sk-estimator.fitted:hover {\n",
       "  /* fitted */\n",
       "  background-color: var(--sklearn-color-fitted-level-2);\n",
       "}\n",
       "\n",
       "/* Specification for estimator info (e.g. \"i\" and \"?\") */\n",
       "\n",
       "/* Common style for \"i\" and \"?\" */\n",
       "\n",
       ".sk-estimator-doc-link,\n",
       "a:link.sk-estimator-doc-link,\n",
       "a:visited.sk-estimator-doc-link {\n",
       "  float: right;\n",
       "  font-size: smaller;\n",
       "  line-height: 1em;\n",
       "  font-family: monospace;\n",
       "  background-color: var(--sklearn-color-background);\n",
       "  border-radius: 1em;\n",
       "  height: 1em;\n",
       "  width: 1em;\n",
       "  text-decoration: none !important;\n",
       "  margin-left: 0.5em;\n",
       "  text-align: center;\n",
       "  /* unfitted */\n",
       "  border: var(--sklearn-color-unfitted-level-1) 1pt solid;\n",
       "  color: var(--sklearn-color-unfitted-level-1);\n",
       "}\n",
       "\n",
       ".sk-estimator-doc-link.fitted,\n",
       "a:link.sk-estimator-doc-link.fitted,\n",
       "a:visited.sk-estimator-doc-link.fitted {\n",
       "  /* fitted */\n",
       "  border: var(--sklearn-color-fitted-level-1) 1pt solid;\n",
       "  color: var(--sklearn-color-fitted-level-1);\n",
       "}\n",
       "\n",
       "/* On hover */\n",
       "div.sk-estimator:hover .sk-estimator-doc-link:hover,\n",
       ".sk-estimator-doc-link:hover,\n",
       "div.sk-label-container:hover .sk-estimator-doc-link:hover,\n",
       ".sk-estimator-doc-link:hover {\n",
       "  /* unfitted */\n",
       "  background-color: var(--sklearn-color-unfitted-level-3);\n",
       "  color: var(--sklearn-color-background);\n",
       "  text-decoration: none;\n",
       "}\n",
       "\n",
       "div.sk-estimator.fitted:hover .sk-estimator-doc-link.fitted:hover,\n",
       ".sk-estimator-doc-link.fitted:hover,\n",
       "div.sk-label-container:hover .sk-estimator-doc-link.fitted:hover,\n",
       ".sk-estimator-doc-link.fitted:hover {\n",
       "  /* fitted */\n",
       "  background-color: var(--sklearn-color-fitted-level-3);\n",
       "  color: var(--sklearn-color-background);\n",
       "  text-decoration: none;\n",
       "}\n",
       "\n",
       "/* Span, style for the box shown on hovering the info icon */\n",
       ".sk-estimator-doc-link span {\n",
       "  display: none;\n",
       "  z-index: 9999;\n",
       "  position: relative;\n",
       "  font-weight: normal;\n",
       "  right: .2ex;\n",
       "  padding: .5ex;\n",
       "  margin: .5ex;\n",
       "  width: min-content;\n",
       "  min-width: 20ex;\n",
       "  max-width: 50ex;\n",
       "  color: var(--sklearn-color-text);\n",
       "  box-shadow: 2pt 2pt 4pt #999;\n",
       "  /* unfitted */\n",
       "  background: var(--sklearn-color-unfitted-level-0);\n",
       "  border: .5pt solid var(--sklearn-color-unfitted-level-3);\n",
       "}\n",
       "\n",
       ".sk-estimator-doc-link.fitted span {\n",
       "  /* fitted */\n",
       "  background: var(--sklearn-color-fitted-level-0);\n",
       "  border: var(--sklearn-color-fitted-level-3);\n",
       "}\n",
       "\n",
       ".sk-estimator-doc-link:hover span {\n",
       "  display: block;\n",
       "}\n",
       "\n",
       "/* \"?\"-specific style due to the `<a>` HTML tag */\n",
       "\n",
       "#sk-container-id-8 a.estimator_doc_link {\n",
       "  float: right;\n",
       "  font-size: 1rem;\n",
       "  line-height: 1em;\n",
       "  font-family: monospace;\n",
       "  background-color: var(--sklearn-color-background);\n",
       "  border-radius: 1rem;\n",
       "  height: 1rem;\n",
       "  width: 1rem;\n",
       "  text-decoration: none;\n",
       "  /* unfitted */\n",
       "  color: var(--sklearn-color-unfitted-level-1);\n",
       "  border: var(--sklearn-color-unfitted-level-1) 1pt solid;\n",
       "}\n",
       "\n",
       "#sk-container-id-8 a.estimator_doc_link.fitted {\n",
       "  /* fitted */\n",
       "  border: var(--sklearn-color-fitted-level-1) 1pt solid;\n",
       "  color: var(--sklearn-color-fitted-level-1);\n",
       "}\n",
       "\n",
       "/* On hover */\n",
       "#sk-container-id-8 a.estimator_doc_link:hover {\n",
       "  /* unfitted */\n",
       "  background-color: var(--sklearn-color-unfitted-level-3);\n",
       "  color: var(--sklearn-color-background);\n",
       "  text-decoration: none;\n",
       "}\n",
       "\n",
       "#sk-container-id-8 a.estimator_doc_link.fitted:hover {\n",
       "  /* fitted */\n",
       "  background-color: var(--sklearn-color-fitted-level-3);\n",
       "}\n",
       "</style><div id=\"sk-container-id-8\" class=\"sk-top-container\"><div class=\"sk-text-repr-fallback\"><pre>RandomForestClassifier(criterion=&#x27;entropy&#x27;, n_estimators=150)</pre><b>In a Jupyter environment, please rerun this cell to show the HTML representation or trust the notebook. <br />On GitHub, the HTML representation is unable to render, please try loading this page with nbviewer.org.</b></div><div class=\"sk-container\" hidden><div class=\"sk-item\"><div class=\"sk-estimator fitted sk-toggleable\"><input class=\"sk-toggleable__control sk-hidden--visually\" id=\"sk-estimator-id-8\" type=\"checkbox\" checked><label for=\"sk-estimator-id-8\" class=\"sk-toggleable__label fitted sk-toggleable__label-arrow\"><div><div>RandomForestClassifier</div></div><div><a class=\"sk-estimator-doc-link fitted\" rel=\"noreferrer\" target=\"_blank\" href=\"https://scikit-learn.org/1.6/modules/generated/sklearn.ensemble.RandomForestClassifier.html\">?<span>Documentation for RandomForestClassifier</span></a><span class=\"sk-estimator-doc-link fitted\">i<span>Fitted</span></span></div></label><div class=\"sk-toggleable__content fitted\"><pre>RandomForestClassifier(criterion=&#x27;entropy&#x27;, n_estimators=150)</pre></div> </div></div></div></div>"
      ],
      "text/plain": [
       "RandomForestClassifier(criterion='entropy', n_estimators=150)"
      ]
     },
     "execution_count": 730,
     "metadata": {},
     "output_type": "execute_result"
    }
   ],
   "source": [
    "N_Estimators = 150\n",
    "criterion = 'entropy'\n",
    "\n",
    "\n",
    "forest = RandomForestClassifier(n_estimators=N_Estimators, criterion=criterion)\n",
    "forest.fit(train_data, train_labels)"
   ]
  },
  {
   "cell_type": "code",
   "execution_count": 731,
   "id": "861619ec-3716-465d-94d3-fa0b2be89c01",
   "metadata": {},
   "outputs": [],
   "source": [
    "pred_labels = forest.predict(val_data)"
   ]
  },
  {
   "cell_type": "code",
   "execution_count": 732,
   "id": "007e153f-3eae-431f-85e5-c908c7b4b92a",
   "metadata": {},
   "outputs": [
    {
     "name": "stdout",
     "output_type": "stream",
     "text": [
      "0.8193618171984857\n"
     ]
    }
   ],
   "source": [
    "acc = accuracy_score(val_labels, pred_labels)\n",
    "\n",
    "print(acc)"
   ]
  },
  {
   "cell_type": "code",
   "execution_count": 733,
   "id": "14505465-ab1e-423a-aea1-0b3b378c9583",
   "metadata": {
    "scrolled": true
   },
   "outputs": [
    {
     "name": "stdout",
     "output_type": "stream",
     "text": [
      "              precision    recall  f1-score   support\n",
      "\n",
      "           0       0.95      1.00      0.98        20\n",
      "           1       0.00      0.00      0.00         1\n",
      "           2       1.00      0.33      0.50         3\n",
      "           3       0.67      0.50      0.57         4\n",
      "           4       1.00      0.33      0.50         3\n",
      "           5       0.92      0.96      0.94        25\n",
      "           6       1.00      0.20      0.33         5\n",
      "           7       1.00      0.80      0.89        15\n",
      "           8       0.82      1.00      0.90       411\n",
      "           9       0.92      0.85      0.88        13\n",
      "          10       1.00      1.00      1.00         3\n",
      "          11       1.00      0.78      0.88         9\n",
      "          12       1.00      0.50      0.67         2\n",
      "          13       1.00      0.25      0.40         4\n",
      "          14       0.62      0.93      0.75        98\n",
      "          15       0.95      1.00      0.97        18\n",
      "          16       0.82      1.00      0.90        31\n",
      "          17       0.92      1.00      0.96        23\n",
      "          18       1.00      1.00      1.00        15\n",
      "          19       0.88      0.88      0.88         8\n",
      "          20       0.00      0.00      0.00         1\n",
      "          21       0.90      0.60      0.72        15\n",
      "          22       0.71      1.00      0.83        12\n",
      "          23       0.00      0.00      0.00         2\n",
      "          24       0.00      0.00      0.00         2\n",
      "          25       1.00      0.17      0.29        29\n",
      "          27       0.00      0.00      0.00         1\n",
      "          28       1.00      0.50      0.67         4\n",
      "          29       1.00      0.67      0.80         3\n",
      "          31       0.00      0.00      0.00         7\n",
      "          32       0.81      0.68      0.74        19\n",
      "          33       0.96      0.88      0.92        25\n",
      "          34       0.00      0.00      0.00        15\n",
      "          35       0.00      0.00      0.00         5\n",
      "          36       0.00      0.00      0.00         2\n",
      "          37       1.00      1.00      1.00        24\n",
      "          38       1.00      0.57      0.73         7\n",
      "          39       1.00      0.50      0.67         4\n",
      "          40       1.00      0.37      0.54        19\n",
      "          41       0.74      0.89      0.81        19\n",
      "          43       0.83      0.71      0.77        14\n",
      "          45       1.00      1.00      1.00        22\n",
      "          46       0.90      1.00      0.95         9\n",
      "          47       1.00      0.86      0.92         7\n",
      "          48       0.80      0.80      0.80         5\n",
      "          49       0.71      0.50      0.59        10\n",
      "          51       0.83      0.71      0.77        14\n",
      "          52       1.00      0.60      0.75        15\n",
      "          53       1.00      0.82      0.90        11\n",
      "          54       0.96      1.00      0.98        26\n",
      "          55       1.00      0.60      0.75         5\n",
      "          56       0.63      0.98      0.77       131\n",
      "          57       0.00      0.00      0.00         2\n",
      "          59       1.00      0.82      0.90        11\n",
      "          60       0.94      1.00      0.97        15\n",
      "          61       1.00      0.15      0.25        48\n",
      "          62       1.00      1.00      1.00        27\n",
      "          64       0.82      0.82      0.82        11\n",
      "          65       1.00      0.50      0.67         2\n",
      "          66       0.82      0.82      0.82        11\n",
      "          67       1.00      0.67      0.80         3\n",
      "          68       1.00      1.00      1.00         1\n",
      "          69       0.92      0.69      0.79        16\n",
      "          70       1.00      0.40      0.57        45\n",
      "          71       0.95      0.90      0.92        20\n",
      "          73       0.00      0.00      0.00         1\n",
      "          74       0.91      1.00      0.95        30\n",
      "          75       1.00      0.64      0.78        14\n",
      "          76       0.00      0.00      0.00         2\n",
      "          78       0.00      0.00      0.00         1\n",
      "          79       1.00      0.56      0.72        16\n",
      "          80       0.00      0.00      0.00        11\n",
      "          81       1.00      1.00      1.00        12\n",
      "          83       0.90      0.83      0.86        23\n",
      "          84       1.00      0.25      0.40         4\n",
      "          85       0.83      0.50      0.62        10\n",
      "          86       0.72      0.44      0.55        41\n",
      "          87       1.00      0.86      0.92        21\n",
      "          88       0.81      0.68      0.74        19\n",
      "          90       0.78      0.99      0.87       158\n",
      "          91       0.96      1.00      0.98        24\n",
      "          92       0.92      0.88      0.90        26\n",
      "          93       0.00      0.00      0.00        12\n",
      "          94       1.00      0.40      0.57        10\n",
      "          96       0.86      0.86      0.86         7\n",
      "\n",
      "    accuracy                           0.82      1849\n",
      "   macro avg       0.76      0.60      0.64      1849\n",
      "weighted avg       0.82      0.82      0.79      1849\n",
      "\n"
     ]
    }
   ],
   "source": [
    "print(classification_report(val_labels, pred_labels, zero_division=0.0))"
   ]
  },
  {
   "cell_type": "code",
   "execution_count": 734,
   "id": "edd4c1bf-f881-4c09-8c08-74980863d52e",
   "metadata": {},
   "outputs": [
    {
     "data": {
      "text/plain": [
       "(71,)"
      ]
     },
     "execution_count": 734,
     "metadata": {},
     "output_type": "execute_result"
    }
   ],
   "source": [
    "np.unique(pred_labels).shape"
   ]
  },
  {
   "cell_type": "code",
   "execution_count": 736,
   "id": "b3502a70-3b26-4246-a38f-d05eabf4a8aa",
   "metadata": {},
   "outputs": [],
   "source": [
    "np.save('ThisData.npy',dataS)"
   ]
  },
  {
   "cell_type": "code",
   "execution_count": 20,
   "id": "b0a7c62c-55bd-4593-978c-8305bd14a521",
   "metadata": {},
   "outputs": [],
   "source": [
    "dataS = np.load('ThisData.npy')"
   ]
  },
  {
   "cell_type": "code",
   "execution_count": 21,
   "id": "f28ece14-4d78-49fa-831b-79302d97a9df",
   "metadata": {},
   "outputs": [
    {
     "data": {
      "text/plain": [
       "(9244, 96)"
      ]
     },
     "execution_count": 21,
     "metadata": {},
     "output_type": "execute_result"
    }
   ],
   "source": [
    "dataS.shape"
   ]
  },
  {
   "cell_type": "markdown",
   "id": "89e6a489-ceb7-4101-a442-80cf777a40a4",
   "metadata": {},
   "source": [
    "## Notes\n",
    "For the **sublevel set filtration**\n",
    "- In sublevelset **there is no H_2**\n",
    "- Using only `quantiles[0]` and `charge[0]` yelds 68%, but using all quantiles and all charges yields 84.5%.\n",
    "So maybe use more steps! A finer subdivision of the steps.\n",
    "- It also seems that the more important parts of the quantile function are those close to the **extremes**\n",
    "- Also, maybe move to the residuals wrt a linear regression\n",
    "\n",
    "For the **Alpha filtration**\n",
    "- With 5x5 persistent images, using all 75 columns yields 63%, using only every fifth column yields 60%"
   ]
  },
  {
   "cell_type": "code",
   "execution_count": 547,
   "id": "e9627d77-521c-4a90-abec-65c45876cc3e",
   "metadata": {},
   "outputs": [],
   "source": []
  },
  {
   "cell_type": "code",
   "execution_count": 566,
   "id": "aec640ae-49bd-4868-a8aa-0b6753360523",
   "metadata": {},
   "outputs": [
    {
     "data": {
      "text/plain": [
       "array([], shape=(0, 2), dtype=float64)"
      ]
     },
     "execution_count": 566,
     "metadata": {},
     "output_type": "execute_result"
    }
   ],
   "source": [
    "\n",
    "res[1][4]"
   ]
  },
  {
   "cell_type": "code",
   "execution_count": 572,
   "id": "f8d3ee30-8b06-4ebd-88d0-ab73c7a7b338",
   "metadata": {},
   "outputs": [],
   "source": [
    "source = DataSource( './data/small_sectors/sublevelset_filtrations/train_set/', base_path='./data/small_sectors/sublevelset_filtrations/train_set/')\n",
    "shapes = []\n",
    "\n",
    "for j,s in enumerate(source):\n",
    "    res = np.load( s, allow_pickle=True )\n",
    "\n",
    "    for x in range(8):\n",
    "        shapes.append(res[x+1][4].shape[0])\n",
    "\n"
   ]
  },
  {
   "cell_type": "code",
   "execution_count": 573,
   "id": "61731138-ffa2-45e6-8fd8-0fb11297b873",
   "metadata": {},
   "outputs": [
    {
     "data": {
      "text/plain": [
       "[<matplotlib.lines.Line2D at 0x7f7220b595d0>]"
      ]
     },
     "execution_count": 573,
     "metadata": {},
     "output_type": "execute_result"
    },
    {
     "data": {
      "image/png": "[encoded data removed]",
      "text/plain": [
       "<Figure size 432x288 with 1 Axes>"
      ]
     },
     "metadata": {
      "needs_background": "light"
     },
     "output_type": "display_data"
    }
   ],
   "source": [
    "plt.plot(shapes, '.')"
   ]
  },
  {
   "cell_type": "code",
   "execution_count": 71,
   "id": "230c11df-b67c-4b6b-948b-9a7bbc6f6d97",
   "metadata": {},
   "outputs": [
    {
     "data": {
      "text/plain": [
       "(73952, 96)"
      ]
     },
     "execution_count": 71,
     "metadata": {},
     "output_type": "execute_result"
    }
   ],
   "source": [
    "dataS = np.load('./data/sectors/saved_descriptors/train_set/AugmentedData.npy')\n",
    "dataS.shape"
   ]
  },
  {
   "cell_type": "code",
   "execution_count": 75,
   "id": "6fa85bb4-25cc-44f6-92bf-da38078f070e",
   "metadata": {},
   "outputs": [],
   "source": [
    "dataSNotAug = dataS[ ::8 , :]"
   ]
  },
  {
   "cell_type": "code",
   "execution_count": 80,
   "id": "9503f35d-666b-42b1-a25d-13d6d508ec80",
   "metadata": {},
   "outputs": [],
   "source": [
    "np.save( './data/sectors/saved_descriptors/train_set/TrainData.npy' , dataSNotAug )"
   ]
  },
  {
   "cell_type": "markdown",
   "id": "6614aa20-fc45-4528-8d79-defb62cc6961",
   "metadata": {},
   "source": [
    "# Data Augmentation"
   ]
  },
  {
   "cell_type": "code",
   "execution_count": 48,
   "id": "6d884d4b-1c59-4964-b87f-4723b8ce4bb7",
   "metadata": {},
   "outputs": [],
   "source": [
    "dataS_aug = np.zeros( ( dataS.shape[0] * 8 , dataS.shape[1] ) )"
   ]
  },
  {
   "cell_type": "code",
   "execution_count": 49,
   "id": "5bf31b65-d790-4a3c-b4bd-34b672b1f2ee",
   "metadata": {},
   "outputs": [],
   "source": [
    "for r in range(dataS.shape[0]):\n",
    "    vec = dataS[r,:].reshape(-1)\n",
    "\n",
    "\n",
    "    aug_vec = np.array( spherical_block_permutations(vec, int(dataS.shape[1]/8) ) )\n",
    "    dataS_aug[ 8*r : 8*r + 8 , : ] = aug_vec\n",
    "\n",
    "    "
   ]
  },
  {
   "cell_type": "code",
   "execution_count": 50,
   "id": "fd01b7b4-a813-4b8e-8bc6-0d598003fe01",
   "metadata": {},
   "outputs": [],
   "source": [
    "vec = dataS[r,:].reshape(-1)\n",
    "vec_aug = spherical_block_permutations(vec , 12)"
   ]
  },
  {
   "cell_type": "code",
   "execution_count": 51,
   "id": "72f38854-1909-48c7-b2a0-93031c8bfb8e",
   "metadata": {},
   "outputs": [],
   "source": [
    "np.save('TestAugmentedData.npy', dataS_aug)"
   ]
  },
  {
   "cell_type": "markdown",
   "id": "fdbd1a19-e849-4e4f-a270-c369ea0d1e85",
   "metadata": {},
   "source": [
    "## the labels too"
   ]
  },
  {
   "cell_type": "code",
   "execution_count": 795,
   "id": "ede8502f-2f9c-4c7c-9f51-0f3634d82596",
   "metadata": {},
   "outputs": [],
   "source": [
    "labels_aug = np.column_stack( [labels]*8 )"
   ]
  },
  {
   "cell_type": "code",
   "execution_count": 797,
   "id": "2d293d48-af63-43fe-b9d6-1391619b89ea",
   "metadata": {},
   "outputs": [],
   "source": [
    "labels_aug = labels_aug.reshape(-1)"
   ]
  },
  {
   "cell_type": "code",
   "execution_count": 800,
   "id": "bbeb9a70-4eba-4dd5-b6b7-125a1c398a46",
   "metadata": {},
   "outputs": [],
   "source": [
    "np.save('AugmentedLabels.npy', labels_aug)"
   ]
  },
  {
   "cell_type": "code",
   "execution_count": 789,
   "id": "0bd36437-dcd8-4ab3-bb75-5b99425c01e1",
   "metadata": {},
   "outputs": [],
   "source": [
    "vec = np.array([1,2,3])"
   ]
  },
  {
   "cell_type": "code",
   "execution_count": 791,
   "id": "9d676a6b-8c48-41e6-8f7e-d9c74e77d67d",
   "metadata": {},
   "outputs": [],
   "source": [
    "v = np.column_stack( [ vec ]*8 )"
   ]
  },
  {
   "cell_type": "code",
   "execution_count": 794,
   "id": "bda3668b-1870-48ca-b919-2a9d62e81735",
   "metadata": {},
   "outputs": [
    {
     "data": {
      "text/plain": [
       "array([1, 1, 1, 1, 1, 1, 1, 1, 2, 2, 2, 2, 2, 2, 2, 2, 3, 3, 3, 3, 3, 3,\n",
       "       3, 3])"
      ]
     },
     "execution_count": 794,
     "metadata": {},
     "output_type": "execute_result"
    }
   ],
   "source": [
    "v.reshape(-1)"
   ]
  },
  {
   "cell_type": "markdown",
   "id": "2f8e453a-2430-44d2-82a5-055eaaab8d96",
   "metadata": {},
   "source": [
    "### The encoded data"
   ]
  },
  {
   "cell_type": "code",
   "execution_count": 63,
   "id": "fab46c08-0ffd-46a7-ab5c-5aa10b082563",
   "metadata": {},
   "outputs": [],
   "source": [
    "dataAlpha = np.load( './data/data/saved_descriptors/test_set/AlphaProminentData.npy')"
   ]
  },
  {
   "cell_type": "code",
   "execution_count": 64,
   "id": "8cddee9a-4ee3-40c4-9964-cbfd73795cad",
   "metadata": {},
   "outputs": [],
   "source": [
    "means = np.mean(dataAlpha, axis=0)\n",
    "stds = np.std(dataAlpha, axis=0)"
   ]
  },
  {
   "cell_type": "code",
   "execution_count": 65,
   "id": "ff78b265-496a-47b0-a545-9e2df77fac35",
   "metadata": {},
   "outputs": [
    {
     "data": {
      "text/plain": [
       "<matplotlib.legend.Legend at 0x7fda98b43b20>"
      ]
     },
     "execution_count": 65,
     "metadata": {},
     "output_type": "execute_result"
    },
    {
     "data": {
      "image/png": "[encoded data removed]",
      "text/plain": [
       "<Figure size 432x288 with 1 Axes>"
      ]
     },
     "metadata": {
      "needs_background": "light"
     },
     "output_type": "display_data"
    }
   ],
   "source": [
    "plt.plot(means, '.k', label='mean')\n",
    "plt.plot(stds, '.r',label='std')\n",
    "plt.legend()"
   ]
  },
  {
   "cell_type": "markdown",
   "id": "9780ff5e-9497-43d0-ad02-e6d4668deac6",
   "metadata": {},
   "source": [
    "### Augment: just copy 8 times"
   ]
  },
  {
   "cell_type": "code",
   "execution_count": 66,
   "id": "70e2fa19-ab8b-4c61-86ea-a74df7879822",
   "metadata": {},
   "outputs": [],
   "source": [
    "dataAlpha_aug = np.repeat(dataAlpha, repeats=8, axis=0)"
   ]
  },
  {
   "cell_type": "code",
   "execution_count": 67,
   "id": "b92dbbc8-faf7-45d8-ac18-4698bdd70612",
   "metadata": {},
   "outputs": [],
   "source": [
    "np.save( './data/data/saved_descriptors/test_set/AlphaProminent_aug.npy', dataAlpha_aug)"
   ]
  },
  {
   "cell_type": "markdown",
   "id": "68bf6596-4b6e-496b-9485-d6601a1865c3",
   "metadata": {},
   "source": [
    "### Save test sector data, normalized, not augmented"
   ]
  },
  {
   "cell_type": "code",
   "execution_count": 47,
   "id": "fc549ead-7a34-4e43-ac4a-a473062d911c",
   "metadata": {},
   "outputs": [],
   "source": [
    "np.save('TestSectorData.npy', dataS)"
   ]
  },
  {
   "cell_type": "markdown",
   "id": "77ed1b0b-5535-47ab-8b2e-f13c223515ed",
   "metadata": {},
   "source": [
    "## AlphaProminent data cleaning\n",
    "Instead of using the NN encoder"
   ]
  },
  {
   "cell_type": "code",
   "execution_count": 39,
   "id": "f8bda11c-806b-4df2-94ce-5af771dee0ea",
   "metadata": {},
   "outputs": [],
   "source": [
    "dataAlpha_aug = np.load('./data/data/saved_descriptors/train_set/AlphaProminent_aug.npy')\n",
    "TestDataAlpha_aug = np.load('./data/data/saved_descriptors/test_set/AlphaProminent_aug.npy')\n",
    "\n",
    "labels = np.load('./data/sectors/saved_descriptors/train_set/AugmentedLabels.npy')"
   ]
  },
  {
   "cell_type": "markdown",
   "id": "678ca9db-0251-4114-be04-be53211fb5a2",
   "metadata": {},
   "source": [
    "- The variance is too small in the last features (concerning $H_2$ of the alpha filtration). **REMOVE** features with stardard deviation less than .01, which happen to be the last 16 entries\n",
    "- There is significant correlation between the $H_0$ features (the first 25). In particular, these are 5x5 set of blocks on the persistence diagram, and within each row (or column?) there is basically no variance. So for the first 25 features, only keep one every 5. And then, decorrelate them"
   ]
  },
  {
   "cell_type": "code",
   "execution_count": 23,
   "id": "d4bd6ff1-28ea-4f16-a03f-0269e8f2cb47",
   "metadata": {
    "scrolled": true
   },
   "outputs": [],
   "source": [
    "means = np.mean(dataAlpha_aug, axis = 0)\n",
    "stds = np.std(dataAlpha_aug, axis = 0)"
   ]
  },
  {
   "cell_type": "code",
   "execution_count": 24,
   "id": "63cbb756-0340-4fcb-9967-8c3bb7ad3886",
   "metadata": {},
   "outputs": [
    {
     "data": {
      "text/plain": [
       "<matplotlib.legend.Legend at 0x7eecad7b5210>"
      ]
     },
     "execution_count": 24,
     "metadata": {},
     "output_type": "execute_result"
    },
    {
     "data": {
      "image/png": "[encoded data removed]",
      "text/plain": [
       "<Figure size 432x288 with 1 Axes>"
      ]
     },
     "metadata": {
      "needs_background": "light"
     },
     "output_type": "display_data"
    }
   ],
   "source": [
    "plt.plot(means,'.k', label='Mean')\n",
    "plt.plot(stds,'.r', label='Std')\n",
    "plt.legend()"
   ]
  },
  {
   "cell_type": "code",
   "execution_count": 26,
   "id": "ba0bc7ed-d12a-45ba-b104-905cf3c677e3",
   "metadata": {
    "scrolled": true
   },
   "outputs": [],
   "source": [
    "TestMeans = np.mean(TestDataAlpha_aug, axis = 0)\n",
    "TestStds = np.std(TestDataAlpha_aug, axis = 0)"
   ]
  },
  {
   "cell_type": "code",
   "execution_count": 27,
   "id": "45ad5a3e-3cb9-4076-992e-5d542ba97073",
   "metadata": {},
   "outputs": [
    {
     "data": {
      "text/plain": [
       "<matplotlib.legend.Legend at 0x7eecad7b47c0>"
      ]
     },
     "execution_count": 27,
     "metadata": {},
     "output_type": "execute_result"
    },
    {
     "data": {
      "image/png": "[encoded data removed]",
      "text/plain": [
       "<Figure size 432x288 with 1 Axes>"
      ]
     },
     "metadata": {
      "needs_background": "light"
     },
     "output_type": "display_data"
    }
   ],
   "source": [
    "plt.plot(TestMeans,'.k', label='Mean')\n",
    "plt.plot(TestStds,'.r', label='Std')\n",
    "plt.legend()"
   ]
  },
  {
   "cell_type": "code",
   "execution_count": 41,
   "id": "00d79c45-fe95-4752-b93f-3ecaadeedd13",
   "metadata": {},
   "outputs": [
    {
     "data": {
      "text/plain": [
       "array([[59],\n",
       "       [60],\n",
       "       [61],\n",
       "       [62],\n",
       "       [63],\n",
       "       [64],\n",
       "       [65],\n",
       "       [66],\n",
       "       [67],\n",
       "       [68],\n",
       "       [69],\n",
       "       [70],\n",
       "       [71],\n",
       "       [72],\n",
       "       [73],\n",
       "       [74]])"
      ]
     },
     "execution_count": 41,
     "metadata": {},
     "output_type": "execute_result"
    }
   ],
   "source": [
    "np.argwhere(TestStds < .01)"
   ]
  },
  {
   "cell_type": "code",
   "execution_count": null,
   "id": "e15c7049-0f9a-455c-b75c-b7beaf982697",
   "metadata": {},
   "outputs": [],
   "source": []
  },
  {
   "cell_type": "markdown",
   "id": "b1e77312-c59a-46a6-b72a-212022d5fb6d",
   "metadata": {},
   "source": [
    "### Visualize correlations"
   ]
  },
  {
   "cell_type": "code",
   "execution_count": 68,
   "id": "369a9d5a-6fd1-4ba1-9044-cfad5ed061b3",
   "metadata": {},
   "outputs": [],
   "source": [
    "import numpy as np\n",
    "import matplotlib.pyplot as plt\n",
    "import seaborn as sns\n",
    "from sklearn.linear_model import LinearRegression\n",
    "\n",
    "\n",
    "n, p = CleandataAlpha_aug.shape[0], CleandataAlpha_aug.shape[1]\n",
    "\n",
    "\n",
    "# Initialize R^2 matrix\n",
    "R2_matrix = np.zeros((p, p))\n",
    "\n",
    "# Compute R^2 for each pair of features\n",
    "for i in range(p):\n",
    "    for j in range(p):\n",
    "        if i == j:\n",
    "            R2_matrix[i, j] = 1.0  # R^2 of a feature with itself is 1\n",
    "\n",
    "        if j < i:\n",
    "            R2_matrix[i, j] = R2_matrix[j, i]\n",
    "        else:\n",
    "            model = LinearRegression().fit(CleandataAlpha_aug[:, i].reshape(-1, 1), CleandataAlpha_aug[:, j])\n",
    "            R2_matrix[i, j] = model.score(CleandataAlpha_aug[:, i].reshape(-1, 1), CleandataAlpha_aug[:, j])"
   ]
  },
  {
   "cell_type": "code",
   "execution_count": 69,
   "id": "3b726cf5-bbbd-4a07-b5d9-1cf5309e3686",
   "metadata": {},
   "outputs": [
    {
     "data": {
      "image/png": "[encoded data removed]",
      "text/plain": [
       "<Figure size 576x432 with 2 Axes>"
      ]
     },
     "metadata": {
      "needs_background": "light"
     },
     "output_type": "display_data"
    }
   ],
   "source": [
    "# Plot the matrix\n",
    "plt.figure(figsize=(8, 6))\n",
    "sns.heatmap(R2_matrix, annot=False, cmap=\"coolwarm\", fmt=\".2f\", square=True)\n",
    "plt.title(\"$R^2$ Matrix of Feature Correlations\")\n",
    "plt.xlabel(\"Feature Index\")\n",
    "plt.ylabel(\"Feature Index\")\n",
    "plt.show()"
   ]
  },
  {
   "cell_type": "markdown",
   "id": "4cdcc8ff-e9f7-4484-b1af-70d2744a10cd",
   "metadata": {},
   "source": [
    "### Cleaned Data"
   ]
  },
  {
   "cell_type": "code",
   "execution_count": 70,
   "id": "3794667b-8c7e-4725-9ed8-783702022d14",
   "metadata": {},
   "outputs": [],
   "source": [
    "CleandataAlpha_aug = np.concatenate( [ dataAlpha_aug[:, 0:25:5] , dataAlpha_aug[:, 25:-16] ] , axis=1)"
   ]
  },
  {
   "cell_type": "code",
   "execution_count": 76,
   "id": "21fc2592-a936-44da-a5ca-69ad48730332",
   "metadata": {},
   "outputs": [],
   "source": [
    "CleanTestDataAlpha_aug = np.concatenate( [ TestDataAlpha_aug[:, 0:25:5] , TestDataAlpha_aug[:, 25:-16] ] , axis=1)"
   ]
  },
  {
   "cell_type": "code",
   "execution_count": 80,
   "id": "8a611cb0-b66f-4d96-80e8-f1280db01091",
   "metadata": {},
   "outputs": [
    {
     "data": {
      "text/plain": [
       "9244.0"
      ]
     },
     "execution_count": 80,
     "metadata": {},
     "output_type": "execute_result"
    }
   ],
   "source": [
    "CleandataAlpha_aug.shape[0]/8"
   ]
  },
  {
   "cell_type": "code",
   "execution_count": 79,
   "id": "7ffdcf12-35b7-4732-b6a4-a2aeaa1752d1",
   "metadata": {},
   "outputs": [
    {
     "data": {
      "text/plain": [
       "2321.0"
      ]
     },
     "execution_count": 79,
     "metadata": {},
     "output_type": "execute_result"
    }
   ],
   "source": [
    "CleanTestDataAlpha_aug"
   ]
  },
  {
   "cell_type": "code",
   "execution_count": 47,
   "id": "631fa547-b046-4472-b32a-5ae66c3949af",
   "metadata": {},
   "outputs": [
    {
     "data": {
      "text/plain": [
       "array([2.37102801e+01, 1.49555627e+01, 3.67534080e+00, 4.44275249e-01,\n",
       "       1.71794231e-01, 1.76362711e+01, 2.29212661e-01, 2.74466531e-01,\n",
       "       1.14852061e-11, 1.64770287e-01, 8.08282491e-01, 2.03689693e-01,\n",
       "       1.80888582e-02, 4.49692317e-12, 9.97177316e-03, 1.94813563e-04,\n",
       "       1.18207830e-01, 9.35316504e-06, 2.70354960e-15, 1.99411101e-06,\n",
       "       3.05971096e-04, 4.34009110e-02, 7.39627049e-09, 2.49398869e-21,\n",
       "       1.38981476e-12, 3.98574255e-05, 4.31774593e-05, 1.67610532e-14,\n",
       "       3.52936551e-30, 1.88931637e-21, 1.19600606e+00, 7.89140397e-01,\n",
       "       3.78969109e-01, 9.85365873e-02, 2.22069687e-01, 1.06092717e-18,\n",
       "       2.40776654e-04, 3.99682382e-22, 1.00926543e-21])"
      ]
     },
     "execution_count": 47,
     "metadata": {},
     "output_type": "execute_result"
    }
   ],
   "source": [
    "CleandataAlpha_aug[0,:]"
   ]
  },
  {
   "cell_type": "code",
   "execution_count": 72,
   "id": "6c5be261-c25d-4af2-94d5-3f1fbb922c0f",
   "metadata": {
    "scrolled": true
   },
   "outputs": [],
   "source": [
    "means = np.mean(CleandataAlpha_aug, axis = 0)\n",
    "stds = np.std(CleandataAlpha_aug, axis = 0)"
   ]
  },
  {
   "cell_type": "code",
   "execution_count": 73,
   "id": "9e8d28e2-b66e-4a48-b411-a160f016f083",
   "metadata": {},
   "outputs": [
    {
     "data": {
      "text/plain": [
       "<matplotlib.legend.Legend at 0x7eec47f470d0>"
      ]
     },
     "execution_count": 73,
     "metadata": {},
     "output_type": "execute_result"
    },
    {
     "data": {
      "image/png": "[encoded data removed]",
      "text/plain": [
       "<Figure size 432x288 with 1 Axes>"
      ]
     },
     "metadata": {
      "needs_background": "light"
     },
     "output_type": "display_data"
    }
   ],
   "source": [
    "plt.plot(means,'.k', label='Mean')\n",
    "plt.plot(stds,'.r', label='Std')\n",
    "plt.legend()"
   ]
  },
  {
   "cell_type": "code",
   "execution_count": 60,
   "id": "bbfd3fb4-910d-499d-abdf-948bf967197d",
   "metadata": {},
   "outputs": [
    {
     "data": {
      "text/plain": [
       "array([2.37102801e+001, 2.37102801e+001, 2.37102801e+001, 2.37102801e+001,\n",
       "       2.37102801e+001, 1.49555627e+001, 1.49555627e+001, 1.49555627e+001,\n",
       "       1.49555627e+001, 1.49555627e+001, 3.67534080e+000, 3.67534080e+000,\n",
       "       3.67534080e+000, 3.67534080e+000, 3.67534080e+000, 4.44275249e-001,\n",
       "       4.44275249e-001, 4.44275249e-001, 4.44275249e-001, 4.44275249e-001,\n",
       "       1.71794231e-001, 1.71794231e-001, 1.71794231e-001, 1.71794231e-001,\n",
       "       1.71794231e-001, 1.76362711e+001, 2.29212661e-001, 2.74466531e-001,\n",
       "       1.14852061e-011, 1.64770287e-001, 8.08282491e-001, 2.03689693e-001,\n",
       "       1.80888582e-002, 4.49692317e-012, 9.97177316e-003, 1.94813563e-004,\n",
       "       1.18207830e-001, 9.35316504e-006, 2.70354960e-015, 1.99411101e-006,\n",
       "       3.05971096e-004, 4.34009110e-002, 7.39627049e-009, 2.49398869e-021,\n",
       "       1.38981476e-012, 3.98574255e-005, 4.31774593e-005, 1.67610532e-014,\n",
       "       3.52936551e-030, 1.88931637e-021, 1.19600606e+000, 7.89140397e-001,\n",
       "       3.78969109e-001, 9.85365873e-002, 2.22069687e-001, 1.06092717e-018,\n",
       "       2.40776654e-004, 3.99682382e-022, 1.00926543e-021, 4.78305102e-032,\n",
       "       1.75321993e-070, 7.07449984e-017, 4.56960132e-013, 7.37273052e-073,\n",
       "       1.63366624e-127, 6.67820497e-035, 1.91381921e-023, 1.23618505e-019,\n",
       "       1.99449768e-079, 8.03805655e-203, 1.57810858e-001, 1.20617774e-032,\n",
       "       5.98872527e-093, 9.66238727e-153, 3.89405393e-276])"
      ]
     },
     "execution_count": 60,
     "metadata": {},
     "output_type": "execute_result"
    }
   ],
   "source": [
    "dataAlpha_aug[0,:]"
   ]
  },
  {
   "cell_type": "code",
   "execution_count": 81,
   "id": "17110582-0cf7-4662-99a0-919dcf97fac4",
   "metadata": {
    "scrolled": true
   },
   "outputs": [],
   "source": [
    "means = np.mean(CleanTestDataAlpha_aug, axis = 0)\n",
    "stds = np.std(CleanTestDataAlpha_aug, axis = 0)"
   ]
  },
  {
   "cell_type": "code",
   "execution_count": 82,
   "id": "a6b5b809-4302-475b-9756-cc7e00945c0b",
   "metadata": {},
   "outputs": [
    {
     "data": {
      "text/plain": [
       "<matplotlib.legend.Legend at 0x7eec482c02b0>"
      ]
     },
     "execution_count": 82,
     "metadata": {},
     "output_type": "execute_result"
    },
    {
     "data": {
      "image/png": "[encoded data removed]",
      "text/plain": [
       "<Figure size 432x288 with 1 Axes>"
      ]
     },
     "metadata": {
      "needs_background": "light"
     },
     "output_type": "display_data"
    }
   ],
   "source": [
    "plt.plot(means,'.k', label='Mean')\n",
    "plt.plot(stds,'.r', label='Std')\n",
    "plt.legend()"
   ]
  },
  {
   "cell_type": "code",
   "execution_count": 63,
   "id": "19e95acc-0350-40a2-a9c4-4aaf451de113",
   "metadata": {},
   "outputs": [
    {
     "data": {
      "text/plain": [
       "(39,)"
      ]
     },
     "execution_count": 63,
     "metadata": {},
     "output_type": "execute_result"
    }
   ],
   "source": [
    "CleandataAlpha_aug[0,:].shape"
   ]
  },
  {
   "cell_type": "code",
   "execution_count": 62,
   "id": "c0d366c8-a882-4647-995d-fe5b925dfc1c",
   "metadata": {},
   "outputs": [
    {
     "data": {
      "text/plain": [
       "array([23.71028008, 14.95556266,  3.6753408 ,  0.44427525,  0.17179423])"
      ]
     },
     "execution_count": 62,
     "metadata": {},
     "output_type": "execute_result"
    }
   ],
   "source": [
    "dataAlpha_aug[0, 0:25:5]"
   ]
  },
  {
   "cell_type": "code",
   "execution_count": 83,
   "id": "4328346b-4f98-4044-b08c-946674590c43",
   "metadata": {},
   "outputs": [],
   "source": [
    "np.save('./data/data/saved_descriptors/train_set/CleanAlphaProminent_aug.npy', CleandataAlpha_aug)"
   ]
  },
  {
   "cell_type": "code",
   "execution_count": 84,
   "id": "6b24a89f-3f93-4c4b-83d7-ea76fb2e8e8b",
   "metadata": {},
   "outputs": [],
   "source": [
    "np.save('./data/data/saved_descriptors/test_set/CleanAlphaProminent_aug.npy', CleanTestDataAlpha_aug)"
   ]
  },
  {
   "cell_type": "code",
   "execution_count": null,
   "id": "ad0b7145-db11-42ee-b73d-4dfae8d18511",
   "metadata": {},
   "outputs": [],
   "source": []
  }
 ],
 "metadata": {
  "kernelspec": {
   "display_name": "Python 3 (ipykernel)",
   "language": "python",
   "name": "python3"
  },
  "language_info": {
   "codemirror_mode": {
    "name": "ipython",
    "version": 3
   },
   "file_extension": ".py",
   "mimetype": "text/x-python",
   "name": "python",
   "nbconvert_exporter": "python",
   "pygments_lexer": "ipython3",
   "version": "3.10.12"
  }
 },
 "nbformat": 4,
 "nbformat_minor": 5
}
